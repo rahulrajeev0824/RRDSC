{
 "cells": [
  {
   "cell_type": "markdown",
   "id": "7d698255",
   "metadata": {},
   "source": [
    "# DSC530 Final Project: Early Data Analysis on Hazardous Asteroids\n",
    "# Rahul Rajeev\n",
    "\n",
    "**Objective:** To perform some early data analysis on Asteroid Data that have been classified as hazardous and nonhazardous to impact on Earth. \n",
    "\n",
    "**Summary:** Potentially Hazardous Asteroids or PHAs are classfied based on parameters that measure it's potential to make dangerously close approaches to the Earth. All asteroids with an Earth Minimum Orbit Intersection Distance (MOID) of 0.05 AU (astronomical units) or less and an absolute magnitude (unitless) of 22 or less are considered PHAs. Asteroids that don't fit under these conditions and smaller than 140 m in diameter are not considered PHAs. "
   ]
  },
  {
   "cell_type": "code",
   "execution_count": 2,
   "id": "aa2839d6",
   "metadata": {},
   "outputs": [],
   "source": [
    "# importing packages\n",
    "import scipy.stats\n",
    "import numpy as np\n",
    "import thinkstats2\n",
    "import thinkplot\n",
    "import pandas as pd\n",
    "import matplotlib.pyplot as plt\n",
    "from matplotlib import colors"
   ]
  },
  {
   "cell_type": "markdown",
   "id": "8c4b2ddc",
   "metadata": {},
   "source": [
    "The dataset can be found at this link: \n",
    "https://www.kaggle.com/datasets/shrushtijoshi/asteroid-impacts."
   ]
  },
  {
   "cell_type": "code",
   "execution_count": 3,
   "id": "c109e1c5",
   "metadata": {},
   "outputs": [],
   "source": [
    "# reading the dataset\n",
    "orbit_df = pd.read_csv('orbits.csv')"
   ]
  },
  {
   "cell_type": "code",
   "execution_count": 4,
   "id": "be966791",
   "metadata": {},
   "outputs": [
    {
     "data": {
      "text/html": [
       "<div>\n",
       "<style scoped>\n",
       "    .dataframe tbody tr th:only-of-type {\n",
       "        vertical-align: middle;\n",
       "    }\n",
       "\n",
       "    .dataframe tbody tr th {\n",
       "        vertical-align: top;\n",
       "    }\n",
       "\n",
       "    .dataframe thead th {\n",
       "        text-align: right;\n",
       "    }\n",
       "</style>\n",
       "<table border=\"1\" class=\"dataframe\">\n",
       "  <thead>\n",
       "    <tr style=\"text-align: right;\">\n",
       "      <th></th>\n",
       "      <th>Object Name</th>\n",
       "      <th>Epoch (TDB)</th>\n",
       "      <th>Orbit Axis (AU)</th>\n",
       "      <th>Orbit Eccentricity</th>\n",
       "      <th>Orbit Inclination (deg)</th>\n",
       "      <th>Perihelion Argument (deg)</th>\n",
       "      <th>Node Longitude (deg)</th>\n",
       "      <th>Mean Anomoly (deg)</th>\n",
       "      <th>Perihelion Distance (AU)</th>\n",
       "      <th>Aphelion Distance (AU)</th>\n",
       "      <th>Orbital Period (yr)</th>\n",
       "      <th>Minimum Orbit Intersection Distance (AU)</th>\n",
       "      <th>Orbital Reference</th>\n",
       "      <th>Asteroid Magnitude</th>\n",
       "      <th>Classification</th>\n",
       "      <th>Hazardous</th>\n",
       "    </tr>\n",
       "  </thead>\n",
       "  <tbody>\n",
       "    <tr>\n",
       "      <th>0</th>\n",
       "      <td>433 Eros</td>\n",
       "      <td>57800</td>\n",
       "      <td>1.4579</td>\n",
       "      <td>0.2226</td>\n",
       "      <td>10.8277</td>\n",
       "      <td>178.8050</td>\n",
       "      <td>304.3265</td>\n",
       "      <td>319.3111</td>\n",
       "      <td>1.1335</td>\n",
       "      <td>1.78</td>\n",
       "      <td>1.76</td>\n",
       "      <td>0.1492</td>\n",
       "      <td>598</td>\n",
       "      <td>11.16</td>\n",
       "      <td>Amor Asteroid</td>\n",
       "      <td>False</td>\n",
       "    </tr>\n",
       "    <tr>\n",
       "      <th>1</th>\n",
       "      <td>719 Albert</td>\n",
       "      <td>57800</td>\n",
       "      <td>2.6385</td>\n",
       "      <td>0.5479</td>\n",
       "      <td>11.5822</td>\n",
       "      <td>156.1409</td>\n",
       "      <td>183.9204</td>\n",
       "      <td>224.5535</td>\n",
       "      <td>1.1928</td>\n",
       "      <td>4.08</td>\n",
       "      <td>4.29</td>\n",
       "      <td>0.2004</td>\n",
       "      <td>78</td>\n",
       "      <td>15.50</td>\n",
       "      <td>Amor Asteroid</td>\n",
       "      <td>False</td>\n",
       "    </tr>\n",
       "    <tr>\n",
       "      <th>2</th>\n",
       "      <td>887 Alinda</td>\n",
       "      <td>57800</td>\n",
       "      <td>2.4787</td>\n",
       "      <td>0.5671</td>\n",
       "      <td>9.3561</td>\n",
       "      <td>350.3482</td>\n",
       "      <td>110.5444</td>\n",
       "      <td>351.3730</td>\n",
       "      <td>1.0731</td>\n",
       "      <td>3.88</td>\n",
       "      <td>3.90</td>\n",
       "      <td>0.0925</td>\n",
       "      <td>188</td>\n",
       "      <td>13.40</td>\n",
       "      <td>Amor Asteroid</td>\n",
       "      <td>False</td>\n",
       "    </tr>\n",
       "    <tr>\n",
       "      <th>3</th>\n",
       "      <td>1036 Ganymed</td>\n",
       "      <td>57800</td>\n",
       "      <td>2.6628</td>\n",
       "      <td>0.5338</td>\n",
       "      <td>26.6929</td>\n",
       "      <td>132.4690</td>\n",
       "      <td>215.5551</td>\n",
       "      <td>92.5640</td>\n",
       "      <td>1.2413</td>\n",
       "      <td>4.08</td>\n",
       "      <td>4.35</td>\n",
       "      <td>0.3421</td>\n",
       "      <td>597</td>\n",
       "      <td>9.45</td>\n",
       "      <td>Amor Asteroid</td>\n",
       "      <td>False</td>\n",
       "    </tr>\n",
       "    <tr>\n",
       "      <th>4</th>\n",
       "      <td>1221 Amor</td>\n",
       "      <td>57800</td>\n",
       "      <td>1.9191</td>\n",
       "      <td>0.4356</td>\n",
       "      <td>11.8795</td>\n",
       "      <td>26.6572</td>\n",
       "      <td>171.3448</td>\n",
       "      <td>313.7379</td>\n",
       "      <td>1.0832</td>\n",
       "      <td>2.76</td>\n",
       "      <td>2.66</td>\n",
       "      <td>0.1068</td>\n",
       "      <td>70</td>\n",
       "      <td>17.70</td>\n",
       "      <td>Amor Asteroid</td>\n",
       "      <td>False</td>\n",
       "    </tr>\n",
       "  </tbody>\n",
       "</table>\n",
       "</div>"
      ],
      "text/plain": [
       "    Object Name  Epoch (TDB)  Orbit Axis (AU)  Orbit Eccentricity  \\\n",
       "0      433 Eros        57800           1.4579              0.2226   \n",
       "1    719 Albert        57800           2.6385              0.5479   \n",
       "2    887 Alinda        57800           2.4787              0.5671   \n",
       "3  1036 Ganymed        57800           2.6628              0.5338   \n",
       "4     1221 Amor        57800           1.9191              0.4356   \n",
       "\n",
       "   Orbit Inclination (deg)  Perihelion Argument (deg)  Node Longitude (deg)  \\\n",
       "0                  10.8277                   178.8050              304.3265   \n",
       "1                  11.5822                   156.1409              183.9204   \n",
       "2                   9.3561                   350.3482              110.5444   \n",
       "3                  26.6929                   132.4690              215.5551   \n",
       "4                  11.8795                    26.6572              171.3448   \n",
       "\n",
       "   Mean Anomoly (deg)  Perihelion Distance (AU)  Aphelion Distance (AU)  \\\n",
       "0            319.3111                    1.1335                    1.78   \n",
       "1            224.5535                    1.1928                    4.08   \n",
       "2            351.3730                    1.0731                    3.88   \n",
       "3             92.5640                    1.2413                    4.08   \n",
       "4            313.7379                    1.0832                    2.76   \n",
       "\n",
       "   Orbital Period (yr)  Minimum Orbit Intersection Distance (AU)  \\\n",
       "0                 1.76                                    0.1492   \n",
       "1                 4.29                                    0.2004   \n",
       "2                 3.90                                    0.0925   \n",
       "3                 4.35                                    0.3421   \n",
       "4                 2.66                                    0.1068   \n",
       "\n",
       "   Orbital Reference  Asteroid Magnitude Classification  Hazardous  \n",
       "0                598               11.16  Amor Asteroid      False  \n",
       "1                 78               15.50  Amor Asteroid      False  \n",
       "2                188               13.40  Amor Asteroid      False  \n",
       "3                597                9.45  Amor Asteroid      False  \n",
       "4                 70               17.70  Amor Asteroid      False  "
      ]
     },
     "execution_count": 4,
     "metadata": {},
     "output_type": "execute_result"
    }
   ],
   "source": [
    "orbit_df.head()"
   ]
  },
  {
   "cell_type": "markdown",
   "id": "414a952f",
   "metadata": {},
   "source": [
    "# Ch 1 - Choosing and Describing Variables"
   ]
  },
  {
   "cell_type": "markdown",
   "id": "8f5ef258",
   "metadata": {},
   "source": [
    "There are many variables in this data set from the object name to its MOID, but for this analysis, we will be focusing on five specifically. The orbit distance, Asteroid Magnitude, Minimum Orbit Intersection Distance (MOID), Mean Anomoly, and Orbital Period.\n",
    "\n",
    "**Explanations:**\n",
    "- Orbit: describes the orbit distance from the Sun in astronomical units (AU)\n",
    "- Asteroid Magnitude: the visual brightness of the asteroid if measured 1 AU\n",
    "- Mean Anomaly: the mean angle between the asteroid orbit and earth orbit\n",
    "- Minimum Orbit Intersection Distance: how close the orbit of the asteroid will come into Earth's orbit\n",
    "- Orbital Period: how many years it will take for the asteroid to complete one orbit"
   ]
  },
  {
   "cell_type": "markdown",
   "id": "8f23d6f9",
   "metadata": {},
   "source": [
    "**Q:** Include a histogram of each of the 5 variables – in your summary and analysis, identify any outliers and explain the reasoning for them being outliers and how you believe they should be handled (Chapter 2)."
   ]
  },
  {
   "cell_type": "code",
   "execution_count": 5,
   "id": "25069e47",
   "metadata": {},
   "outputs": [],
   "source": [
    "# splitting the dataset by characteristics\n",
    "\n",
    "orbit = orbit_df['Orbit Axis (AU)']\n",
    "magnitudes = orbit_df['Asteroid Magnitude']\n",
    "mean_anomaly = orbit_df['Mean Anomoly (deg)']\n",
    "moid = orbit_df['Minimum Orbit Intersection Distance (AU)']\n",
    "period = orbit_df['Orbital Period (yr)']\n"
   ]
  },
  {
   "cell_type": "markdown",
   "id": "7db52f1b",
   "metadata": {},
   "source": [
    "# Ch 2 - Plotting Histograms, Outliers, and Descriptive Statistics"
   ]
  },
  {
   "cell_type": "markdown",
   "id": "7fbb1428",
   "metadata": {},
   "source": [
    "### Orbit"
   ]
  },
  {
   "cell_type": "code",
   "execution_count": 6,
   "id": "798045ac",
   "metadata": {},
   "outputs": [
    {
     "data": {
      "text/plain": [
       "Text(0, 0.5, 'Frequency')"
      ]
     },
     "execution_count": 6,
     "metadata": {},
     "output_type": "execute_result"
    },
    {
     "data": {
      "image/png": "[encoded data removed]",
      "text/plain": [
       "<Figure size 864x576 with 1 Axes>"
      ]
     },
     "metadata": {
      "needs_background": "light"
     },
     "output_type": "display_data"
    }
   ],
   "source": [
    "# Orbit Histogram\n",
    "\n",
    "# figure size\n",
    "plt.figure(figsize = (12,8))\n",
    "\n",
    "# histogram function with appropriate bins to contain main distribution\n",
    "plt.hist(orbit, bins = np.linspace(0,5,11), color = 'grey', edgecolor = 'black', linewidth = 1, align = 'left')\n",
    "\n",
    "# tick markers and limiting the distribution range to show data\n",
    "plt.xticks(np.linspace(0,5,11))\n",
    "plt.xlim(0,5)\n",
    "\n",
    "# labels\n",
    "plt.xlabel('Orbit (AU)')\n",
    "plt.ylabel('Frequency')"
   ]
  },
  {
   "cell_type": "code",
   "execution_count": 7,
   "id": "dff6d71d",
   "metadata": {},
   "outputs": [
    {
     "data": {
      "text/plain": [
       "Text(0, 0.5, 'Orbit(AU)')"
      ]
     },
     "execution_count": 7,
     "metadata": {},
     "output_type": "execute_result"
    },
    {
     "data": {
      "image/png": "[encoded data removed]",
      "text/plain": [
       "<Figure size 432x288 with 1 Axes>"
      ]
     },
     "metadata": {
      "needs_background": "light"
     },
     "output_type": "display_data"
    }
   ],
   "source": [
    "# Finding outliers\n",
    "plt.boxplot(orbit)\n",
    "plt.ylabel('Orbit(AU)')"
   ]
  },
  {
   "cell_type": "markdown",
   "id": "e8f63d97",
   "metadata": {},
   "source": [
    "As evident by the boxplot, there are quite a bit of outliers outside the main IQR of the dataset. The reason why there are so many outliers outside of the main distribution above 4.5 au is because its very hard to detect asteroids outside of this range. And when it is possible given the certain minimum orbit intersection distance, the asteroids could be on varying orbit lengths around the Sun."
   ]
  },
  {
   "cell_type": "code",
   "execution_count": 8,
   "id": "5581ae38",
   "metadata": {},
   "outputs": [
    {
     "data": {
      "text/plain": [
       "count    15635.000000\n",
       "mean         1.781002\n",
       "std          0.603229\n",
       "min          0.547600\n",
       "25%          1.323600\n",
       "50%          1.735500\n",
       "75%          2.208650\n",
       "max         21.395400\n",
       "Name: Orbit Axis (AU), dtype: float64"
      ]
     },
     "execution_count": 8,
     "metadata": {},
     "output_type": "execute_result"
    }
   ],
   "source": [
    "# Summary Statistics\n",
    "orbit.describe()"
   ]
  },
  {
   "cell_type": "markdown",
   "id": "b52ddf65",
   "metadata": {},
   "source": [
    "By using the built in describe function from pandas, I found the mean orbit distance to be 1.78 AU, the standard deviation to be 0.60 au, min to be 0.54 AU and the max to be 21.39 AU. Values between 21.39 and the right end of the distribution since the mean is 1.78 AU should be considered outliers. The 75th quantile is at 2.2, which means a majority of the data is within a smaller orbit distance."
   ]
  },
  {
   "cell_type": "code",
   "execution_count": 9,
   "id": "54e7a0ed",
   "metadata": {},
   "outputs": [
    {
     "data": {
      "text/plain": [
       "(3.767753181592225, 103.60888561655565)"
      ]
     },
     "execution_count": 9,
     "metadata": {},
     "output_type": "execute_result"
    }
   ],
   "source": [
    "orbit.skew(), orbit.kurtosis()"
   ]
  },
  {
   "cell_type": "markdown",
   "id": "28590ed6",
   "metadata": {},
   "source": [
    "Skewness is above 1, which means highly skewed left and the kurtosis is large and heavy tailed. The distribution is seen to be peaked on the left with outliers past the main distribution from 4.5 AU out to the max of 21.4 AU. "
   ]
  },
  {
   "cell_type": "markdown",
   "id": "4f4c8328",
   "metadata": {},
   "source": [
    "### Magnitude"
   ]
  },
  {
   "cell_type": "code",
   "execution_count": 10,
   "id": "d1adf767",
   "metadata": {},
   "outputs": [
    {
     "data": {
      "image/png": "[encoded data removed]",
      "text/plain": [
       "<Figure size 864x576 with 1 Axes>"
      ]
     },
     "metadata": {
      "needs_background": "light"
     },
     "output_type": "display_data"
    }
   ],
   "source": [
    "# Magnitude Histogram\n",
    "\n",
    "# figure size\n",
    "plt.figure(figsize = (12,8))\n",
    "\n",
    "# histogram function\n",
    "plt.hist(magnitudes, bins = [*range(10,40,1)], color = 'lightblue', edgecolor = 'black', linewidth = 1)\n",
    "\n",
    "#creating ticks that work for the set of values we have\n",
    "xticks = [*range(10,40,1)]\n",
    "plt.xticks(ticks=xticks)\n",
    "\n",
    "# labels\n",
    "plt.xlabel('Magnitude (unitless)')\n",
    "plt.ylabel('Frequency')\n",
    "\n",
    "# show figure\n",
    "plt.show()"
   ]
  },
  {
   "cell_type": "code",
   "execution_count": 11,
   "id": "44ff1078",
   "metadata": {
    "scrolled": true
   },
   "outputs": [
    {
     "data": {
      "text/plain": [
       "Text(0, 0.5, 'Magnitude')"
      ]
     },
     "execution_count": 11,
     "metadata": {},
     "output_type": "execute_result"
    },
    {
     "data": {
      "image/png": "[encoded data removed]",
      "text/plain": [
       "<Figure size 432x288 with 1 Axes>"
      ]
     },
     "metadata": {
      "needs_background": "light"
     },
     "output_type": "display_data"
    }
   ],
   "source": [
    "# was having issues with the boxplot and found the issue to having NaN values, I dropped them\n",
    "new_mag = magnitudes.dropna()\n",
    "\n",
    "# a helper function that let me know if there was anymore NaN values\n",
    "if np.isnan(new_mag).any():\n",
    "    print(\"There are NaN values\")\n",
    "\n",
    "plt.boxplot(new_mag)\n",
    "plt.ylabel('Magnitude')"
   ]
  },
  {
   "cell_type": "markdown",
   "id": "5dea1df9",
   "metadata": {},
   "source": [
    "There are a couple of outliers outside the main IQR. But they aren't very large outliers, and still seem to fit the main distribution. Just to make sure, I calculated upper and lower fences which is given by a +/- of 7.05 to the first and third quartile. The minimum is 3 below the lower fence, and the max is 2 above the upper fence. The outliers aren't far off, so even though they are by definition an outlier, they seem to fit the distribution as mentioned before. These 'outliers' will not have a scientific explanation as they are realistic values for the apparent value of an asteroid, being dim or bright. "
   ]
  },
  {
   "cell_type": "code",
   "execution_count": 12,
   "id": "9bc61e43",
   "metadata": {},
   "outputs": [
    {
     "data": {
      "text/plain": [
       "count    15634.000000\n",
       "mean        22.286336\n",
       "std          3.016002\n",
       "min          9.450000\n",
       "25%         19.900000\n",
       "50%         22.200000\n",
       "75%         24.600000\n",
       "max         33.200000\n",
       "Name: Asteroid Magnitude, dtype: float64"
      ]
     },
     "execution_count": 12,
     "metadata": {},
     "output_type": "execute_result"
    }
   ],
   "source": [
    "# Summary Statistics\n",
    "new_mag.describe()"
   ]
  },
  {
   "cell_type": "markdown",
   "id": "a3dd55a4",
   "metadata": {},
   "source": [
    "I found the mean magnitude to be 22.28, the standard deviation to be 3.01, min to be 9.45 and the max to be 33.2."
   ]
  },
  {
   "cell_type": "code",
   "execution_count": 13,
   "id": "c28f0af8",
   "metadata": {},
   "outputs": [
    {
     "data": {
      "text/plain": [
       "(0.025448569057983577, -0.6081709177047201)"
      ]
     },
     "execution_count": 13,
     "metadata": {},
     "output_type": "execute_result"
    }
   ],
   "source": [
    "# Skew and Kurtosis\n",
    "new_mag.skew(), new_mag.kurtosis()"
   ]
  },
  {
   "cell_type": "markdown",
   "id": "062d37d9",
   "metadata": {},
   "source": [
    "Since the skewness is between -0.5 and 0.5, the data is fairly symmetrical, almost bimodal. It's not skewed at all, and the kurtosis is negative which implies the data is moderately centered with a peak and light tailed."
   ]
  },
  {
   "cell_type": "markdown",
   "id": "68596e8b",
   "metadata": {},
   "source": [
    "### Mean Anomaly"
   ]
  },
  {
   "cell_type": "code",
   "execution_count": 14,
   "id": "348e1877",
   "metadata": {},
   "outputs": [
    {
     "data": {
      "image/png": "[encoded data removed]",
      "text/plain": [
       "<Figure size 864x576 with 1 Axes>"
      ]
     },
     "metadata": {
      "needs_background": "light"
     },
     "output_type": "display_data"
    }
   ],
   "source": [
    "# Mean Anomaly Distribution\n",
    "\n",
    "# figure size\n",
    "plt.figure(figsize = (12,8))\n",
    "\n",
    "# histogram with appropriate binning\n",
    "plt.hist(mean_anomaly, bins = [*range(0,380,60)], color = 'orange', edgecolor = 'black', linewidth = 1)\n",
    "\n",
    "# x tick labels\n",
    "xticks = [*range(0,380,60)]\n",
    "plt.xticks(ticks=xticks)\n",
    "\n",
    "# labels\n",
    "plt.xlabel('Mean Anomaly (deg)')\n",
    "plt.ylabel('Frequency')\n",
    "\n",
    "# show\n",
    "plt.show()"
   ]
  },
  {
   "cell_type": "code",
   "execution_count": 15,
   "id": "d6ddd16f",
   "metadata": {},
   "outputs": [
    {
     "data": {
      "text/plain": [
       "Text(0, 0.5, 'Mean Anomaly')"
      ]
     },
     "execution_count": 15,
     "metadata": {},
     "output_type": "execute_result"
    },
    {
     "data": {
      "image/png": "[encoded data removed]",
      "text/plain": [
       "<Figure size 432x288 with 1 Axes>"
      ]
     },
     "metadata": {
      "needs_background": "light"
     },
     "output_type": "display_data"
    }
   ],
   "source": [
    "# finding outliers\n",
    "\n",
    "plt.boxplot(mean_anomaly)\n",
    "plt.ylabel('Mean Anomaly')"
   ]
  },
  {
   "cell_type": "markdown",
   "id": "febdb154",
   "metadata": {},
   "source": [
    "From the boxplot, it is evident that there are no outliers. All the data is contained within the quartiles and the distribution is pretty even. Let's take a look at the summary statistics."
   ]
  },
  {
   "cell_type": "code",
   "execution_count": 16,
   "id": "03bd1a9a",
   "metadata": {},
   "outputs": [
    {
     "data": {
      "text/plain": [
       "count    15635.000000\n",
       "mean       172.834863\n",
       "std        116.123065\n",
       "min          0.003100\n",
       "25%         62.040250\n",
       "50%        167.750200\n",
       "75%        281.443100\n",
       "max        359.998200\n",
       "Name: Mean Anomoly (deg), dtype: float64"
      ]
     },
     "execution_count": 16,
     "metadata": {},
     "output_type": "execute_result"
    }
   ],
   "source": [
    "# Summary statistics\n",
    "mean_anomaly.describe()"
   ]
  },
  {
   "cell_type": "markdown",
   "id": "ca4cb0ac",
   "metadata": {},
   "source": [
    "I found the mean mean anomaly to be 172.83 deg, the standard deviation to be 116.12, min to be 0.003 and the max to be 359.99. It would make sense for the standard deviation to be large because the distribution appears to be symmetrical and bimodal, where most of the data is between either 0 and 60 degrees to 300 and 360 degrees. Scientifically it just represents the wide range of mean anomalies for asteroids being either on the same plane as the Earth's orbit around the sun or just a degree under a full counterclockwise rotation. Since there is no set of values being negative, all angles are based on one full rotation from 0 to 360, and including 360 wouldn't be necessary. "
   ]
  },
  {
   "cell_type": "code",
   "execution_count": 17,
   "id": "40374b59",
   "metadata": {},
   "outputs": [
    {
     "data": {
      "text/plain": [
       "(0.08910527048683267, -1.3737076986810797)"
      ]
     },
     "execution_count": 17,
     "metadata": {},
     "output_type": "execute_result"
    }
   ],
   "source": [
    "# Skewness and Kurtosis\n",
    "mean_anomaly.skew(), mean_anomaly.kurtosis()"
   ]
  },
  {
   "cell_type": "markdown",
   "id": "7771ca8e",
   "metadata": {},
   "source": [
    "Similar to Magnitudes, the skew is between -0.5 and 0.5, which means that the distribution is highly symmetric, peaked, and appears to be bimodal. The kurtosis is negative which means that the data is heavy peaked and trailing tails, if any tails at all. This distribution actually appears to not have a tail."
   ]
  },
  {
   "cell_type": "markdown",
   "id": "9b6b5129",
   "metadata": {},
   "source": [
    "### Minimum Orbit Intersection Distance (MOID)"
   ]
  },
  {
   "cell_type": "code",
   "execution_count": 18,
   "id": "c64359c4",
   "metadata": {},
   "outputs": [
    {
     "data": {
      "text/plain": [
       "Text(0, 0.5, 'Frequency')"
      ]
     },
     "execution_count": 18,
     "metadata": {},
     "output_type": "execute_result"
    },
    {
     "data": {
      "image/png": "[encoded data removed]",
      "text/plain": [
       "<Figure size 864x576 with 1 Axes>"
      ]
     },
     "metadata": {
      "needs_background": "light"
     },
     "output_type": "display_data"
    }
   ],
   "source": [
    "# MOID Histogram\n",
    "\n",
    "# figure size\n",
    "plt.figure(figsize = (12,8))\n",
    "\n",
    "# histogram function with appropriate bins to contain main distribution\n",
    "plt.hist(moid, bins = np.linspace(0,0.8,8, endpoint=False), color = 'crimson', edgecolor = 'black', linewidth = 1)\n",
    "\n",
    "# tick markers and limiting the distribution range to show data\n",
    "plt.xticks(np.linspace(0,0.8,8, endpoint=False))\n",
    "\n",
    "# labels\n",
    "plt.xlabel('Moid (AU)')\n",
    "plt.ylabel('Frequency')"
   ]
  },
  {
   "cell_type": "code",
   "execution_count": 19,
   "id": "310be460",
   "metadata": {},
   "outputs": [
    {
     "data": {
      "text/plain": [
       "Text(0, 0.5, 'MOID (AU)')"
      ]
     },
     "execution_count": 19,
     "metadata": {},
     "output_type": "execute_result"
    },
    {
     "data": {
      "image/png": "[encoded data removed]",
      "text/plain": [
       "<Figure size 432x288 with 1 Axes>"
      ]
     },
     "metadata": {
      "needs_background": "light"
     },
     "output_type": "display_data"
    }
   ],
   "source": [
    "# box and whisker\n",
    "plt.boxplot(moid)\n",
    "plt.ylabel('MOID (AU)')"
   ]
  },
  {
   "cell_type": "markdown",
   "id": "d582852c",
   "metadata": {},
   "source": [
    "There are many points past the IQR in this distribution, but it is very densily packed so it still fits the distribution. Since the data is densely packed there isn't a scientific explanation to explain why these could be outliers because they still fit the general shape. Although having MOIDs greater than 0.5 might not pose a risk to Earth. "
   ]
  },
  {
   "cell_type": "code",
   "execution_count": 20,
   "id": "5178b6e2",
   "metadata": {},
   "outputs": [
    {
     "data": {
      "text/plain": [
       "count    15635.000000\n",
       "mean         0.101884\n",
       "std          0.105937\n",
       "min          0.000000\n",
       "25%          0.018700\n",
       "50%          0.062000\n",
       "75%          0.159150\n",
       "max          0.706900\n",
       "Name: Minimum Orbit Intersection Distance (AU), dtype: float64"
      ]
     },
     "execution_count": 20,
     "metadata": {},
     "output_type": "execute_result"
    }
   ],
   "source": [
    "# Summary statistics\n",
    "moid.describe()"
   ]
  },
  {
   "cell_type": "markdown",
   "id": "779a53d5",
   "metadata": {},
   "source": [
    "I found the mean moid to be 0.101 AU, the standard deviation to be 0.11 au , min to be 0.000? and the max to be 0.71. The minimum being 0.0000 could either be a misinput or the datapoint being so small, that pandas cut off the decimal point. It might be worth when performing analysis to format the decimal points such that more are shown. The 75th quantile is at 0.159, and the upper fence is about 0.45, so all the moids greater than this are considered to be outliers by technicality. MOIDs greater than this point are definitely not as dangerous as the majority of of the asteroids within the first to second quantile."
   ]
  },
  {
   "cell_type": "code",
   "execution_count": 21,
   "id": "7309f28c",
   "metadata": {},
   "outputs": [
    {
     "data": {
      "text/plain": [
       "(1.3291743481896083, 1.4470780868180704)"
      ]
     },
     "execution_count": 21,
     "metadata": {},
     "output_type": "execute_result"
    }
   ],
   "source": [
    "# skew and kurtosis\n",
    "moid.skew(), moid.kurtosis()"
   ]
  },
  {
   "cell_type": "markdown",
   "id": "6b39a988",
   "metadata": {},
   "source": [
    "Skewness is greater than 1 which means that it is positively skewed to the left, and the kurtosis is still less than 3, which means that the data is relatively distributed evenly and has a peak of values with light tails. "
   ]
  },
  {
   "cell_type": "markdown",
   "id": "6f27c313",
   "metadata": {},
   "source": [
    "### Orbital Period"
   ]
  },
  {
   "cell_type": "code",
   "execution_count": 22,
   "id": "8eb341a0",
   "metadata": {},
   "outputs": [
    {
     "data": {
      "text/plain": [
       "Text(0, 0.5, 'Frequency')"
      ]
     },
     "execution_count": 22,
     "metadata": {},
     "output_type": "execute_result"
    },
    {
     "data": {
      "image/png": "[encoded data removed]",
      "text/plain": [
       "<Figure size 864x576 with 1 Axes>"
      ]
     },
     "metadata": {
      "needs_background": "light"
     },
     "output_type": "display_data"
    }
   ],
   "source": [
    "# Period Histogram\n",
    "\n",
    "# figure size\n",
    "plt.figure(figsize = (12,8))\n",
    "\n",
    "# histogram function with appropriate bins to contain main distribution\n",
    "plt.hist(period, bins=np.linspace(0,11,11, endpoint=False),  color = 'crimson', edgecolor = 'black', linewidth = 1)\n",
    "\n",
    "# tick markers and limiting the distribution range to show data\n",
    "plt.xticks(np.linspace(0,11,11, endpoint=False))\n",
    "\n",
    "# labels\n",
    "plt.xlabel('Orbital Period (yr)')\n",
    "plt.ylabel('Frequency')"
   ]
  },
  {
   "cell_type": "code",
   "execution_count": 23,
   "id": "b9e8b438",
   "metadata": {},
   "outputs": [
    {
     "data": {
      "text/plain": [
       "Text(0, 0.5, 'Orbital Period (yr)')"
      ]
     },
     "execution_count": 23,
     "metadata": {},
     "output_type": "execute_result"
    },
    {
     "data": {
      "image/png": "[encoded data removed]",
      "text/plain": [
       "<Figure size 432x288 with 1 Axes>"
      ]
     },
     "metadata": {
      "needs_background": "light"
     },
     "output_type": "display_data"
    }
   ],
   "source": [
    "# box and whisker\n",
    "plt.boxplot(period)\n",
    "plt.ylabel('Orbital Period (yr)')"
   ]
  },
  {
   "cell_type": "markdown",
   "id": "ceac1b8b",
   "metadata": {},
   "source": [
    "This distribution has many outliers, going out to a max of close to a 100 years. The outliers here could mean that some of the asteroids have highly elliptical orbits which if you understand how elliptical orbits, the asteroids travel a lot slower along the ends that are away from the Sun, which means they have longer orbital periods even up to a 100 years. These are not calculation errors and are most likely intentional. "
   ]
  },
  {
   "cell_type": "code",
   "execution_count": 24,
   "id": "8b557db4",
   "metadata": {},
   "outputs": [
    {
     "data": {
      "text/plain": [
       "count    15635.000000\n",
       "mean         2.473406\n",
       "std          1.517588\n",
       "min          0.410000\n",
       "25%          1.520000\n",
       "50%          2.290000\n",
       "75%          3.280000\n",
       "max         98.970000\n",
       "Name: Orbital Period (yr), dtype: float64"
      ]
     },
     "execution_count": 24,
     "metadata": {},
     "output_type": "execute_result"
    }
   ],
   "source": [
    "# Summary statistics\n",
    "period.describe()"
   ]
  },
  {
   "cell_type": "markdown",
   "id": "617b4567",
   "metadata": {},
   "source": [
    "I found the mean period to be 2.47 years, the standard deviation to be 1.52 yr, min to be 0.41 and the max to be 98.97. The upper fence is going to be 5.1, so there are a lot of asteroids with an orbital period larger than that. "
   ]
  },
  {
   "cell_type": "code",
   "execution_count": 25,
   "id": "3ec85bfe",
   "metadata": {},
   "outputs": [
    {
     "data": {
      "text/plain": [
       "(24.006244267089816, 1384.9260656510478)"
      ]
     },
     "execution_count": 25,
     "metadata": {},
     "output_type": "execute_result"
    }
   ],
   "source": [
    "# skew and kurtosis\n",
    "period.skew(), period.kurtosis()"
   ]
  },
  {
   "cell_type": "markdown",
   "id": "150dbd5f",
   "metadata": {},
   "source": [
    "Skewness is much greater than 1 which means that the data is highly skewed to the left, as evident by all the outliers on the right. The kurtosis is larger than 3 which means that the data is heavy tailed and small peaked, which means that a lot of the data is also contained on the right end ofthe distribution, towards the outliers."
   ]
  },
  {
   "cell_type": "markdown",
   "id": "27b0d1ff",
   "metadata": {},
   "source": [
    "## Ch 3 - PMF comparing MOID PMFs of different types of Asteroids"
   ]
  },
  {
   "cell_type": "code",
   "execution_count": 26,
   "id": "1720bbf4",
   "metadata": {},
   "outputs": [
    {
     "data": {
      "text/plain": [
       "Text(0, 0.5, '')"
      ]
     },
     "execution_count": 26,
     "metadata": {},
     "output_type": "execute_result"
    },
    {
     "data": {
      "image/png": "[encoded data removed]",
      "text/plain": [
       "<Figure size 432x288 with 1 Axes>"
      ]
     },
     "metadata": {
      "needs_background": "light"
     },
     "output_type": "display_data"
    }
   ],
   "source": [
    "# Looking at the different counts of Classification and using the two most common for pmfs\n",
    "classification = orbit_df['Classification']\n",
    "plt.hist(classification)\n",
    "plt.xlabel('Classification')\n",
    "plt.ylabel('')"
   ]
  },
  {
   "cell_type": "code",
   "execution_count": 27,
   "id": "8b4b3e5e",
   "metadata": {},
   "outputs": [
    {
     "data": {
      "text/html": [
       "<div>\n",
       "<style scoped>\n",
       "    .dataframe tbody tr th:only-of-type {\n",
       "        vertical-align: middle;\n",
       "    }\n",
       "\n",
       "    .dataframe tbody tr th {\n",
       "        vertical-align: top;\n",
       "    }\n",
       "\n",
       "    .dataframe thead th {\n",
       "        text-align: right;\n",
       "    }\n",
       "</style>\n",
       "<table border=\"1\" class=\"dataframe\">\n",
       "  <thead>\n",
       "    <tr style=\"text-align: right;\">\n",
       "      <th></th>\n",
       "      <th>Object Name</th>\n",
       "      <th>Epoch (TDB)</th>\n",
       "      <th>Orbit Axis (AU)</th>\n",
       "      <th>Orbit Eccentricity</th>\n",
       "      <th>Orbit Inclination (deg)</th>\n",
       "      <th>Perihelion Argument (deg)</th>\n",
       "      <th>Node Longitude (deg)</th>\n",
       "      <th>Mean Anomoly (deg)</th>\n",
       "      <th>Perihelion Distance (AU)</th>\n",
       "      <th>Aphelion Distance (AU)</th>\n",
       "      <th>Orbital Period (yr)</th>\n",
       "      <th>Minimum Orbit Intersection Distance (AU)</th>\n",
       "      <th>Orbital Reference</th>\n",
       "      <th>Asteroid Magnitude</th>\n",
       "      <th>Classification</th>\n",
       "      <th>Hazardous</th>\n",
       "    </tr>\n",
       "  </thead>\n",
       "  <tbody>\n",
       "    <tr>\n",
       "      <th>0</th>\n",
       "      <td>433 Eros</td>\n",
       "      <td>57800</td>\n",
       "      <td>1.4579</td>\n",
       "      <td>0.2226</td>\n",
       "      <td>10.8277</td>\n",
       "      <td>178.8050</td>\n",
       "      <td>304.3265</td>\n",
       "      <td>319.3111</td>\n",
       "      <td>1.1335</td>\n",
       "      <td>1.78</td>\n",
       "      <td>1.76</td>\n",
       "      <td>0.1492</td>\n",
       "      <td>598</td>\n",
       "      <td>11.16</td>\n",
       "      <td>Amor Asteroid</td>\n",
       "      <td>False</td>\n",
       "    </tr>\n",
       "    <tr>\n",
       "      <th>1</th>\n",
       "      <td>719 Albert</td>\n",
       "      <td>57800</td>\n",
       "      <td>2.6385</td>\n",
       "      <td>0.5479</td>\n",
       "      <td>11.5822</td>\n",
       "      <td>156.1409</td>\n",
       "      <td>183.9204</td>\n",
       "      <td>224.5535</td>\n",
       "      <td>1.1928</td>\n",
       "      <td>4.08</td>\n",
       "      <td>4.29</td>\n",
       "      <td>0.2004</td>\n",
       "      <td>78</td>\n",
       "      <td>15.50</td>\n",
       "      <td>Amor Asteroid</td>\n",
       "      <td>False</td>\n",
       "    </tr>\n",
       "    <tr>\n",
       "      <th>2</th>\n",
       "      <td>887 Alinda</td>\n",
       "      <td>57800</td>\n",
       "      <td>2.4787</td>\n",
       "      <td>0.5671</td>\n",
       "      <td>9.3561</td>\n",
       "      <td>350.3482</td>\n",
       "      <td>110.5444</td>\n",
       "      <td>351.3730</td>\n",
       "      <td>1.0731</td>\n",
       "      <td>3.88</td>\n",
       "      <td>3.90</td>\n",
       "      <td>0.0925</td>\n",
       "      <td>188</td>\n",
       "      <td>13.40</td>\n",
       "      <td>Amor Asteroid</td>\n",
       "      <td>False</td>\n",
       "    </tr>\n",
       "    <tr>\n",
       "      <th>3</th>\n",
       "      <td>1036 Ganymed</td>\n",
       "      <td>57800</td>\n",
       "      <td>2.6628</td>\n",
       "      <td>0.5338</td>\n",
       "      <td>26.6929</td>\n",
       "      <td>132.4690</td>\n",
       "      <td>215.5551</td>\n",
       "      <td>92.5640</td>\n",
       "      <td>1.2413</td>\n",
       "      <td>4.08</td>\n",
       "      <td>4.35</td>\n",
       "      <td>0.3421</td>\n",
       "      <td>597</td>\n",
       "      <td>9.45</td>\n",
       "      <td>Amor Asteroid</td>\n",
       "      <td>False</td>\n",
       "    </tr>\n",
       "    <tr>\n",
       "      <th>4</th>\n",
       "      <td>1221 Amor</td>\n",
       "      <td>57800</td>\n",
       "      <td>1.9191</td>\n",
       "      <td>0.4356</td>\n",
       "      <td>11.8795</td>\n",
       "      <td>26.6572</td>\n",
       "      <td>171.3448</td>\n",
       "      <td>313.7379</td>\n",
       "      <td>1.0832</td>\n",
       "      <td>2.76</td>\n",
       "      <td>2.66</td>\n",
       "      <td>0.1068</td>\n",
       "      <td>70</td>\n",
       "      <td>17.70</td>\n",
       "      <td>Amor Asteroid</td>\n",
       "      <td>False</td>\n",
       "    </tr>\n",
       "  </tbody>\n",
       "</table>\n",
       "</div>"
      ],
      "text/plain": [
       "    Object Name  Epoch (TDB)  Orbit Axis (AU)  Orbit Eccentricity  \\\n",
       "0      433 Eros        57800           1.4579              0.2226   \n",
       "1    719 Albert        57800           2.6385              0.5479   \n",
       "2    887 Alinda        57800           2.4787              0.5671   \n",
       "3  1036 Ganymed        57800           2.6628              0.5338   \n",
       "4     1221 Amor        57800           1.9191              0.4356   \n",
       "\n",
       "   Orbit Inclination (deg)  Perihelion Argument (deg)  Node Longitude (deg)  \\\n",
       "0                  10.8277                   178.8050              304.3265   \n",
       "1                  11.5822                   156.1409              183.9204   \n",
       "2                   9.3561                   350.3482              110.5444   \n",
       "3                  26.6929                   132.4690              215.5551   \n",
       "4                  11.8795                    26.6572              171.3448   \n",
       "\n",
       "   Mean Anomoly (deg)  Perihelion Distance (AU)  Aphelion Distance (AU)  \\\n",
       "0            319.3111                    1.1335                    1.78   \n",
       "1            224.5535                    1.1928                    4.08   \n",
       "2            351.3730                    1.0731                    3.88   \n",
       "3             92.5640                    1.2413                    4.08   \n",
       "4            313.7379                    1.0832                    2.76   \n",
       "\n",
       "   Orbital Period (yr)  Minimum Orbit Intersection Distance (AU)  \\\n",
       "0                 1.76                                    0.1492   \n",
       "1                 4.29                                    0.2004   \n",
       "2                 3.90                                    0.0925   \n",
       "3                 4.35                                    0.3421   \n",
       "4                 2.66                                    0.1068   \n",
       "\n",
       "   Orbital Reference  Asteroid Magnitude Classification  Hazardous  \n",
       "0                598               11.16  Amor Asteroid      False  \n",
       "1                 78               15.50  Amor Asteroid      False  \n",
       "2                188               13.40  Amor Asteroid      False  \n",
       "3                597                9.45  Amor Asteroid      False  \n",
       "4                 70               17.70  Amor Asteroid      False  "
      ]
     },
     "execution_count": 27,
     "metadata": {},
     "output_type": "execute_result"
    }
   ],
   "source": [
    "# loading amor dataset\n",
    "amor = orbit_df[orbit_df['Classification'] == 'Amor Asteroid']\n",
    "amor.head()"
   ]
  },
  {
   "cell_type": "code",
   "execution_count": 28,
   "id": "1c691ff2",
   "metadata": {},
   "outputs": [
    {
     "data": {
      "text/html": [
       "<div>\n",
       "<style scoped>\n",
       "    .dataframe tbody tr th:only-of-type {\n",
       "        vertical-align: middle;\n",
       "    }\n",
       "\n",
       "    .dataframe tbody tr th {\n",
       "        vertical-align: top;\n",
       "    }\n",
       "\n",
       "    .dataframe thead th {\n",
       "        text-align: right;\n",
       "    }\n",
       "</style>\n",
       "<table border=\"1\" class=\"dataframe\">\n",
       "  <thead>\n",
       "    <tr style=\"text-align: right;\">\n",
       "      <th></th>\n",
       "      <th>Object Name</th>\n",
       "      <th>Epoch (TDB)</th>\n",
       "      <th>Orbit Axis (AU)</th>\n",
       "      <th>Orbit Eccentricity</th>\n",
       "      <th>Orbit Inclination (deg)</th>\n",
       "      <th>Perihelion Argument (deg)</th>\n",
       "      <th>Node Longitude (deg)</th>\n",
       "      <th>Mean Anomoly (deg)</th>\n",
       "      <th>Perihelion Distance (AU)</th>\n",
       "      <th>Aphelion Distance (AU)</th>\n",
       "      <th>Orbital Period (yr)</th>\n",
       "      <th>Minimum Orbit Intersection Distance (AU)</th>\n",
       "      <th>Orbital Reference</th>\n",
       "      <th>Asteroid Magnitude</th>\n",
       "      <th>Classification</th>\n",
       "      <th>Hazardous</th>\n",
       "    </tr>\n",
       "  </thead>\n",
       "  <tbody>\n",
       "    <tr>\n",
       "      <th>5</th>\n",
       "      <td>1566 Icarus</td>\n",
       "      <td>57800</td>\n",
       "      <td>1.0781</td>\n",
       "      <td>0.8269</td>\n",
       "      <td>22.8255</td>\n",
       "      <td>31.3830</td>\n",
       "      <td>88.0107</td>\n",
       "      <td>215.5288</td>\n",
       "      <td>0.1867</td>\n",
       "      <td>1.97</td>\n",
       "      <td>1.12</td>\n",
       "      <td>0.0345</td>\n",
       "      <td>100</td>\n",
       "      <td>16.90</td>\n",
       "      <td>Apollo Asteroid</td>\n",
       "      <td>True</td>\n",
       "    </tr>\n",
       "    <tr>\n",
       "      <th>7</th>\n",
       "      <td>1620 Geographos</td>\n",
       "      <td>57800</td>\n",
       "      <td>1.2453</td>\n",
       "      <td>0.3353</td>\n",
       "      <td>13.3375</td>\n",
       "      <td>276.8930</td>\n",
       "      <td>337.2080</td>\n",
       "      <td>104.1556</td>\n",
       "      <td>0.8277</td>\n",
       "      <td>1.66</td>\n",
       "      <td>1.39</td>\n",
       "      <td>0.0307</td>\n",
       "      <td>449</td>\n",
       "      <td>15.60</td>\n",
       "      <td>Apollo Asteroid</td>\n",
       "      <td>True</td>\n",
       "    </tr>\n",
       "    <tr>\n",
       "      <th>9</th>\n",
       "      <td>1685 Toro</td>\n",
       "      <td>54520</td>\n",
       "      <td>1.3673</td>\n",
       "      <td>0.4359</td>\n",
       "      <td>9.3807</td>\n",
       "      <td>127.0826</td>\n",
       "      <td>274.3396</td>\n",
       "      <td>48.6229</td>\n",
       "      <td>0.7713</td>\n",
       "      <td>1.96</td>\n",
       "      <td>1.60</td>\n",
       "      <td>0.0504</td>\n",
       "      <td>355</td>\n",
       "      <td>14.23</td>\n",
       "      <td>Apollo Asteroid</td>\n",
       "      <td>False</td>\n",
       "    </tr>\n",
       "    <tr>\n",
       "      <th>10</th>\n",
       "      <td>1862 Apollo</td>\n",
       "      <td>55432</td>\n",
       "      <td>1.4702</td>\n",
       "      <td>0.5599</td>\n",
       "      <td>6.3533</td>\n",
       "      <td>285.8625</td>\n",
       "      <td>35.7319</td>\n",
       "      <td>275.7827</td>\n",
       "      <td>0.6471</td>\n",
       "      <td>2.29</td>\n",
       "      <td>1.78</td>\n",
       "      <td>0.0256</td>\n",
       "      <td>276</td>\n",
       "      <td>16.25</td>\n",
       "      <td>Apollo Asteroid</td>\n",
       "      <td>True</td>\n",
       "    </tr>\n",
       "    <tr>\n",
       "      <th>11</th>\n",
       "      <td>1863 Antinous</td>\n",
       "      <td>57800</td>\n",
       "      <td>2.2594</td>\n",
       "      <td>0.6062</td>\n",
       "      <td>18.3989</td>\n",
       "      <td>267.9955</td>\n",
       "      <td>346.4862</td>\n",
       "      <td>81.5233</td>\n",
       "      <td>0.8897</td>\n",
       "      <td>3.63</td>\n",
       "      <td>3.40</td>\n",
       "      <td>0.1831</td>\n",
       "      <td>156</td>\n",
       "      <td>15.54</td>\n",
       "      <td>Apollo Asteroid</td>\n",
       "      <td>False</td>\n",
       "    </tr>\n",
       "  </tbody>\n",
       "</table>\n",
       "</div>"
      ],
      "text/plain": [
       "        Object Name  Epoch (TDB)  Orbit Axis (AU)  Orbit Eccentricity  \\\n",
       "5       1566 Icarus        57800           1.0781              0.8269   \n",
       "7   1620 Geographos        57800           1.2453              0.3353   \n",
       "9         1685 Toro        54520           1.3673              0.4359   \n",
       "10      1862 Apollo        55432           1.4702              0.5599   \n",
       "11    1863 Antinous        57800           2.2594              0.6062   \n",
       "\n",
       "    Orbit Inclination (deg)  Perihelion Argument (deg)  Node Longitude (deg)  \\\n",
       "5                   22.8255                    31.3830               88.0107   \n",
       "7                   13.3375                   276.8930              337.2080   \n",
       "9                    9.3807                   127.0826              274.3396   \n",
       "10                   6.3533                   285.8625               35.7319   \n",
       "11                  18.3989                   267.9955              346.4862   \n",
       "\n",
       "    Mean Anomoly (deg)  Perihelion Distance (AU)  Aphelion Distance (AU)  \\\n",
       "5             215.5288                    0.1867                    1.97   \n",
       "7             104.1556                    0.8277                    1.66   \n",
       "9              48.6229                    0.7713                    1.96   \n",
       "10            275.7827                    0.6471                    2.29   \n",
       "11             81.5233                    0.8897                    3.63   \n",
       "\n",
       "    Orbital Period (yr)  Minimum Orbit Intersection Distance (AU)  \\\n",
       "5                  1.12                                    0.0345   \n",
       "7                  1.39                                    0.0307   \n",
       "9                  1.60                                    0.0504   \n",
       "10                 1.78                                    0.0256   \n",
       "11                 3.40                                    0.1831   \n",
       "\n",
       "    Orbital Reference  Asteroid Magnitude   Classification  Hazardous  \n",
       "5                 100               16.90  Apollo Asteroid       True  \n",
       "7                 449               15.60  Apollo Asteroid       True  \n",
       "9                 355               14.23  Apollo Asteroid      False  \n",
       "10                276               16.25  Apollo Asteroid       True  \n",
       "11                156               15.54  Apollo Asteroid      False  "
      ]
     },
     "execution_count": 28,
     "metadata": {},
     "output_type": "execute_result"
    }
   ],
   "source": [
    "# loading apollo dataset\n",
    "apollo = orbit_df[orbit_df['Classification'] == 'Apollo Asteroid']\n",
    "apollo.head()"
   ]
  },
  {
   "cell_type": "code",
   "execution_count": 39,
   "id": "84de0a15",
   "metadata": {},
   "outputs": [
    {
     "data": {
      "image/png": "[encoded data removed]",
      "text/plain": [
       "<Figure size 432x288 with 1 Axes>"
      ]
     },
     "metadata": {
      "needs_background": "light"
     },
     "output_type": "display_data"
    },
    {
     "data": {
      "text/plain": [
       "<Figure size 864x576 with 0 Axes>"
      ]
     },
     "metadata": {},
     "output_type": "display_data"
    }
   ],
   "source": [
    "# Apollo PMF\n",
    "apollo_moid = apollo['Minimum Orbit Intersection Distance (AU)']\n",
    "apollo_pmf = thinkstats2.Pmf(apollo_moid, label=\"apollo\")\n",
    "thinkplot.Pmf(apollo_pmf)\n",
    "thinkplot.Config(xlabel='MOID (AU)', ylabel='PMF', loc='upper left')\n",
    "thinkplot.Figure(figsize = (12,8))"
   ]
  },
  {
   "cell_type": "code",
   "execution_count": 40,
   "id": "8b09735f",
   "metadata": {},
   "outputs": [
    {
     "data": {
      "image/png": "[encoded data removed]",
      "text/plain": [
       "<Figure size 432x288 with 1 Axes>"
      ]
     },
     "metadata": {
      "needs_background": "light"
     },
     "output_type": "display_data"
    },
    {
     "data": {
      "text/plain": [
       "<Figure size 864x576 with 0 Axes>"
      ]
     },
     "metadata": {},
     "output_type": "display_data"
    }
   ],
   "source": [
    "# Amor PMF\n",
    "amor_moid = amor['Minimum Orbit Intersection Distance (AU)']\n",
    "amor_pmf=thinkstats2.Pmf(amor_moid, label = 'amor')\n",
    "thinkplot.Pmf(amor_pmf)\n",
    "thinkplot.Config(xlabel='MOID (AU)', ylabel='PMF', loc='upper left')\n",
    "thinkplot.Figure(figsize = (12,8))"
   ]
  },
  {
   "cell_type": "markdown",
   "id": "7a51f095",
   "metadata": {},
   "source": [
    "## Ch 4 - CDF of Magnitudes"
   ]
  },
  {
   "cell_type": "code",
   "execution_count": 37,
   "id": "1dae07d7",
   "metadata": {},
   "outputs": [
    {
     "data": {
      "image/png": "[encoded data removed]",
      "text/plain": [
       "<Figure size 432x288 with 1 Axes>"
      ]
     },
     "metadata": {
      "needs_background": "light"
     },
     "output_type": "display_data"
    }
   ],
   "source": [
    "# cdf of magnitudes, using thinkplot functions\n",
    "cdf = thinkstats2.Cdf(magnitudes, label='Magnitude')\n",
    "thinkplot.Cdf(cdf)\n",
    "thinkplot.Config(xlabel='Magnitude (unitless)', ylabel='CDF', loc='upper left')"
   ]
  },
  {
   "cell_type": "markdown",
   "id": "cd1508c4",
   "metadata": {},
   "source": [
    "**Interpretation:** The CDF of magnitudes appears to be a smooth S-Curve CDF with equal amounts above and below the 45-degree straight line. This CDF indicates a symmetrical and somewhat like a bell- or mound-shaped curve around the peak of magnitudes which appears to be around 22. This means that majority of asteroids are within 20 - 25 magnitude brightness, and the rest of the values are in the tails of the data. "
   ]
  },
  {
   "cell_type": "markdown",
   "id": "27948668",
   "metadata": {},
   "source": [
    "## Ch 5 - Analytical Distribution to check CDF of MOID has an Exponential Distribution"
   ]
  },
  {
   "cell_type": "code",
   "execution_count": 41,
   "id": "34d82dba",
   "metadata": {},
   "outputs": [
    {
     "data": {
      "image/png": "[encoded data removed]",
      "text/plain": [
       "<Figure size 432x288 with 1 Axes>"
      ]
     },
     "metadata": {
      "needs_background": "light"
     },
     "output_type": "display_data"
    }
   ],
   "source": [
    "# cdf of moid using thinkplot and thinkstats\n",
    "cdf = thinkstats2.Cdf(moid, label='Magnitude')\n",
    "thinkplot.Cdf(cdf)\n",
    "thinkplot.Config(xlabel='MOID (AU)', ylabel='CDF', loc='upper left')"
   ]
  },
  {
   "cell_type": "markdown",
   "id": "774f67da",
   "metadata": {},
   "source": [
    "The CDF of MOID seems to imply that it has an exponential distribution. But we can check this by plotting the complement of the CDF, and checking whether it is a straight line."
   ]
  },
  {
   "cell_type": "code",
   "execution_count": 42,
   "id": "ea585212",
   "metadata": {},
   "outputs": [
    {
     "data": {
      "image/png": "[encoded data removed]",
      "text/plain": [
       "<Figure size 432x288 with 1 Axes>"
      ]
     },
     "metadata": {
      "needs_background": "light"
     },
     "output_type": "display_data"
    }
   ],
   "source": [
    "# plotting the complement, which is an analytical distribution, and setting the scale to be log\n",
    "thinkplot.Cdf(cdf, complement = True)\n",
    "thinkplot.Config(xlabel='MOID (AU)', ylabel='CCDF', yscale = 'log', loc='upper left')"
   ]
  },
  {
   "cell_type": "markdown",
   "id": "557f0784",
   "metadata": {},
   "source": [
    "**Interpretation:** The complement CDF doesn't appear to be exactly a straight line, but it does seem to follow a linear path with slight curvature up to 0.6 moid, where it makes a distinct departure from the rest of the trend. This means that although the CDF of the MOID appeared to resemble a exponential distribution, an exponential distribution wouldn't be the best fit for this data. \n",
    "\n",
    "In terms of the implications of this relationship, is that there appears to be an almost linear number of asteroids at each distance, which means that asteroids that orbit and potentially become PHAs can be of varying MOIDs."
   ]
  },
  {
   "cell_type": "markdown",
   "id": "e9c4117a",
   "metadata": {},
   "source": [
    "## Ch 7 - Scatter Plots comparing two variables, Correlation vs Causation\n",
    "## Covariance, Pearson’s correlation, and Non-Linear Relationships"
   ]
  },
  {
   "cell_type": "code",
   "execution_count": 1,
   "id": "21f4645b",
   "metadata": {},
   "outputs": [],
   "source": [
    "# loading functions to be used in this section\n",
    "# covariance\n",
    "def Covariance(xs, ys, meanx=None, meany=None):\n",
    "    xs = np.asarray(xs)\n",
    "    ys = np.asarray(ys)\n",
    "\n",
    "    if meanx is None:\n",
    "        meanx = np.mean(xs)\n",
    "    if meany is None:\n",
    "        meany = np.mean(ys)\n",
    "\n",
    "    cov = np.dot(xs-meanx, ys-meany) / len(xs)\n",
    "    return cov\n",
    "\n",
    "# pearson correlation calculation\n",
    "def PearCorr(xs, ys):\n",
    "    xs = np.asarray(xs)\n",
    "    ys = np.asarray(ys)\n",
    "\n",
    "    meanx, varx = thinkstats2.MeanVar(xs)\n",
    "    meany, vary = thinkstats2.MeanVar(ys)\n",
    "\n",
    "    corr = Covariance(xs, ys, meanx, meany) / np.sqrt(varx * vary)\n",
    "    return corr\n",
    "\n",
    "# spearman correlation calculation\n",
    "def SpearmanCorr(xs, ys):\n",
    "    xs = pd.Series(xs)\n",
    "    ys = pd.Series(ys)\n",
    "    return xs.corr(ys, method='spearman')"
   ]
  },
  {
   "cell_type": "markdown",
   "id": "4052fdc9",
   "metadata": {},
   "source": [
    "### Compare Orbit distance and magnitude"
   ]
  },
  {
   "cell_type": "code",
   "execution_count": 51,
   "id": "5d403f57",
   "metadata": {},
   "outputs": [
    {
     "data": {
      "image/png": "[encoded data removed]",
      "text/plain": [
       "<Figure size 432x288 with 1 Axes>"
      ]
     },
     "metadata": {
      "needs_background": "light"
     },
     "output_type": "display_data"
    }
   ],
   "source": [
    "# creating scatter plot and limiting the data to the main region of orbit axis, 0 to 5 AU\n",
    "thinkplot.Scatter(orbit, magnitudes, alpha=1.0, s=5)\n",
    "thinkplot.Config(xlabel='Orbit Axis (AU)',\n",
    "                 ylabel='Magnitude ()',\n",
    "                xlim = [0,5])"
   ]
  },
  {
   "cell_type": "code",
   "execution_count": 57,
   "id": "fbe85926",
   "metadata": {},
   "outputs": [
    {
     "data": {
      "text/plain": [
       "(nan, nan)"
      ]
     },
     "execution_count": 57,
     "metadata": {},
     "output_type": "execute_result"
    }
   ],
   "source": [
    "# calculating covariacne and Pearson's coefficient for linear correlation\n",
    "Covariance(orbit, magnitudes), PearCorr(orbit, magnitudes)"
   ]
  },
  {
   "cell_type": "code",
   "execution_count": 59,
   "id": "7dcc7b09",
   "metadata": {},
   "outputs": [
    {
     "data": {
      "text/plain": [
       "-0.25915921775067385"
      ]
     },
     "execution_count": 59,
     "metadata": {},
     "output_type": "execute_result"
    }
   ],
   "source": [
    "# calculating spearman correlation for non-linear correlation\n",
    "SpearmanCorr(orbit, magnitudes)"
   ]
  },
  {
   "cell_type": "markdown",
   "id": "5dd44822",
   "metadata": {},
   "source": [
    "**Interpretation:**\n",
    "There appears to be no linear correlation or covariance between orbit distance and magnitude, and the spearman correlation constant records a negative number, which could imply a slight negative non-linear correlation between the data, but nothing too serious. This is good because when creating a model of regression using the parameters, there is no collinearity between data that could affect the model. "
   ]
  },
  {
   "cell_type": "markdown",
   "id": "5854d0a5",
   "metadata": {},
   "source": [
    "### Compare Mean Anomaly and Period"
   ]
  },
  {
   "cell_type": "code",
   "execution_count": 64,
   "id": "557ab767",
   "metadata": {},
   "outputs": [
    {
     "data": {
      "image/png": "[encoded data removed]",
      "text/plain": [
       "<Figure size 432x288 with 1 Axes>"
      ]
     },
     "metadata": {
      "needs_background": "light"
     },
     "output_type": "display_data"
    }
   ],
   "source": [
    "# creating scatter plot and limiting the data to the main region of periods from 0 to 10 years.\n",
    "thinkplot.Scatter(mean_anomaly, period, alpha=1.0, s=5)\n",
    "thinkplot.Config(xlabel='Mean Anomaly (deg)',\n",
    "                 ylabel='Period (yr)',\n",
    "                ylim = [0, 10])"
   ]
  },
  {
   "cell_type": "code",
   "execution_count": 65,
   "id": "9e4636c6",
   "metadata": {},
   "outputs": [
    {
     "data": {
      "text/plain": [
       "(nan, nan)"
      ]
     },
     "execution_count": 65,
     "metadata": {},
     "output_type": "execute_result"
    }
   ],
   "source": [
    "# calculating covariacne and Pearson's coefficient for linear correlation\n",
    "Covariance(mean_anomaly, period), PearCorr(mean_anomaly, period)"
   ]
  },
  {
   "cell_type": "code",
   "execution_count": 66,
   "id": "cac96736",
   "metadata": {},
   "outputs": [
    {
     "data": {
      "text/plain": [
       "-0.0481901433630035"
      ]
     },
     "execution_count": 66,
     "metadata": {},
     "output_type": "execute_result"
    }
   ],
   "source": [
    "# calculating spearman correlation for non-linear correlation\n",
    "SpearmanCorr(mean_anomaly, period)"
   ]
  },
  {
   "cell_type": "markdown",
   "id": "6bdee8be",
   "metadata": {},
   "source": [
    "**Interpretation:**\n",
    "There appears to be no linear correlation or covariance between mean anomaly and period, and the spearman correlation constant records a negative number, which could imply a slight negative non-linear correlation between the data, but nothing too serious. This is good because when creating a model of regression using the parameters, there is no collinearity between data that could affect the model. "
   ]
  },
  {
   "cell_type": "markdown",
   "id": "7e3b5475",
   "metadata": {},
   "source": [
    "## Ch 9 - Running a Test"
   ]
  },
  {
   "cell_type": "markdown",
   "id": "d1677738",
   "metadata": {},
   "source": [
    "My goal for the EDA on this particular dataset was to make sure that there is no collinearity between parameters assigned to the binary logistic model I would use to predict whether an asteroid is potentially hazardous or not. So one of the tests I could conduct is to check whether the observed correlation between orbit distance and magnitude, or in general, any two parameters is statistically significant.\n",
    "\n",
    "**Null:** There is correlation between the variables in the dataset.\n",
    "\n",
    "**Alternative:** There is no correlation between the variables in the dataset, implying no multicollinearity, and therefore, a regression model would fit the data accordingly.\n",
    "\n",
    "**Significance Level:** 0.05."
   ]
  },
  {
   "cell_type": "code",
   "execution_count": 67,
   "id": "e69fbec7",
   "metadata": {},
   "outputs": [],
   "source": [
    "# Thinkstats Hypothesis Test Class and it's internal functions\n",
    "\n",
    "class CorrelationPermute(thinkstats2.HypothesisTest):\n",
    "\n",
    "    def TestStatistic(self, data):\n",
    "        xs, ys = data\n",
    "        test_stat = abs(thinkstats2.Corr(xs, ys))\n",
    "        return test_stat\n",
    "\n",
    "    def RunModel(self):\n",
    "        xs, ys = self.data\n",
    "        xs = np.random.permutation(xs)\n",
    "        return xs, ys"
   ]
  },
  {
   "cell_type": "code",
   "execution_count": 72,
   "id": "cc62e6eb",
   "metadata": {},
   "outputs": [
    {
     "data": {
      "text/plain": [
       "0.0"
      ]
     },
     "execution_count": 72,
     "metadata": {},
     "output_type": "execute_result"
    }
   ],
   "source": [
    "# creating the data object, making sure that orbit distance is x, and magnitude is y\n",
    "data = orbit, magnitudes\n",
    "# running the correlation test and gathering hat value\n",
    "ht = CorrelationPermute(data)\n",
    "# calculating p value from hat value\n",
    "pvalue = ht.PValue()\n",
    "pvalue"
   ]
  },
  {
   "cell_type": "markdown",
   "id": "0da30382",
   "metadata": {},
   "source": [
    "**Interpretation:** Since the p-value is smaller than the chosen significance level of 0.05, that means that the null hypothesis is rejected, and there is no correlation between the variables in the dataset, therefore implying no collinearity between magnitude and orbit distance. I could run this hypothesis test across all pairs of variables to double check whether this is true. "
   ]
  },
  {
   "cell_type": "markdown",
   "id": "ae1e747b",
   "metadata": {},
   "source": [
    "## Ch 10/11 - Creating a Binary Logistic Model that predicts PHAs based off the parameters"
   ]
  },
  {
   "cell_type": "code",
   "execution_count": 73,
   "id": "cc1df646",
   "metadata": {},
   "outputs": [],
   "source": [
    "import statsmodels.formula.api as smf"
   ]
  },
  {
   "cell_type": "code",
   "execution_count": 109,
   "id": "d039b7b5",
   "metadata": {},
   "outputs": [
    {
     "data": {
      "text/html": [
       "<div>\n",
       "<style scoped>\n",
       "    .dataframe tbody tr th:only-of-type {\n",
       "        vertical-align: middle;\n",
       "    }\n",
       "\n",
       "    .dataframe tbody tr th {\n",
       "        vertical-align: top;\n",
       "    }\n",
       "\n",
       "    .dataframe thead th {\n",
       "        text-align: right;\n",
       "    }\n",
       "</style>\n",
       "<table border=\"1\" class=\"dataframe\">\n",
       "  <thead>\n",
       "    <tr style=\"text-align: right;\">\n",
       "      <th></th>\n",
       "      <th>orbit</th>\n",
       "      <th>magnitudes</th>\n",
       "      <th>mean_anomaly</th>\n",
       "      <th>moid</th>\n",
       "      <th>period</th>\n",
       "      <th>pha</th>\n",
       "    </tr>\n",
       "  </thead>\n",
       "  <tbody>\n",
       "    <tr>\n",
       "      <th>0</th>\n",
       "      <td>1.4579</td>\n",
       "      <td>11.16</td>\n",
       "      <td>319.3111</td>\n",
       "      <td>0.1492</td>\n",
       "      <td>1.76</td>\n",
       "      <td>False</td>\n",
       "    </tr>\n",
       "    <tr>\n",
       "      <th>1</th>\n",
       "      <td>2.6385</td>\n",
       "      <td>15.50</td>\n",
       "      <td>224.5535</td>\n",
       "      <td>0.2004</td>\n",
       "      <td>4.29</td>\n",
       "      <td>False</td>\n",
       "    </tr>\n",
       "    <tr>\n",
       "      <th>2</th>\n",
       "      <td>2.4787</td>\n",
       "      <td>13.40</td>\n",
       "      <td>351.3730</td>\n",
       "      <td>0.0925</td>\n",
       "      <td>3.90</td>\n",
       "      <td>False</td>\n",
       "    </tr>\n",
       "    <tr>\n",
       "      <th>3</th>\n",
       "      <td>2.6628</td>\n",
       "      <td>9.45</td>\n",
       "      <td>92.5640</td>\n",
       "      <td>0.3421</td>\n",
       "      <td>4.35</td>\n",
       "      <td>False</td>\n",
       "    </tr>\n",
       "    <tr>\n",
       "      <th>4</th>\n",
       "      <td>1.9191</td>\n",
       "      <td>17.70</td>\n",
       "      <td>313.7379</td>\n",
       "      <td>0.1068</td>\n",
       "      <td>2.66</td>\n",
       "      <td>False</td>\n",
       "    </tr>\n",
       "  </tbody>\n",
       "</table>\n",
       "</div>"
      ],
      "text/plain": [
       "    orbit  magnitudes  mean_anomaly    moid  period    pha\n",
       "0  1.4579       11.16      319.3111  0.1492    1.76  False\n",
       "1  2.6385       15.50      224.5535  0.2004    4.29  False\n",
       "2  2.4787       13.40      351.3730  0.0925    3.90  False\n",
       "3  2.6628        9.45       92.5640  0.3421    4.35  False\n",
       "4  1.9191       17.70      313.7379  0.1068    2.66  False"
      ]
     },
     "execution_count": 109,
     "metadata": {},
     "output_type": "execute_result"
    }
   ],
   "source": [
    "# creating a dataframe from the columns called above and adding a new one that describes the hazardous\n",
    "pha = orbit_df['Hazardous']\n",
    "new_df = pd.DataFrame({'orbit': orbit, 'magnitudes': magnitudes, 'mean_anomaly': mean_anomaly, 'moid': moid, \n",
    "                       'period': period, 'pha': pha})\n",
    "new_df.head()"
   ]
  },
  {
   "cell_type": "code",
   "execution_count": 110,
   "id": "84a28fac",
   "metadata": {},
   "outputs": [
    {
     "name": "stdout",
     "output_type": "stream",
     "text": [
      "<class 'pandas.core.frame.DataFrame'>\n",
      "RangeIndex: 15635 entries, 0 to 15634\n",
      "Data columns (total 16 columns):\n",
      " #   Column                     Non-Null Count  Dtype  \n",
      "---  ------                     --------------  -----  \n",
      " 0   Object Name                15635 non-null  object \n",
      " 1   Epoch (TDB)                15635 non-null  int64  \n",
      " 2   orbitaxis                  15635 non-null  float64\n",
      " 3   Orbit Eccentricity         15635 non-null  float64\n",
      " 4   Orbit Inclination (deg)    15635 non-null  float64\n",
      " 5   Perihelion Argument (deg)  15635 non-null  float64\n",
      " 6   Node Longitude (deg)       15635 non-null  float64\n",
      " 7   Mean Anomoly (deg)         15635 non-null  float64\n",
      " 8   Perihelion Distance (AU)   15635 non-null  float64\n",
      " 9   Aphelion Distance (AU)     15635 non-null  float64\n",
      " 10  period                     15635 non-null  float64\n",
      " 11  moid                       15635 non-null  float64\n",
      " 12  Orbital Reference          15635 non-null  int64  \n",
      " 13  magnitude                  15634 non-null  float64\n",
      " 14  Classification             15635 non-null  object \n",
      " 15  pha                        15635 non-null  int64  \n",
      "dtypes: float64(11), int64(3), object(2)\n",
      "memory usage: 1.9+ MB\n"
     ]
    }
   ],
   "source": [
    "# replacing string true false values with numerical binary values instead, so the binary logistic model can read the values\n",
    "new_df.replace({False: 0, True: 1}, inplace=True)\n",
    "new_df.head()\n",
    "name_df['pha'] = pd.to_numeric(name_df['pha'])\n",
    "name_df.info()"
   ]
  },
  {
   "cell_type": "code",
   "execution_count": 114,
   "id": "9d63687d",
   "metadata": {},
   "outputs": [
    {
     "name": "stdout",
     "output_type": "stream",
     "text": [
      "Optimization terminated successfully.\n",
      "         Current function value: 0.102382\n",
      "         Iterations 11\n"
     ]
    },
    {
     "data": {
      "text/html": [
       "<table class=\"simpletable\">\n",
       "<caption>Logit Regression Results</caption>\n",
       "<tr>\n",
       "  <th>Dep. Variable:</th>          <td>pha</td>       <th>  No. Observations:  </th>  <td> 15634</td> \n",
       "</tr>\n",
       "<tr>\n",
       "  <th>Model:</th>                 <td>Logit</td>      <th>  Df Residuals:      </th>  <td> 15628</td> \n",
       "</tr>\n",
       "<tr>\n",
       "  <th>Method:</th>                 <td>MLE</td>       <th>  Df Model:          </th>  <td>     5</td> \n",
       "</tr>\n",
       "<tr>\n",
       "  <th>Date:</th>            <td>Wed, 01 Mar 2023</td> <th>  Pseudo R-squ.:     </th>  <td>0.7111</td> \n",
       "</tr>\n",
       "<tr>\n",
       "  <th>Time:</th>                <td>01:24:20</td>     <th>  Log-Likelihood:    </th> <td> -1600.6</td>\n",
       "</tr>\n",
       "<tr>\n",
       "  <th>converged:</th>             <td>True</td>       <th>  LL-Null:           </th> <td> -5540.2</td>\n",
       "</tr>\n",
       "<tr>\n",
       "  <th>Covariance Type:</th>     <td>nonrobust</td>    <th>  LLR p-value:       </th>  <td> 0.000</td> \n",
       "</tr>\n",
       "</table>\n",
       "<table class=\"simpletable\">\n",
       "<tr>\n",
       "        <td></td>          <th>coef</th>     <th>std err</th>      <th>z</th>      <th>P>|z|</th>  <th>[0.025</th>    <th>0.975]</th>  \n",
       "</tr>\n",
       "<tr>\n",
       "  <th>Intercept</th>    <td>   33.6607</td> <td>    0.916</td> <td>   36.763</td> <td> 0.000</td> <td>   31.866</td> <td>   35.455</td>\n",
       "</tr>\n",
       "<tr>\n",
       "  <th>orbit</th>        <td>   -0.2190</td> <td>    0.275</td> <td>   -0.795</td> <td> 0.427</td> <td>   -0.759</td> <td>    0.321</td>\n",
       "</tr>\n",
       "<tr>\n",
       "  <th>magnitudes</th>   <td>   -1.4380</td> <td>    0.037</td> <td>  -38.884</td> <td> 0.000</td> <td>   -1.510</td> <td>   -1.365</td>\n",
       "</tr>\n",
       "<tr>\n",
       "  <th>mean_anomaly</th> <td>   -0.0001</td> <td>    0.000</td> <td>   -0.275</td> <td> 0.783</td> <td>   -0.001</td> <td>    0.001</td>\n",
       "</tr>\n",
       "<tr>\n",
       "  <th>moid</th>         <td> -108.2778</td> <td>    3.153</td> <td>  -34.344</td> <td> 0.000</td> <td> -114.457</td> <td> -102.099</td>\n",
       "</tr>\n",
       "<tr>\n",
       "  <th>period</th>       <td>    0.0052</td> <td>    0.123</td> <td>    0.042</td> <td> 0.966</td> <td>   -0.236</td> <td>    0.246</td>\n",
       "</tr>\n",
       "</table><br/><br/>Possibly complete quasi-separation: A fraction 0.39 of observations can be<br/>perfectly predicted. This might indicate that there is complete<br/>quasi-separation. In this case some parameters will not be identified."
      ],
      "text/plain": [
       "<class 'statsmodels.iolib.summary.Summary'>\n",
       "\"\"\"\n",
       "                           Logit Regression Results                           \n",
       "==============================================================================\n",
       "Dep. Variable:                    pha   No. Observations:                15634\n",
       "Model:                          Logit   Df Residuals:                    15628\n",
       "Method:                           MLE   Df Model:                            5\n",
       "Date:                Wed, 01 Mar 2023   Pseudo R-squ.:                  0.7111\n",
       "Time:                        01:24:20   Log-Likelihood:                -1600.6\n",
       "converged:                       True   LL-Null:                       -5540.2\n",
       "Covariance Type:            nonrobust   LLR p-value:                     0.000\n",
       "================================================================================\n",
       "                   coef    std err          z      P>|z|      [0.025      0.975]\n",
       "--------------------------------------------------------------------------------\n",
       "Intercept       33.6607      0.916     36.763      0.000      31.866      35.455\n",
       "orbit           -0.2190      0.275     -0.795      0.427      -0.759       0.321\n",
       "magnitudes      -1.4380      0.037    -38.884      0.000      -1.510      -1.365\n",
       "mean_anomaly    -0.0001      0.000     -0.275      0.783      -0.001       0.001\n",
       "moid          -108.2778      3.153    -34.344      0.000    -114.457    -102.099\n",
       "period           0.0052      0.123      0.042      0.966      -0.236       0.246\n",
       "================================================================================\n",
       "\n",
       "Possibly complete quasi-separation: A fraction 0.39 of observations can be\n",
       "perfectly predicted. This might indicate that there is complete\n",
       "quasi-separation. In this case some parameters will not be identified.\n",
       "\"\"\""
      ]
     },
     "execution_count": 114,
     "metadata": {},
     "output_type": "execute_result"
    }
   ],
   "source": [
    "# creating a formula to run the model\n",
    "formula = 'pha ~ orbit + magnitudes + mean_anomaly + moid + period'\n",
    "model = smf.logit(formula, data=new_df)\n",
    "# finding the results\n",
    "results = model.fit()\n",
    "results.summary()"
   ]
  },
  {
   "cell_type": "markdown",
   "id": "08329621",
   "metadata": {},
   "source": [
    "**Interpretation:** Out of the 5 variables I chose to perform EDA, the two that were statistically significant towards building the binary logistic regression model were the magnitudes and the minimum orbit intersection distance. The others were not even close to being statistically significant. I could repeat this entire EDA to check out the other variables, make sure there is no collinearity, before fitting them to the model to see whether any additional parameters could make the model better. When working on the same dataset for DSC520, I found that albedo and the diameter of the asteroid also played a small part in terms of determining whether the asteroid is potentially hazardous, but I will leave that analysis for another day."
   ]
  },
  {
   "cell_type": "code",
   "execution_count": 116,
   "id": "4e0f17f1",
   "metadata": {},
   "outputs": [
    {
     "data": {
      "text/plain": [
       "0.11379045669694256"
      ]
     },
     "execution_count": 116,
     "metadata": {},
     "output_type": "execute_result"
    }
   ],
   "source": [
    "# going for a prediction, separating endog and exog\n",
    "endog = pd.DataFrame(model.endog, columns=[model.endog_names])\n",
    "exog = pd.DataFrame(model.exog, columns=model.exog_names)\n",
    "actual = endog['pha']\n",
    "baseline = actual.mean()\n",
    "baseline"
   ]
  },
  {
   "cell_type": "markdown",
   "id": "53fd5f3c",
   "metadata": {},
   "source": [
    "Baseline accuracy is 11.3%, very low."
   ]
  },
  {
   "cell_type": "code",
   "execution_count": 117,
   "id": "793dd664",
   "metadata": {},
   "outputs": [
    {
     "data": {
      "text/plain": [
       "(1366.0, 13589.0)"
      ]
     },
     "execution_count": 117,
     "metadata": {},
     "output_type": "execute_result"
    }
   ],
   "source": [
    "# creating a sort of confusion matrix summing the false-false predictions and the true-true predicitions\n",
    "predict = (results.predict() >= 0.5)\n",
    "true_pos = predict * actual\n",
    "true_neg = (1 - predict) * (1 - actual)\n",
    "sum(true_pos), sum(true_neg)"
   ]
  },
  {
   "cell_type": "code",
   "execution_count": 118,
   "id": "e7978faa",
   "metadata": {},
   "outputs": [
    {
     "data": {
      "text/plain": [
       "0.9565690162466419"
      ]
     },
     "execution_count": 118,
     "metadata": {},
     "output_type": "execute_result"
    }
   ],
   "source": [
    "# calculating the accuracy from the confusion matrix\n",
    "acc = (sum(true_pos) + sum(true_neg)) / len(actual)\n",
    "acc"
   ]
  },
  {
   "cell_type": "markdown",
   "id": "9ba2c0c0",
   "metadata": {},
   "source": [
    "Accuracy of model is 95.65%, which is extraordinary, but I could be also looking at the wrong values."
   ]
  },
  {
   "cell_type": "code",
   "execution_count": 130,
   "id": "2da6b6f0",
   "metadata": {},
   "outputs": [
    {
     "data": {
      "text/plain": [
       "0    0.061188\n",
       "dtype: float64"
      ]
     },
     "execution_count": 130,
     "metadata": {},
     "output_type": "execute_result"
    }
   ],
   "source": [
    "# predicting the hazardousness? of an asteroid with particular attributes\n",
    "columns = ['orbit', 'magnitudes', 'mean_anomaly', 'moid', 'period']\n",
    "new = pd.DataFrame([[10, 20, 300, 0.05, 1]], columns=columns)\n",
    "y = results.predict(new)\n",
    "y"
   ]
  },
  {
   "cell_type": "markdown",
   "id": "ce955636",
   "metadata": {},
   "source": [
    "**Thoughts:** An asteroid with an orbit axis of 10 AU, a magnitude of 20, a mean anomaly of 300 deg, a MOID of 0.05 AU, and a period of 1 year has a 6% chance of being a PHA. Given the circumstances surrounding the effectiveness of the other parameters in the model, it makes sense why trying different values for orbit and moid while keeping others constant affects the chance the most."
   ]
  },
  {
   "cell_type": "markdown",
   "id": "0e3a0072",
   "metadata": {},
   "source": [
    "# Summary and Concluding Remarks"
   ]
  },
  {
   "cell_type": "markdown",
   "id": "7772e611",
   "metadata": {},
   "source": [
    "**Question:** The hypothetical question I was asking for this project was what parameters could predict an asteroid being potentially hazardous the best, and I found that including MOID and magnitudes. An additional question I could try to answer is which parameters could be used to predict other important parameters in future regression models?\n",
    "\n",
    "**Outcome of EDA:** In order to model the data and have success, I would need to make sure that the data was not collinear and distributed normally. That seemed the case for the parameters, chosen, although not all of them were perfectly normal, some being skewed left and skewed right. In regards to outliers and descriptive statistics, I explained the reasoning for unusual values above, in both data and astronomical terms to the best of my ability. I checked both empirical distributions and analytical distributions for several subsets of the data, coming to terms with how exactly the data could be distributed. Then, to prove that there was no collinearity, I created scatter plot comparing two pairs of parameters I had chosen for the model, and found that the covariance and correlation were close to 0. I also conducted a hypothesis test on one of the correlation coefficients to make sure that the results were statistically significant. At the end I created a binary logistic regression model as an initial attempt to understand what variables in the dataset predict the PHA classification the best. \n",
    "\n",
    "**Improvements:** What I felt was missing in my analysis was more variables. I feel like since the model I created only had two statistically significant components, that working with other variables could predict the asteroids better. Additional variables that I found to be statistically significant while working with similar data in DSC 520 were the asteroid diameter and albedo, two characteristics that were not present in this dataset. The dataset I chose in that class was also larger in size, almost 90,000 rows. To save some memory on Jupyter, I opted for a smaller sample size of the entire population of asteroids. \n",
    "\n",
    "**Assumptions:** I made assumptions that all the parameters I chose would actually affect the PHA classification in one way or the other, but the model disproved these unfortunately. I believed that having a closer orbit axis, a smaller period, and smaller mean anomaly would influence the asteroid. The model I created in DSC520 found diameter to be highly statistical significant, and albedo to be close to being statistically significant.\n",
    "\n",
    "**Challenges:** Most of the challenges I faced during the project were mostly setting up the appropriate bin widths, labels, and sizes for the figures. Since it was a large dataset and many outliers were present, I didn't know what the appropriate viewing window would be. Also towards the end, since I ended up writing functions from the textbook for covariance, correlation, statistical tests, and predicting results, I wasn't sure if the functions would be the best idea rather than using functions straight from libraries."
   ]
  }
 ],
 "metadata": {
  "kernelspec": {
   "display_name": "Python 3",
   "language": "python",
   "name": "python3"
  },
  "language_info": {
   "codemirror_mode": {
    "name": "ipython",
    "version": 3
   },
   "file_extension": ".py",
   "mimetype": "text/x-python",
   "name": "python",
   "nbconvert_exporter": "python",
   "pygments_lexer": "ipython3",
   "version": "3.8.5"
  }
 },
 "nbformat": 4,
 "nbformat_minor": 5
}
