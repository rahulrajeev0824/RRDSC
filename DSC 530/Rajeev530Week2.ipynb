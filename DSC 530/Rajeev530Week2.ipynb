{
 "cells": [
  {
   "cell_type": "markdown",
   "id": "b693779a",
   "metadata": {},
   "source": [
    "## Week 2 Exercises: Rahul Rajeev 530 T-302"
   ]
  },
  {
   "cell_type": "code",
   "execution_count": 1,
   "id": "d684293e",
   "metadata": {
    "scrolled": true
   },
   "outputs": [
    {
     "name": "stdout",
     "output_type": "stream",
     "text": [
      "Hello world, my name is Rahul Rajeev!\n"
     ]
    }
   ],
   "source": [
    "print('Hello world, my name is Rahul Rajeev!')"
   ]
  },
  {
   "cell_type": "markdown",
   "id": "1411641f",
   "metadata": {},
   "source": [
    "## Various Basic Python Operations"
   ]
  },
  {
   "cell_type": "code",
   "execution_count": 2,
   "id": "273dff13",
   "metadata": {},
   "outputs": [
    {
     "data": {
      "text/plain": [
       "19"
      ]
     },
     "execution_count": 2,
     "metadata": {},
     "output_type": "execute_result"
    }
   ],
   "source": [
    "9 + 10"
   ]
  },
  {
   "cell_type": "code",
   "execution_count": 3,
   "id": "f1b3a948",
   "metadata": {},
   "outputs": [
    {
     "data": {
      "text/plain": [
       "12"
      ]
     },
     "execution_count": 3,
     "metadata": {},
     "output_type": "execute_result"
    }
   ],
   "source": [
    "21 - 9"
   ]
  },
  {
   "cell_type": "code",
   "execution_count": 4,
   "id": "48f66ae1",
   "metadata": {},
   "outputs": [
    {
     "data": {
      "text/plain": [
       "90"
      ]
     },
     "execution_count": 4,
     "metadata": {},
     "output_type": "execute_result"
    }
   ],
   "source": [
    "9 * 10"
   ]
  },
  {
   "cell_type": "code",
   "execution_count": 5,
   "id": "8a5ebde6",
   "metadata": {},
   "outputs": [
    {
     "data": {
      "text/plain": [
       "2.0"
      ]
     },
     "execution_count": 5,
     "metadata": {},
     "output_type": "execute_result"
    }
   ],
   "source": [
    "10 / 5"
   ]
  },
  {
   "cell_type": "code",
   "execution_count": 6,
   "id": "2023bae4",
   "metadata": {},
   "outputs": [
    {
     "data": {
      "text/plain": [
       "'catdog'"
      ]
     },
     "execution_count": 6,
     "metadata": {},
     "output_type": "execute_result"
    }
   ],
   "source": [
    "#concatenating string\n",
    "'cat' + 'dog'"
   ]
  },
  {
   "cell_type": "markdown",
   "id": "07e09ea5",
   "metadata": {},
   "source": [
    "## Lists and Tuples"
   ]
  },
  {
   "cell_type": "code",
   "execution_count": 12,
   "id": "e371b2c0",
   "metadata": {},
   "outputs": [
    {
     "data": {
      "text/plain": [
       "[21, 10, 'cat', 'dog']"
      ]
     },
     "execution_count": 12,
     "metadata": {},
     "output_type": "execute_result"
    }
   ],
   "source": [
    "cool_list = [21, 10, 'cat', 'dog']\n",
    "cool_list"
   ]
  },
  {
   "cell_type": "code",
   "execution_count": 13,
   "id": "b1086311",
   "metadata": {},
   "outputs": [
    {
     "data": {
      "text/plain": [
       "[21, 10, 'cat', 'dog', 'new item']"
      ]
     },
     "execution_count": 13,
     "metadata": {},
     "output_type": "execute_result"
    }
   ],
   "source": [
    "cool_list.append('new item')\n",
    "cool_list"
   ]
  },
  {
   "cell_type": "code",
   "execution_count": 15,
   "id": "9ef2958b",
   "metadata": {},
   "outputs": [
    {
     "data": {
      "text/plain": [
       "('wow', 'much', 'cool')"
      ]
     },
     "execution_count": 15,
     "metadata": {},
     "output_type": "execute_result"
    }
   ],
   "source": [
    "cool_tuple=('wow', 'much', 'cool')\n",
    "cool_tuple"
   ]
  }
 ],
 "metadata": {
  "kernelspec": {
   "display_name": "Python 3",
   "language": "python",
   "name": "python3"
  },
  "language_info": {
   "codemirror_mode": {
    "name": "ipython",
    "version": 3
   },
   "file_extension": ".py",
   "mimetype": "text/x-python",
   "name": "python",
   "nbconvert_exporter": "python",
   "pygments_lexer": "ipython3",
   "version": "3.8.5"
  }
 },
 "nbformat": 4,
 "nbformat_minor": 5
}
