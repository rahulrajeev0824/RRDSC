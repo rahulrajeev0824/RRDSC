{
 "cells": [
  {
   "cell_type": "markdown",
   "id": "c005e8bf",
   "metadata": {},
   "source": [
    "# 5.2 Exercise: Modeling Distributions and PDFs\n",
    "# Rahul Rajeev\n"
   ]
  },
  {
   "cell_type": "markdown",
   "id": "fbb728af",
   "metadata": {},
   "source": [
    "**5.1 Exercise:** In the BRFSS (see Section 5.4), the distribution of heights is roughly normal with parameters µ = 178 cm and σ = 7.7 cm for men, and µ = 163 cm and σ = 7.3 cm for women.\n",
    "\n",
    "In order to join Blue Man Group, you have to be male between 5’10” and 6’1” (see http://bluemancasting.com). What percentage of the U.S. male population is in this range? Hint: use `scipy.stats.norm.cdf`."
   ]
  },
  {
   "cell_type": "markdown",
   "id": "65315792",
   "metadata": {},
   "source": [
    "`scipy.stats` contains objects that represent analytic distributions"
   ]
  },
  {
   "cell_type": "code",
   "execution_count": 33,
   "id": "877a66ff",
   "metadata": {},
   "outputs": [],
   "source": [
    "# imports\n",
    "import scipy.stats\n",
    "from os.path import basename, exists\n",
    "\n",
    "\n",
    "def download(url):\n",
    "    filename = basename(url)\n",
    "    if not exists(filename):\n",
    "        from urllib.request import urlretrieve\n",
    "\n",
    "        local, _ = urlretrieve(url, filename)\n",
    "        print(\"Downloaded \" + local)\n",
    "\n",
    "\n",
    "download(\"https://github.com/AllenDowney/ThinkStats2/raw/master/code/thinkstats2.py\")\n",
    "download(\"https://github.com/AllenDowney/ThinkStats2/raw/master/code/thinkplot.py\")\n",
    "\n",
    "import numpy as np\n",
    "import thinkstats2\n",
    "import thinkplot"
   ]
  },
  {
   "cell_type": "markdown",
   "id": "db2020f8",
   "metadata": {},
   "source": [
    "For example <tt>scipy.stats.norm</tt> represents a normal distribution."
   ]
  },
  {
   "cell_type": "code",
   "execution_count": 34,
   "id": "da681647",
   "metadata": {},
   "outputs": [
    {
     "data": {
      "text/plain": [
       "scipy.stats._distn_infrastructure.rv_frozen"
      ]
     },
     "execution_count": 34,
     "metadata": {},
     "output_type": "execute_result"
    }
   ],
   "source": [
    "mu = 178\n",
    "sigma = 7.7\n",
    "dist = scipy.stats.norm(loc=mu, scale=sigma)\n",
    "type(dist)"
   ]
  },
  {
   "cell_type": "markdown",
   "id": "74395537",
   "metadata": {},
   "source": [
    "A \"frozen random variable\" can compute its mean and standard deviation."
   ]
  },
  {
   "cell_type": "code",
   "execution_count": 35,
   "id": "ee6499bb",
   "metadata": {},
   "outputs": [
    {
     "data": {
      "text/plain": [
       "(178.0, 7.7)"
      ]
     },
     "execution_count": 35,
     "metadata": {},
     "output_type": "execute_result"
    }
   ],
   "source": [
    "dist.mean(), dist.std()"
   ]
  },
  {
   "cell_type": "markdown",
   "id": "ee4e9330",
   "metadata": {},
   "source": [
    "It can also evaluate its CDF.  How many people are below the mean by more than one standard deviation?  About 16%"
   ]
  },
  {
   "cell_type": "code",
   "execution_count": 36,
   "id": "f888f447",
   "metadata": {},
   "outputs": [
    {
     "data": {
      "text/plain": [
       "0.1586552539314574"
      ]
     },
     "execution_count": 36,
     "metadata": {},
     "output_type": "execute_result"
    }
   ],
   "source": [
    "dist.cdf(mu - sigma)"
   ]
  },
  {
   "cell_type": "markdown",
   "id": "8abc32ea",
   "metadata": {},
   "source": [
    "Q: How many people are between 5'10\" and 6'1\"?"
   ]
  },
  {
   "cell_type": "code",
   "execution_count": 42,
   "id": "e46c10f1",
   "metadata": {},
   "outputs": [
    {
     "data": {
      "text/plain": [
       "(0.48963902786483265, 0.8317337108107857, 0.3420946829459531)"
      ]
     },
     "execution_count": 42,
     "metadata": {},
     "output_type": "execute_result"
    }
   ],
   "source": [
    "# 5'10\" in cm = 177.8, 6'1\" in cm = 185.4 cm\n",
    "# we take these values and plug it into dist.cdf() to calculate the percentiles of each height\n",
    "percentile1 = dist.cdf(177.8)\n",
    "percentile2 = dist.cdf(185.4)\n",
    "# If you are at a height of 5'10\" you are in the 49th percentile and if you are at a height of 6'1\", you are in the 83rd\n",
    "# percentile\n",
    "# Then if we subtract these percentiles, we can find approximately the percentage of people between 5'10\" and 6'1\"\n",
    "answer = percentile2 - percentile1\n",
    "percentile1, percentile2, answer"
   ]
  },
  {
   "cell_type": "markdown",
   "id": "9cfb7106",
   "metadata": {},
   "source": [
    "A: The percentage of people in this height range is approximately 34%. "
   ]
  },
  {
   "cell_type": "markdown",
   "id": "4d568d93",
   "metadata": {},
   "source": [
    "**5.2 Exercise:** To get a feel for the Pareto distribution, let’s see how different the world would be if the distribution of human height were Pareto. With the parameters xm = 1 m and α = 1.7, we get a distribution with a reasonable minimum, 1 m, and median, 1.5 m.\n",
    "\n",
    "Plot this distribution. What is the mean human height in Pareto world? What fraction of the population is shorter than the mean? If there are 7 billion people in Pareto world, how many do we expect to be taller than 1 km? How tall do we expect the tallest person to be?\n",
    "\n",
    "`scipy.stats.pareto` represents a pareto distribution.  In Pareto world, the distribution of human heights has parameters alpha=1.7 and xmin=1 meter.  So the shortest person is 100 cm and the median is 150."
   ]
  },
  {
   "cell_type": "code",
   "execution_count": 43,
   "id": "bf72a64a",
   "metadata": {},
   "outputs": [
    {
     "data": {
      "text/plain": [
       "1.5034066538560549"
      ]
     },
     "execution_count": 43,
     "metadata": {},
     "output_type": "execute_result"
    }
   ],
   "source": [
    "alpha = 1.7\n",
    "xmin = 1  # meter\n",
    "dist = scipy.stats.pareto(b=alpha, scale=xmin)\n",
    "dist.median()"
   ]
  },
  {
   "cell_type": "markdown",
   "id": "2543477e",
   "metadata": {},
   "source": [
    "Q: What is the mean height in Pareto world?"
   ]
  },
  {
   "cell_type": "code",
   "execution_count": 45,
   "id": "eb5e9b6d",
   "metadata": {},
   "outputs": [
    {
     "data": {
      "text/plain": [
       "2.428571428571429"
      ]
     },
     "execution_count": 45,
     "metadata": {},
     "output_type": "execute_result"
    }
   ],
   "source": [
    "# call the mean function on the distribution\n",
    "pareto_mean = dist.mean()\n",
    "pareto_mean"
   ]
  },
  {
   "cell_type": "markdown",
   "id": "aa4e9c24",
   "metadata": {},
   "source": [
    "A: The mean height in Pareto world is 2.42 m."
   ]
  },
  {
   "cell_type": "markdown",
   "id": "098507e6",
   "metadata": {},
   "source": [
    "Q: What fraction of people are shorter than the mean?"
   ]
  },
  {
   "cell_type": "code",
   "execution_count": 47,
   "id": "074350b8",
   "metadata": {},
   "outputs": [
    {
     "data": {
      "text/plain": [
       "0.778739697565288"
      ]
     },
     "execution_count": 47,
     "metadata": {},
     "output_type": "execute_result"
    }
   ],
   "source": [
    "# calculate cdf of the mean\n",
    "dist.cdf(pareto_mean)"
   ]
  },
  {
   "cell_type": "markdown",
   "id": "735f2b57",
   "metadata": {},
   "source": [
    "A: Since the pareto_mean is in the 78th percentile, then 78% of the data is below the pareto_mean."
   ]
  },
  {
   "cell_type": "markdown",
   "id": "7ad15845",
   "metadata": {},
   "source": [
    "Q: Out of 7 billion people, how many do we expect to be taller than 1 km?  You could use <tt>dist.cdf</tt> or <tt>dist.sf</tt>."
   ]
  },
  {
   "cell_type": "code",
   "execution_count": 48,
   "id": "f863b81e",
   "metadata": {},
   "outputs": [
    {
     "data": {
      "text/plain": [
       "55602.976430479954"
      ]
     },
     "execution_count": 48,
     "metadata": {},
     "output_type": "execute_result"
    }
   ],
   "source": [
    "# calculate the percent of people above the cdf of 1000\n",
    "prob = (1-dist.cdf(1000))\n",
    "# multiply the 7 billion people into the probability to find the number of people taller than 1 km\n",
    "num_tall_ppl = 7e9 * prob\n",
    "num_tall_ppl"
   ]
  },
  {
   "cell_type": "markdown",
   "id": "1122af43",
   "metadata": {},
   "source": [
    "A: The number of people taller than 1km in pareto world is 55,603."
   ]
  },
  {
   "cell_type": "markdown",
   "id": "3649233e",
   "metadata": {},
   "source": [
    "Q: How tall do we expect the tallest person to be?"
   ]
  },
  {
   "cell_type": "code",
   "execution_count": 44,
   "id": "7af4d5bc",
   "metadata": {},
   "outputs": [],
   "source": [
    "# Using a ppf to revert the percentile of being the tallest person, the one person out of the 7 billion people into the number\n",
    "tallest_percentile = 1 - 1/7e9\n",
    "dist.ppf(tallest_percentile)"
   ]
  },
  {
   "cell_type": "markdown",
   "id": "5cfa3fe4",
   "metadata": {},
   "source": [
    "A: The height appears to be around 618349 m or 618 km."
   ]
  },
  {
   "cell_type": "markdown",
   "id": "c519daa8",
   "metadata": {},
   "source": [
    "**6.1 Exercise:** The distribution of income is famously skewed to the right. In this exercise, we’ll measure how strong that skew is.\n",
    "The Current Population Survey (CPS) is a joint effort of the Bureau of Labor Statistics and the Census Bureau to study income and related variables. Data collected in 2013 is available from http://www.census.gov/hhes/www/cpstables/032013/hhinc/toc.htm. I downloaded `hinc06.xls`, which is an Excel spreadsheet with information about household income, and converted it to `hinc06.csv`, a CSV file you will find in the repository for this book. You will also find `hinc2.py`, which reads this file and transforms the data.\n",
    "\n",
    "The dataset is in the form of a series of income ranges and the number of respondents who fell in each range. The lowest range includes respondents who reported annual household income “Under \\$5000.” The highest range includes respondents who made “\\$250,000 or more.”\n",
    "\n",
    "To estimate mean and other statistics from these data, we have to make some assumptions about the lower and upper bounds, and how the values are distributed in each range. `hinc2.py` provides `InterpolateSample`, which shows one way to model this data. It takes a `DataFrame` with a column, `income`, that contains the upper bound of each range, and `freq`, which contains the number of respondents in each frame.\n",
    "\n",
    "It also takes `log_upper`, which is an assumed upper bound on the highest range, expressed in `log10` dollars. The default value, `log_upper=6.0` represents the assumption that the largest income among the respondents is $10^6$, or one million dollars.\n",
    "\n",
    "`InterpolateSample` generates a pseudo-sample; that is, a sample of household incomes that yields the same number of respondents in each range as the actual data. It assumes that incomes in each range are equally spaced on a `log10` scale."
   ]
  },
  {
   "cell_type": "code",
   "execution_count": 34,
   "id": "c013dadf",
   "metadata": {},
   "outputs": [],
   "source": [
    "def InterpolateSample(df, log_upper=6.0):\n",
    "    \"\"\"Makes a sample of log10 household income.\n",
    "\n",
    "    Assumes that log10 income is uniform in each range.\n",
    "\n",
    "    df: DataFrame with columns income and freq\n",
    "    log_upper: log10 of the assumed upper bound for the highest range\n",
    "\n",
    "    returns: NumPy array of log10 household income\n",
    "    \"\"\"\n",
    "    # compute the log10 of the upper bound for each range\n",
    "    df['log_upper'] = np.log10(df.income)\n",
    "\n",
    "    # get the lower bounds by shifting the upper bound and filling in\n",
    "    # the first element\n",
    "    df['log_lower'] = df.log_upper.shift(1)\n",
    "    df.loc[0, 'log_lower'] = 3.0\n",
    "\n",
    "    # plug in a value for the unknown upper bound of the highest range\n",
    "    df.loc[41, 'log_upper'] = log_upper\n",
    "    \n",
    "    # use the freq column to generate the right number of values in\n",
    "    # each range\n",
    "    arrays = []\n",
    "    for _, row in df.iterrows():\n",
    "        vals = np.linspace(row.log_lower, row.log_upper, int(row.freq))\n",
    "        arrays.append(vals)\n",
    "\n",
    "    # collect the arrays into a single sample\n",
    "    log_sample = np.concatenate(arrays)\n",
    "    return log_sample\n"
   ]
  },
  {
   "cell_type": "code",
   "execution_count": 35,
   "id": "f0e3b751",
   "metadata": {},
   "outputs": [],
   "source": [
    "download(\"https://github.com/AllenDowney/ThinkStats2/raw/master/code/hinc.py\")\n",
    "download(\"https://github.com/AllenDowney/ThinkStats2/raw/master/code/hinc06.csv\")"
   ]
  },
  {
   "cell_type": "code",
   "execution_count": 36,
   "id": "29824dcc",
   "metadata": {},
   "outputs": [],
   "source": [
    "import hinc\n",
    "income_df = hinc.ReadData()"
   ]
  },
  {
   "cell_type": "code",
   "execution_count": 37,
   "id": "af0d8861",
   "metadata": {},
   "outputs": [],
   "source": [
    "log_sample = InterpolateSample(income_df, log_upper=6.0)"
   ]
  },
  {
   "cell_type": "code",
   "execution_count": 38,
   "id": "43343c94",
   "metadata": {},
   "outputs": [
    {
     "data": {
      "image/png": "[encoded data removed]",
      "text/plain": [
       "<Figure size 432x288 with 1 Axes>"
      ]
     },
     "metadata": {
      "needs_background": "light"
     },
     "output_type": "display_data"
    }
   ],
   "source": [
    "log_cdf = thinkstats2.Cdf(log_sample)\n",
    "thinkplot.Cdf(log_cdf)\n",
    "thinkplot.Config(xlabel='Household income (log $)',\n",
    "               ylabel='CDF')"
   ]
  },
  {
   "cell_type": "code",
   "execution_count": 39,
   "id": "6cf05dff",
   "metadata": {},
   "outputs": [],
   "source": [
    "sample = np.power(10, log_sample)"
   ]
  },
  {
   "cell_type": "code",
   "execution_count": 40,
   "id": "ec44633d",
   "metadata": {},
   "outputs": [
    {
     "data": {
      "image/png": "[encoded data removed]",
      "text/plain": [
       "<Figure size 432x288 with 1 Axes>"
      ]
     },
     "metadata": {
      "needs_background": "light"
     },
     "output_type": "display_data"
    }
   ],
   "source": [
    "cdf = thinkstats2.Cdf(sample)\n",
    "thinkplot.Cdf(cdf)\n",
    "thinkplot.Config(xlabel='Household income ($)',\n",
    "               ylabel='CDF')"
   ]
  },
  {
   "cell_type": "markdown",
   "id": "74c77331",
   "metadata": {},
   "source": [
    "Q: Compute the median, mean, skewness and Pearson’s skewness of the resulting sample. What fraction of households report a taxable income below the mean? How do the results depend on the assumed upper bound?"
   ]
  },
  {
   "cell_type": "code",
   "execution_count": 41,
   "id": "db8eb962",
   "metadata": {},
   "outputs": [
    {
     "data": {
      "text/plain": [
       "74278.70753118733"
      ]
     },
     "execution_count": 41,
     "metadata": {},
     "output_type": "execute_result"
    }
   ],
   "source": [
    "# calculating mean of interpolated sample\n",
    "\n",
    "Mean(sample)"
   ]
  },
  {
   "cell_type": "markdown",
   "id": "0c3903c0",
   "metadata": {},
   "source": [
    "A: The mean of the interpolated sample is $74,278 household income."
   ]
  },
  {
   "cell_type": "code",
   "execution_count": 43,
   "id": "62b6a447",
   "metadata": {},
   "outputs": [
    {
     "data": {
      "text/plain": [
       "51226.45447894046"
      ]
     },
     "execution_count": 43,
     "metadata": {},
     "output_type": "execute_result"
    }
   ],
   "source": [
    "# calculating the median of the interpolated sample\n",
    "\n",
    "Median(sample)"
   ]
  },
  {
   "cell_type": "markdown",
   "id": "cb2d80b2",
   "metadata": {},
   "source": [
    "A: The median of the interpolated sample is $51,226."
   ]
  },
  {
   "cell_type": "code",
   "execution_count": 44,
   "id": "9af30069",
   "metadata": {},
   "outputs": [
    {
     "data": {
      "text/plain": [
       "(4.949920244429583, 0.7361258019141782)"
      ]
     },
     "execution_count": 44,
     "metadata": {},
     "output_type": "execute_result"
    }
   ],
   "source": [
    "# Calculating Skewness and Pearson's Skewness\n",
    "\n",
    "Skewness(sample), PearsonMedianSkewness(sample)"
   ]
  },
  {
   "cell_type": "markdown",
   "id": "fce5a16f",
   "metadata": {},
   "source": [
    "A: The interpolated sample is highly positively skewed, meaning that the data is heavily distributed on the right\n",
    "peaked on the right. The pearson median skewness is also positive, meaning that the median is < than the mean, and the distribution is skewed to the right as predicted."
   ]
  },
  {
   "cell_type": "code",
   "execution_count": 46,
   "id": "cca49e8f",
   "metadata": {},
   "outputs": [
    {
     "data": {
      "text/plain": [
       "0.660005879566872"
      ]
     },
     "execution_count": 46,
     "metadata": {},
     "output_type": "execute_result"
    }
   ],
   "source": [
    "# calculating the fraction of households that report a taxable income below the mean\n",
    "\n",
    "cdf.Prob(Mean(sample))"
   ]
  },
  {
   "cell_type": "markdown",
   "id": "a20c9568",
   "metadata": {},
   "source": [
    "A: The probability returned is around 66%, so 2/3 of the population reports a taxable income below the mean."
   ]
  },
  {
   "cell_type": "markdown",
   "id": "d01a8438",
   "metadata": {},
   "source": [
    "Q: All of this is based on an assumption that the highest income is one million dollars, but that's certainly not correct.  What happens to the skew if the upper bound is 10 million?\n",
    "\n",
    "Without better information about the top of this distribution, we can't say much about the skewness of the distribution."
   ]
  },
  {
   "cell_type": "markdown",
   "id": "30f2e48b",
   "metadata": {},
   "source": [
    "A: Assuming that this question is rhetorical and doesn't actually ask us to add a row of values to the data frame, changing the\n",
    "upperbound to 10 million and having a decent amount of people past the million dollars point could cause the data to actually\n",
    "look skew left. The peak of data will happen around a little bit past the million mark, and the rest of the points will\n",
    "settle down towards the left. Since the majority of values thus far are up to a million (assuming), then scattering points\n",
    "in the range of 1 million to 10 million could have effects on the shape of the graph. "
   ]
  }
 ],
 "metadata": {
  "kernelspec": {
   "display_name": "Python 3",
   "language": "python",
   "name": "python3"
  },
  "language_info": {
   "codemirror_mode": {
    "name": "ipython",
    "version": 3
   },
   "file_extension": ".py",
   "mimetype": "text/x-python",
   "name": "python",
   "nbconvert_exporter": "python",
   "pygments_lexer": "ipython3",
   "version": "3.8.5"
  }
 },
 "nbformat": 4,
 "nbformat_minor": 5
}
