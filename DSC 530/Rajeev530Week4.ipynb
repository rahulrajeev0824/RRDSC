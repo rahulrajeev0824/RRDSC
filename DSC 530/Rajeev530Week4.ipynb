{
 "cells": [
  {
   "cell_type": "markdown",
   "id": "c93c6567",
   "metadata": {},
   "source": [
    "# 4.2 Exercise: Probability Mass Functions and Cumulative Distribution Functions \n",
    "# Rahul Rajeev\n"
   ]
  },
  {
   "cell_type": "markdown",
   "id": "e938bb06",
   "metadata": {},
   "source": [
    "**3.1 Exercise:** Something like the class size paradox appears if you survey children and ask how many children are in their family. Families with many children are more likely to appear in your sample, and families with no children have no chance to be in the sample.\n",
    "\n",
    "Use the NSFG respondent variable `numkdhh` to construct the actual distribution for the number of children under 18 in the respondents' households.\n",
    "\n",
    "Now compute the biased distribution we would see if we surveyed the children and asked them how many children under 18 (including themselves) are in their household.\n",
    "\n",
    "Plot the actual and biased distributions, and compute their means."
   ]
  },
  {
   "cell_type": "code",
   "execution_count": null,
   "id": "c1c0ee88",
   "metadata": {},
   "outputs": [],
   "source": [
    "import numpy as np\n",
    "import thinkstats2\n",
    "import thinkplot\n",
    "import first\n",
    "\n",
    "def download(url):\n",
    "    filename = basename(url)\n",
    "    if not exists(filename):\n",
    "        from urllib.request import urlretrieve\n",
    "\n",
    "        local, _ = urlretrieve(url, filename)\n",
    "        print(\"Downloaded \" + local)"
   ]
  },
  {
   "cell_type": "code",
   "execution_count": 4,
   "id": "f770637d",
   "metadata": {},
   "outputs": [],
   "source": [
    "download(\"https://github.com/AllenDowney/ThinkStats2/raw/master/code/2002FemResp.dct\")\n",
    "download(\"https://github.com/AllenDowney/ThinkStats2/raw/master/code/2002FemResp.dat.gz\")"
   ]
  },
  {
   "cell_type": "code",
   "execution_count": 5,
   "id": "c4a34e38",
   "metadata": {},
   "outputs": [],
   "source": [
    "resp = nsfg.ReadFemResp()"
   ]
  },
  {
   "cell_type": "code",
   "execution_count": 50,
   "id": "08e9bdd0",
   "metadata": {},
   "outputs": [
    {
     "data": {
      "image/png": "[encoded data removed]",
      "text/plain": [
       "<Figure size 432x288 with 1 Axes>"
      ]
     },
     "metadata": {
      "needs_background": "light"
     },
     "output_type": "display_data"
    }
   ],
   "source": [
    "# creating probability mass function from the numkdhh respondent variable and testing the plot\n",
    "numkdhh_pmf = thinkstats2.Pmf(resp.numkdhh, label=\"actual\")\n",
    "thinkplot.Hist(numkdhh_pmf)\n",
    "thinkplot.Config(xlabel=\"Number of kids under 18 in household\", ylabel=\"Pmf\")"
   ]
  },
  {
   "cell_type": "code",
   "execution_count": 13,
   "id": "8760ea66",
   "metadata": {},
   "outputs": [
    {
     "data": {
      "image/png": "[encoded data removed]",
      "text/plain": [
       "<Figure size 432x288 with 1 Axes>"
      ]
     },
     "metadata": {
      "needs_background": "light"
     },
     "output_type": "display_data"
    }
   ],
   "source": [
    "# compute the biased distribution\n",
    "biased_numkdhh = BiasPmf(numkdhh_pmf, label=\"biased\")\n",
    "thinkplot.Hist(biased_numkdhh)\n",
    "thinkplot.Config(xlabel=\"Biased Number of kids under 18 in household\", ylabel=\"Pmf\")"
   ]
  },
  {
   "cell_type": "code",
   "execution_count": 51,
   "id": "846c052b",
   "metadata": {},
   "outputs": [
    {
     "data": {
      "image/png": "[encoded data removed]",
      "text/plain": [
       "<Figure size 432x288 with 1 Axes>"
      ]
     },
     "metadata": {
      "needs_background": "light"
     },
     "output_type": "display_data"
    }
   ],
   "source": [
    "# plotting the actual and biased distributions over each other, used step functions for clarity\n",
    "thinkplot.PrePlot(2)\n",
    "thinkplot.Pmfs([numkdhh_pmf, biased_numkdhh])\n",
    "thinkplot.Config(xlabel=\"Number of children under 18 in household\", ylabel=\"PMF\")"
   ]
  },
  {
   "cell_type": "code",
   "execution_count": 52,
   "id": "475c99a8",
   "metadata": {},
   "outputs": [
    {
     "data": {
      "text/plain": [
       "1.024205155043831"
      ]
     },
     "execution_count": 52,
     "metadata": {},
     "output_type": "execute_result"
    }
   ],
   "source": [
    "# normal pmf mean\n",
    "numkdhh_pmf.Mean()"
   ]
  },
  {
   "cell_type": "code",
   "execution_count": 53,
   "id": "73e1b694",
   "metadata": {},
   "outputs": [
    {
     "data": {
      "text/plain": [
       "2.403679100664282"
      ]
     },
     "execution_count": 53,
     "metadata": {},
     "output_type": "execute_result"
    }
   ],
   "source": [
    "# biased pmf mean\n",
    "biased_numkdhh.Mean()"
   ]
  },
  {
   "cell_type": "markdown",
   "id": "7aca7cf3",
   "metadata": {},
   "source": [
    "**3.2 Exercise:** In Chapter 3 we computed the mean of a sample by adding up\n",
    "the elements and dividing by n.  If you are given a PMF, you can\n",
    "still compute the mean, but the process is slightly different:\n",
    "%\n",
    "$$ \\xbar = \\sum_i p_i~x_i $$\n",
    "%\n",
    "where the $x_i$ are the unique values in the PMF and $p_i=PMF(x_i)$.\n",
    "Similarly, you can compute variance like this:\n",
    "%\n",
    "$$ S^2 = \\sum_i p_i~(x_i - \\xbar)^2 $$\n",
    "% \n",
    "Write functions called `PmfMean` and `PmfVar` that take a\n",
    "Pmf object and compute the mean and variance.  To test these methods,\n",
    "check that they are consistent with the methods `Mean` and `Var`\n",
    "provided by `Pmf`."
   ]
  },
  {
   "cell_type": "code",
   "execution_count": 1,
   "id": "44021a63",
   "metadata": {},
   "outputs": [],
   "source": [
    "def PmfMean(pmf):\n",
    "    \"\"\"Computes the mean of a PMF.\n",
    "    Returns:\n",
    "        float mean\n",
    "    \"\"\"\n",
    "    return sum(p * x for x, p in pmf.Items())"
   ]
  },
  {
   "cell_type": "code",
   "execution_count": 2,
   "id": "3874eb3c",
   "metadata": {},
   "outputs": [],
   "source": [
    "def PmfVar(pmf, mu=None):\n",
    "    \"\"\"Computes the variance of a PMF.\n",
    "    mu: the point around which the variance is computed;\n",
    "            if omitted, computes the mean\n",
    "    returns: float variance\n",
    "    \"\"\"\n",
    "    if mu is None:\n",
    "        mu = PmfMean(pmf)\n",
    "\n",
    "    return sum(p * (x - mu) ** 2 for x, p in pmf.Items())"
   ]
  },
  {
   "cell_type": "code",
   "execution_count": 56,
   "id": "ef906ee5",
   "metadata": {
    "scrolled": true
   },
   "outputs": [
    {
     "name": "stdout",
     "output_type": "stream",
     "text": [
      "1.024205155043831 1.024205155043831\n",
      "1.4128643263531195 1.4128643263531195\n"
     ]
    }
   ],
   "source": [
    "# comparing pmf mean and pmf var to mean and var provided by pmf\n",
    "print(numkdhh_pmf.Mean(), PmfMean(numkdhh_pmf))\n",
    "print(numkdhh_pmf.Var(), PmfVar(numkdhh_pmf))"
   ]
  },
  {
   "cell_type": "markdown",
   "id": "d94a5c4e",
   "metadata": {
    "collapsed": true
   },
   "source": [
    "**4.1 Exercise:** How much did you weigh at birth? If you don’t know, call your mother or someone else who knows. Using the NSFG data (all live births), compute the distribution of birth weights and use it to find your percentile rank. If you were a first baby, find your percentile rank in the distribution for first babies. Otherwise use the distribution for others. If you are in the 90th percentile or higher, call your mother back and apologize."
   ]
  },
  {
   "cell_type": "code",
   "execution_count": 41,
   "id": "81269b89",
   "metadata": {},
   "outputs": [],
   "source": [
    "# first getting the distribution\n",
    "import first\n",
    "live, firsts, others = first.MakeFrames()\n",
    "\n",
    "# getting the first_weights data, and dropping the NA values\n",
    "first_wgts = firsts.totalwgt_lb\n",
    "first_wgts_actual = first_wgt.dropna()"
   ]
  },
  {
   "cell_type": "code",
   "execution_count": 68,
   "id": "0bab5480",
   "metadata": {
    "scrolled": true
   },
   "outputs": [
    {
     "data": {
      "image/png": "[encoded data removed]",
      "text/plain": [
       "<Figure size 432x288 with 1 Axes>"
      ]
     },
     "metadata": {
      "needs_background": "light"
     },
     "output_type": "display_data"
    }
   ],
   "source": [
    "#plotting the cdf\n",
    "first_wgts_cdf = thinkstats2.Cdf(first_wgts_actual, label='first')\n",
    "thinkplot.Cdf(first_wgts_cdf)\n",
    "thinkplot.Config(xlabel='Weight (pounds)', ylabel='CDF')"
   ]
  },
  {
   "cell_type": "code",
   "execution_count": 69,
   "id": "3723b152",
   "metadata": {},
   "outputs": [
    {
     "data": {
      "text/plain": [
       "87.18771487508596"
      ]
     },
     "execution_count": 69,
     "metadata": {},
     "output_type": "execute_result"
    }
   ],
   "source": [
    "# finding my percentile\n",
    "first_wgts_cdf.PercentileRank(8.6)\n",
    "\n",
    "# I still called my mom to apologize because being in the 87th percentile is still not a joke"
   ]
  },
  {
   "cell_type": "markdown",
   "id": "450f68c7",
   "metadata": {
    "collapsed": true
   },
   "source": [
    "**4.2 Exercise:** The numbers generated by `numpy.random.random` are supposed to be uniform between 0 and 1; that is, every value in the range should have the same probability.\n",
    "\n",
    "Generate 1000 numbers from `numpy.random.random` and plot their PMF.  What goes wrong?\n",
    "\n",
    "Now plot the CDF. Is the distribution uniform?"
   ]
  },
  {
   "cell_type": "code",
   "execution_count": 70,
   "id": "ffdacb76",
   "metadata": {},
   "outputs": [],
   "source": [
    "# generating the numbers\n",
    "\n",
    "sample = np.random.random(1000)"
   ]
  },
  {
   "cell_type": "code",
   "execution_count": 74,
   "id": "ae5f1ea7",
   "metadata": {},
   "outputs": [
    {
     "data": {
      "image/png": "[encoded data removed]",
      "text/plain": [
       "<Figure size 432x288 with 1 Axes>"
      ]
     },
     "metadata": {
      "needs_background": "light"
     },
     "output_type": "display_data"
    }
   ],
   "source": [
    "# pmf\n",
    "\n",
    "random_pmf = thinkstats2.Pmf(sample)\n",
    "thinkplot.Pmf(random_pmf, linewidth=0.1)\n",
    "thinkplot.Config(xlabel='Random', ylabel='PMF')\n",
    "\n",
    "# Thoughts:\n",
    "# The pmf graph appears to be too condensed, and there isn't a way to see whether the probabilities add up to 1.\n",
    "# It just looks like a barcode. "
   ]
  },
  {
   "cell_type": "code",
   "execution_count": 76,
   "id": "1b1f024e",
   "metadata": {},
   "outputs": [
    {
     "data": {
      "image/png": "[encoded data removed]",
      "text/plain": [
       "<Figure size 432x288 with 1 Axes>"
      ]
     },
     "metadata": {
      "needs_background": "light"
     },
     "output_type": "display_data"
    }
   ],
   "source": [
    "# cdf\n",
    "random_cdf = thinkstats2.Cdf(sample)\n",
    "thinkplot.Cdf(random_cdf)\n",
    "thinkplot.Config(xlabel='Random', ylabel='CDF')\n",
    "\n",
    "# Thoughts:\n",
    "# The CDF graph is approximately a straight line, which means that the distribution is uniform.\n",
    "# 10% of the data is below the 10th percentile, 20% of the data is below the 20th percentile, as the book says.\n"
   ]
  }
 ],
 "metadata": {
  "kernelspec": {
   "display_name": "Python 3",
   "language": "python",
   "name": "python3"
  },
  "language_info": {
   "codemirror_mode": {
    "name": "ipython",
    "version": 3
   },
   "file_extension": ".py",
   "mimetype": "text/x-python",
   "name": "python",
   "nbconvert_exporter": "python",
   "pygments_lexer": "ipython3",
   "version": "3.8.5"
  }
 },
 "nbformat": 4,
 "nbformat_minor": 5
}
