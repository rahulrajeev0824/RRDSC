{
 "cells": [
  {
   "cell_type": "markdown",
   "id": "2854687b",
   "metadata": {},
   "source": [
    "# 8.2 Exercises: Hypothesis Testing and Linear Regression\n",
    "# Rahul Rajeev"
   ]
  },
  {
   "cell_type": "code",
   "execution_count": 1,
   "id": "bd906c3f",
   "metadata": {},
   "outputs": [
    {
     "name": "stdout",
     "output_type": "stream",
     "text": [
      "Downloaded thinkstats2.py\n",
      "Downloaded thinkplot.py\n"
     ]
    }
   ],
   "source": [
    "from os.path import basename, exists\n",
    "\n",
    "\n",
    "def download(url):\n",
    "    filename = basename(url)\n",
    "    if not exists(filename):\n",
    "        from urllib.request import urlretrieve\n",
    "\n",
    "        local, _ = urlretrieve(url, filename)\n",
    "        print(\"Downloaded \" + local)\n",
    "\n",
    "\n",
    "download(\"https://github.com/AllenDowney/ThinkStats2/raw/master/code/thinkstats2.py\")\n",
    "download(\"https://github.com/AllenDowney/ThinkStats2/raw/master/code/thinkplot.py\")\n",
    "import numpy as np\n",
    "import random\n",
    "import thinkstats2\n",
    "import thinkplot"
   ]
  },
  {
   "cell_type": "code",
   "execution_count": 2,
   "id": "848968f9",
   "metadata": {},
   "outputs": [
    {
     "name": "stdout",
     "output_type": "stream",
     "text": [
      "Downloaded nsfg.py\n",
      "Downloaded first.py\n",
      "Downloaded 2002FemPreg.dct\n",
      "Downloaded 2002FemPreg.dat.gz\n"
     ]
    }
   ],
   "source": [
    "download(\"https://github.com/AllenDowney/ThinkStats2/raw/master/code/nsfg.py\")\n",
    "download(\"https://github.com/AllenDowney/ThinkStats2/raw/master/code/first.py\")\n",
    "download(\"https://github.com/AllenDowney/ThinkStats2/raw/master/code/2002FemPreg.dct\")\n",
    "download(\n",
    "    \"https://github.com/AllenDowney/ThinkStats2/raw/master/code/2002FemPreg.dat.gz\"\n",
    ")\n",
    "import first\n",
    "\n",
    "live, firsts, others = first.MakeFrames()\n",
    "data = firsts.prglngth.values, others.prglngth.values"
   ]
  },
  {
   "cell_type": "markdown",
   "id": "3d785cd6",
   "metadata": {},
   "source": [
    "**9.1 Exercise:** As sample size increases, the power of a hypothesis test increases, which means it is more likely to be positive if the effect is real. Conversely, as sample size decreases, the test is less likely to be positive even if the effect is real.\n",
    "\n",
    "To investigate this behavior, run the tests in this chapter with different subsets of the NSFG data. You can use `thinkstats2.SampleRows` to select a random subset of the rows in a DataFrame.\n",
    "\n",
    "What happens to the p-values of these tests as sample size decreases? What is the smallest sample size that yields a positive test?"
   ]
  },
  {
   "cell_type": "code",
   "execution_count": 36,
   "id": "e2be73a3",
   "metadata": {},
   "outputs": [],
   "source": [
    "# testing base case using 1000 iterations\n",
    "iters = 1000\n",
    "n = len(live)\n",
    "firsts = live[live.birthord == 1]\n",
    "others = live[live.birthord != 1]"
   ]
  },
  {
   "cell_type": "code",
   "execution_count": 37,
   "id": "ac23ecc5",
   "metadata": {},
   "outputs": [],
   "source": [
    "# diff means in pregnancy length\n",
    "\n",
    "data1 = firsts.prglngth.values, others.prglngth.values\n",
    "ht1 = DiffMeansPermute(data1)\n",
    "p1 = ht1.PValue(iters)"
   ]
  },
  {
   "cell_type": "code",
   "execution_count": 38,
   "id": "407ac490",
   "metadata": {},
   "outputs": [],
   "source": [
    "# diff means in weight\n",
    "\n",
    "data2 = (firsts.totalwgt_lb.dropna().values,\n",
    "        others.totalwgt_lb.dropna().values)\n",
    "ht2 = DiffMeansPermute(data2)\n",
    "p2 = ht2.PValue(iters)"
   ]
  },
  {
   "cell_type": "code",
   "execution_count": 39,
   "id": "5d8563ad",
   "metadata": {},
   "outputs": [],
   "source": [
    "# correlation between pregnancy age and weight\n",
    "\n",
    "live2 = live.dropna(subset=['agepreg', 'totalwgt_lb'])\n",
    "data3 = live2.agepreg.values, live2.totalwgt_lb.values\n",
    "ht3 = CorrelationPermute(data3)\n",
    "p3 = ht3.PValue(iters)"
   ]
  },
  {
   "cell_type": "code",
   "execution_count": 40,
   "id": "dccb1671",
   "metadata": {},
   "outputs": [],
   "source": [
    "# chi-square pregnancy length comparison\n",
    "\n",
    "data4 = firsts.prglngth.values, others.prglngth.values\n",
    "ht4 = PregLengthTest(data4)\n",
    "p4 = ht4.PValue(iters)"
   ]
  },
  {
   "cell_type": "code",
   "execution_count": 41,
   "id": "f569032a",
   "metadata": {},
   "outputs": [
    {
     "name": "stdout",
     "output_type": "stream",
     "text": [
      "9148 0.157 0.0 0.0 0.0\n"
     ]
    }
   ],
   "source": [
    "print(n, p1, p2, p3, p4)"
   ]
  },
  {
   "cell_type": "code",
   "execution_count": 58,
   "id": "f8fe0b1f",
   "metadata": {},
   "outputs": [],
   "source": [
    "def runTest(live, iterations):\n",
    "    n = len(live)\n",
    "    firsts = live[live.birthord == 1]\n",
    "    others = live[live.birthord != 1]\n",
    "    \n",
    "    data1 = firsts.prglngth.values, others.prglngth.values\n",
    "    ht1 = DiffMeansPermute(data1)\n",
    "    p1 = ht1.PValue(iterations)\n",
    "    \n",
    "    data2 = (firsts.totalwgt_lb.dropna().values,\n",
    "            others.totalwgt_lb.dropna().values)\n",
    "    ht2 = DiffMeansPermute(data2)\n",
    "    p2 = ht2.PValue(iterations)\n",
    "    \n",
    "    live2 = live.dropna(subset=['agepreg', 'totalwgt_lb'])\n",
    "    data3 = live2.agepreg.values, live2.totalwgt_lb.values\n",
    "    ht3 = CorrelationPermute(data3)\n",
    "    p3 = ht3.PValue(iterations)\n",
    "    \n",
    "    data4 = firsts.prglngth.values, others.prglngth.values\n",
    "    ht4 = PregLengthTest(data4)\n",
    "    p4 = ht4.PValue(iterations)\n",
    "    \n",
    "    print(n, '|', p1, '|', p2, '|', p3, '|', p4)"
   ]
  },
  {
   "cell_type": "code",
   "execution_count": 59,
   "id": "3a5057e5",
   "metadata": {},
   "outputs": [
    {
     "name": "stdout",
     "output_type": "stream",
     "text": [
      "n | p1 | p2 | p3 | p4\n",
      "9148 | 0.159 | 0.0 | 0.0 | 0.0\n",
      "4574 | 0.01 | 0.002 | 0.0 | 0.0\n",
      "2287 | 0.482 | 0.057 | 0.002 | 0.0\n",
      "1143 | 0.456 | 0.079 | 0.046 | 0.366\n",
      "571 | 0.743 | 0.231 | 0.184 | 0.163\n",
      "285 | 0.498 | 0.323 | 0.008 | 0.59\n",
      "142 | 0.214 | 0.625 | 0.666 | 0.505\n",
      "71 | 0.742 | 0.323 | 0.224 | 0.764\n",
      "35 | 0.085 | 0.024 | 0.391 | 0.0\n",
      "17 | 0.459 | 0.588 | 0.794 | 0.0\n"
     ]
    },
    {
     "name": "stderr",
     "output_type": "stream",
     "text": [
      "<ipython-input-23-7ea16e8fdd92>:26: RuntimeWarning: invalid value encountered in true_divide\n",
      "  stat = sum((observed - expected)**2 / expected)\n"
     ]
    }
   ],
   "source": [
    "# running the tests for samples of increasing size up to around the length of the dataset\n",
    "i = len(live)\n",
    "print('n | p1 | p2 | p3 | p4')\n",
    "while i >= 10:\n",
    "    sample = thinkstats2.SampleRows(live, i)\n",
    "    runTest(sample, 1000)\n",
    "    i//=2"
   ]
  },
  {
   "cell_type": "markdown",
   "id": "0931d9dc",
   "metadata": {},
   "source": [
    "**Q:** What happens to the p-values of these tests as sample size decreases? What is the smallest sample size that yields a positive test?"
   ]
  },
  {
   "cell_type": "markdown",
   "id": "a635e3e0",
   "metadata": {},
   "source": [
    "Most tests that are positive with large sample sizes become more negative as we take away values. However, there are some p-values that increase with samples taken away with smaller sample sizes. "
   ]
  },
  {
   "cell_type": "markdown",
   "id": "6b0fcb6b",
   "metadata": {},
   "source": [
    "**10.1 Exercise:** Using the data from the BRFSS, compute the linear least squares fit for log(weight) versus height. How would you best present the estimated parameters for a model like this where one of the variables is log-transformed? If you were trying to guess someone’s weight, how much would it help to know their height?\n",
    "\n",
    "Like the NSFG, the BRFSS oversamples some groups and provides a sampling weight for each respondent. In the BRFSS data, the variable name for these weights is totalwt. Use resampling, with and without weights, to estimate the mean height of respondents in the BRFSS, the standard error of the mean, and a 90% confidence interval. How much does correct weighting affect the estimates?"
   ]
  },
  {
   "cell_type": "markdown",
   "id": "bd97458f",
   "metadata": {},
   "source": [
    "Read the BRFSS data and extract heights and log weights."
   ]
  },
  {
   "cell_type": "code",
   "execution_count": 43,
   "id": "f170a32a",
   "metadata": {},
   "outputs": [],
   "source": [
    "download(\"https://github.com/AllenDowney/ThinkStats2/raw/master/code/brfss.py\")\n",
    "download(\"https://github.com/AllenDowney/ThinkStats2/raw/master/code/CDBRFS08.ASC.gz\")"
   ]
  },
  {
   "cell_type": "code",
   "execution_count": 42,
   "id": "dfc494c1",
   "metadata": {},
   "outputs": [],
   "source": [
    "import brfss\n",
    "\n",
    "df = brfss.ReadBrfss(nrows=None)\n",
    "df = df.dropna(subset=['htm3', 'wtkg2'])\n",
    "heights, weights = df.htm3, df.wtkg2\n",
    "log_weights = np.log10(weights)"
   ]
  },
  {
   "cell_type": "markdown",
   "id": "651cee8f",
   "metadata": {},
   "source": [
    "Estimate intercept and slope."
   ]
  },
  {
   "cell_type": "code",
   "execution_count": 45,
   "id": "9dbc021f",
   "metadata": {},
   "outputs": [
    {
     "data": {
      "text/plain": [
       "(0.9930804163918215, 0.005281454169417753)"
      ]
     },
     "execution_count": 45,
     "metadata": {},
     "output_type": "execute_result"
    }
   ],
   "source": [
    "intercept, slope = thinkstats2.LeastSquares(heights, log_weights)\n",
    "intercept, slope"
   ]
  },
  {
   "cell_type": "markdown",
   "id": "60162ad3",
   "metadata": {},
   "source": [
    "Make a scatter plot of the data and show the fitted line."
   ]
  },
  {
   "cell_type": "code",
   "execution_count": 49,
   "id": "a680c843",
   "metadata": {},
   "outputs": [
    {
     "data": {
      "image/png": "[encoded data removed]",
      "text/plain": [
       "<Figure size 432x288 with 1 Axes>"
      ]
     },
     "metadata": {
      "needs_background": "light"
     },
     "output_type": "display_data"
    }
   ],
   "source": [
    "thinkplot.Scatter(heights, log_weights, color = 'black', alpha=0.01, s=5)\n",
    "fxs, fys = thinkstats2.FitLine(heights, intercept, slope)\n",
    "thinkplot.Plot(fxs, fys, color='blue')\n",
    "thinkplot.Config(xlabel='Height (cm)', ylabel='log10 weight (kg)', legend=False)"
   ]
  },
  {
   "cell_type": "markdown",
   "id": "a587af45",
   "metadata": {},
   "source": [
    "Make the same plot but apply the inverse transform to show weights on a linear (not log) scale."
   ]
  },
  {
   "cell_type": "code",
   "execution_count": 51,
   "id": "6d6faa6e",
   "metadata": {},
   "outputs": [
    {
     "data": {
      "image/png": "[encoded data removed]",
      "text/plain": [
       "<Figure size 432x288 with 1 Axes>"
      ]
     },
     "metadata": {
      "needs_background": "light"
     },
     "output_type": "display_data"
    }
   ],
   "source": [
    "thinkplot.Scatter(heights, weights, color = 'black', alpha=0.01, s=5)\n",
    "fxs, fys = thinkstats2.FitLine(heights, intercept, slope)\n",
    "thinkplot.Plot(fxs, 10**fys, color='blue')\n",
    "thinkplot.Config(xlabel='Height (cm)', ylabel='Weight (kg)', legend=False)"
   ]
  },
  {
   "cell_type": "markdown",
   "id": "72e86934",
   "metadata": {},
   "source": [
    "Plot percentiles of the residuals."
   ]
  },
  {
   "cell_type": "code",
   "execution_count": 53,
   "id": "839071e3",
   "metadata": {},
   "outputs": [],
   "source": [
    "# creating residuals\n",
    "residuals = thinkstats2.Residuals(heights, log_weights, intercept, slope)\n",
    "df['residual'] = residuals\n",
    "\n",
    "# creating bins and groups grouped by indices\n",
    "bins = np.arange(130, 210, 5)\n",
    "indices = np.digitize(df.htm3, bins)\n",
    "groups = df.groupby(indices)"
   ]
  },
  {
   "cell_type": "code",
   "execution_count": null,
   "id": "6598875d",
   "metadata": {},
   "outputs": [],
   "source": [
    "# lists of weights and cdfs, cutting off the first and last ones\n",
    "means = [group.htm3.mean() for i, group in groups][1:-1]\n",
    "cdfs = [thinkstats2.Cdf(group.residual) for i, group in groups][1:-1]"
   ]
  },
  {
   "cell_type": "code",
   "execution_count": 66,
   "id": "ac99992b",
   "metadata": {},
   "outputs": [
    {
     "data": {
      "image/png": "[encoded data removed]",
      "text/plain": [
       "<Figure size 432x288 with 1 Axes>"
      ]
     },
     "metadata": {
      "needs_background": "light"
     },
     "output_type": "display_data"
    }
   ],
   "source": [
    "# plotting the residual plots\n",
    "for percent in [75, 50, 25]:\n",
    "    ress = [cdf.Percentile(percent) for cdf in cdfs]\n",
    "    label = '%dth' % percent\n",
    "    thinkplot.Plot(means, ress, label=label)\n",
    "    \n",
    "thinkplot.Config(xlabel='height (cm)', \n",
    "                 ylabel='residual weight (kg)', \n",
    "                 legend=False)"
   ]
  },
  {
   "cell_type": "markdown",
   "id": "c9ff6487",
   "metadata": {},
   "source": [
    "Compute correlation."
   ]
  },
  {
   "cell_type": "code",
   "execution_count": 55,
   "id": "25d7471b",
   "metadata": {},
   "outputs": [
    {
     "data": {
      "text/plain": [
       "0.5317282605983414"
      ]
     },
     "execution_count": 55,
     "metadata": {},
     "output_type": "execute_result"
    }
   ],
   "source": [
    "rho = thinkstats2.Corr(heights, log_weights)\n",
    "rho"
   ]
  },
  {
   "cell_type": "markdown",
   "id": "d89584e1",
   "metadata": {},
   "source": [
    "Compute coefficient of determination."
   ]
  },
  {
   "cell_type": "code",
   "execution_count": 61,
   "id": "e41ac2ac",
   "metadata": {},
   "outputs": [
    {
     "data": {
      "text/plain": [
       "0.2827349431189399"
      ]
     },
     "execution_count": 61,
     "metadata": {},
     "output_type": "execute_result"
    }
   ],
   "source": [
    "r2 = thinkstats2.CoefDetermination(log_weights, residuals)\n",
    "r2"
   ]
  },
  {
   "cell_type": "markdown",
   "id": "ef98dc8a",
   "metadata": {},
   "source": [
    "Confirm that $R^2 = \\rho^2$."
   ]
  },
  {
   "cell_type": "code",
   "execution_count": 65,
   "id": "87d75c55",
   "metadata": {},
   "outputs": [
    {
     "name": "stdout",
     "output_type": "stream",
     "text": [
      "0.2827349431189377 0.2827349431189399\n"
     ]
    }
   ],
   "source": [
    "print(rho**2, r2)"
   ]
  },
  {
   "cell_type": "markdown",
   "id": "53e08e86",
   "metadata": {},
   "source": [
    "**A:** Close enough!"
   ]
  },
  {
   "cell_type": "markdown",
   "id": "0b6d231d",
   "metadata": {},
   "source": [
    "Compute Std(ys), which is the RMSE of predictions that don't use height."
   ]
  },
  {
   "cell_type": "code",
   "execution_count": 70,
   "id": "b91028eb",
   "metadata": {},
   "outputs": [
    {
     "data": {
      "text/plain": [
       "0.10320725030004888"
      ]
     },
     "execution_count": 70,
     "metadata": {},
     "output_type": "execute_result"
    }
   ],
   "source": [
    "std_ys = thinkstats2.Std(log_weights)\n",
    "std_ys"
   ]
  },
  {
   "cell_type": "markdown",
   "id": "1de63ee9",
   "metadata": {},
   "source": [
    "Compute Std(res), the RMSE of predictions that do use height."
   ]
  },
  {
   "cell_type": "code",
   "execution_count": 71,
   "id": "c065110b",
   "metadata": {},
   "outputs": [
    {
     "data": {
      "text/plain": [
       "0.08740777080416084"
      ]
     },
     "execution_count": 71,
     "metadata": {},
     "output_type": "execute_result"
    }
   ],
   "source": [
    "std_res = thinkstats2.Std(residuals)\n",
    "std_res"
   ]
  },
  {
   "cell_type": "markdown",
   "id": "a2634483",
   "metadata": {},
   "source": [
    "How much does height information reduce RMSE?"
   ]
  },
  {
   "cell_type": "code",
   "execution_count": 72,
   "id": "41cae822",
   "metadata": {},
   "outputs": [
    {
     "data": {
      "text/plain": [
       "0.15308497658793407"
      ]
     },
     "execution_count": 72,
     "metadata": {},
     "output_type": "execute_result"
    }
   ],
   "source": [
    "1 - std_res / std_ys"
   ]
  },
  {
   "cell_type": "markdown",
   "id": "5dfc051f",
   "metadata": {},
   "source": [
    "Use resampling to compute sampling distributions for inter and slope."
   ]
  },
  {
   "cell_type": "code",
   "execution_count": 78,
   "id": "0309aac6",
   "metadata": {},
   "outputs": [],
   "source": [
    "t_values = []\n",
    "for i in range(100):\n",
    "    sample = thinkstats2.ResampleRows(df)\n",
    "    estimates = thinkstats2.LeastSquares(sample.htm3, np.log10(sample.wtkg2))\n",
    "    t_values.append(estimates)\n",
    "\n",
    "intercepts, slopes = zip(*t_values)"
   ]
  },
  {
   "cell_type": "markdown",
   "id": "7ab2f9b6",
   "metadata": {},
   "source": [
    "Plot the sampling distribution of slope."
   ]
  },
  {
   "cell_type": "code",
   "execution_count": 79,
   "id": "36c5a3bd",
   "metadata": {},
   "outputs": [
    {
     "data": {
      "text/plain": [
       "{'xscale': 'linear', 'yscale': 'linear'}"
      ]
     },
     "execution_count": 79,
     "metadata": {},
     "output_type": "execute_result"
    },
    {
     "data": {
      "image/png": "[encoded data removed]",
      "text/plain": [
       "<Figure size 432x288 with 1 Axes>"
      ]
     },
     "metadata": {
      "needs_background": "light"
     },
     "output_type": "display_data"
    }
   ],
   "source": [
    "cdf = thinkstats2.Cdf(slopes)\n",
    "thinkplot.Cdf(cdf)"
   ]
  },
  {
   "cell_type": "markdown",
   "id": "80c7a377",
   "metadata": {},
   "source": [
    "Compute the p-value of the slope."
   ]
  },
  {
   "cell_type": "code",
   "execution_count": 80,
   "id": "5a66ce16",
   "metadata": {},
   "outputs": [
    {
     "data": {
      "text/plain": [
       "0"
      ]
     },
     "execution_count": 80,
     "metadata": {},
     "output_type": "execute_result"
    }
   ],
   "source": [
    "pvalue = cdf[0]\n",
    "pvalue"
   ]
  },
  {
   "cell_type": "markdown",
   "id": "d0bd878d",
   "metadata": {},
   "source": [
    "Compute the 90% confidence interval of slope."
   ]
  },
  {
   "cell_type": "code",
   "execution_count": 81,
   "id": "a3425a18",
   "metadata": {},
   "outputs": [
    {
     "data": {
      "text/plain": [
       "(0.005262439556339632, 0.005301938419593701)"
      ]
     },
     "execution_count": 81,
     "metadata": {},
     "output_type": "execute_result"
    }
   ],
   "source": [
    "ci = cdf.Percentile(5), cdf.Percentile(95)\n",
    "ci"
   ]
  },
  {
   "cell_type": "markdown",
   "id": "ce011bca",
   "metadata": {},
   "source": [
    "Compute the mean of the sampling distribution."
   ]
  },
  {
   "cell_type": "code",
   "execution_count": 82,
   "id": "fb1de0ac",
   "metadata": {},
   "outputs": [
    {
     "data": {
      "text/plain": [
       "0.005279805169515126"
      ]
     },
     "execution_count": 82,
     "metadata": {},
     "output_type": "execute_result"
    }
   ],
   "source": [
    "mean = thinkstats2.Mean(slopes)\n",
    "mean"
   ]
  },
  {
   "cell_type": "markdown",
   "id": "c323e286",
   "metadata": {},
   "source": [
    "Compute the standard deviation of the sampling distribution, which is the standard error."
   ]
  },
  {
   "cell_type": "code",
   "execution_count": 84,
   "id": "5aceecbc",
   "metadata": {},
   "outputs": [
    {
     "data": {
      "text/plain": [
       "1.2930833479356284e-05"
      ]
     },
     "execution_count": 84,
     "metadata": {},
     "output_type": "execute_result"
    }
   ],
   "source": [
    "stde = thinkstats2.Std(slopes)\n",
    "stde"
   ]
  },
  {
   "cell_type": "markdown",
   "id": "1529f92f",
   "metadata": {},
   "source": [
    "Resample rows without weights, compute mean height, and summarize results."
   ]
  },
  {
   "cell_type": "code",
   "execution_count": 85,
   "id": "4612da64",
   "metadata": {},
   "outputs": [
    {
     "name": "stdout",
     "output_type": "stream",
     "text": [
      "mean, SE, CI 168.95476924553853 0.01768934893916453 (168.92370247983993, 168.98501384425717)\n"
     ]
    }
   ],
   "source": [
    "estimates_unweighted = [thinkstats2.ResampleRows(df).htm3.mean() for i in range(100)]\n",
    "Summarize(estimates_unweighted)"
   ]
  },
  {
   "cell_type": "markdown",
   "id": "ae7636b7",
   "metadata": {},
   "source": [
    "Resample rows with weights.  Note that the weight column in this dataset is called `finalwt`."
   ]
  },
  {
   "cell_type": "code",
   "execution_count": 62,
   "id": "47706a3e",
   "metadata": {},
   "outputs": [
    {
     "name": "stdout",
     "output_type": "stream",
     "text": [
      "mean, SE, CI 170.497191940015 0.018612452321638048 (170.46966137149093, 170.52532892742374)\n"
     ]
    }
   ],
   "source": [
    "estimates_weighted = [ResampleRowsWeighted(df, 'finalwt').htm3.mean() for _ in range(100)]\n",
    "Summarize(estimates_weighted)"
   ]
  }
 ],
 "metadata": {
  "kernelspec": {
   "display_name": "Python 3",
   "language": "python",
   "name": "python3"
  },
  "language_info": {
   "codemirror_mode": {
    "name": "ipython",
    "version": 3
   },
   "file_extension": ".py",
   "mimetype": "text/x-python",
   "name": "python",
   "nbconvert_exporter": "python",
   "pygments_lexer": "ipython3",
   "version": "3.8.5"
  }
 },
 "nbformat": 4,
 "nbformat_minor": 5
}
