{
 "cells": [
  {
   "cell_type": "markdown",
   "id": "0d560d15",
   "metadata": {},
   "source": [
    "# 11.2 Exercises: Building a CNN Image Classifier\n",
    "# Rahul Rajeev"
   ]
  },
  {
   "cell_type": "code",
   "execution_count": 57,
   "id": "486e2d77",
   "metadata": {},
   "outputs": [],
   "source": [
    "# libraries\n",
    "import numpy as np\n",
    "from keras.datasets import mnist\n",
    "from keras.models import Sequential\n",
    "from keras.layers import Dense, Dropout, Flatten, Input\n",
    "from keras.layers.convolutional import Conv2D, MaxPooling2D\n",
    "from keras.utils import np_utils\n",
    "from tensorflow.keras import backend as k\n",
    "import matplotlib.pyplot as plt\n",
    "from sklearn.metrics import confusion_matrix\n",
    "import seaborn as sns"
   ]
  },
  {
   "cell_type": "markdown",
   "id": "4ae9d22b",
   "metadata": {},
   "source": [
    "**1. Load Dataset**"
   ]
  },
  {
   "cell_type": "code",
   "execution_count": 28,
   "id": "f0570d2b",
   "metadata": {},
   "outputs": [],
   "source": [
    "# loading data\n",
    "(x_train, y_train), (x_test, y_test) = mnist.load_data()"
   ]
  },
  {
   "cell_type": "code",
   "execution_count": 29,
   "id": "e9f2d65c",
   "metadata": {},
   "outputs": [
    {
     "data": {
      "text/plain": [
       "(28, 28)"
      ]
     },
     "execution_count": 29,
     "metadata": {},
     "output_type": "execute_result"
    }
   ],
   "source": [
    "x_train[0].shape"
   ]
  },
  {
   "cell_type": "markdown",
   "id": "6a0306d1",
   "metadata": {},
   "source": [
    "**2. Display the first five images in the training data set (see section 8.1 in the Machine Learning with Python Cookbook). Compare these to the first five training labels**"
   ]
  },
  {
   "cell_type": "code",
   "execution_count": 30,
   "id": "0043128b",
   "metadata": {},
   "outputs": [
    {
     "data": {
      "image/png": "[encoded data removed]",
      "text/plain": [
       "<Figure size 432x288 with 1 Axes>"
      ]
     },
     "metadata": {
      "needs_background": "light"
     },
     "output_type": "display_data"
    },
    {
     "data": {
      "image/png": "[encoded data removed]",
      "text/plain": [
       "<Figure size 432x288 with 1 Axes>"
      ]
     },
     "metadata": {
      "needs_background": "light"
     },
     "output_type": "display_data"
    },
    {
     "data": {
      "image/png": "[encoded data removed]",
      "text/plain": [
       "<Figure size 432x288 with 1 Axes>"
      ]
     },
     "metadata": {
      "needs_background": "light"
     },
     "output_type": "display_data"
    },
    {
     "data": {
      "image/png": "[encoded data removed]",
      "text/plain": [
       "<Figure size 432x288 with 1 Axes>"
      ]
     },
     "metadata": {
      "needs_background": "light"
     },
     "output_type": "display_data"
    },
    {
     "data": {
      "image/png": "[encoded data removed]",
      "text/plain": [
       "<Figure size 432x288 with 1 Axes>"
      ]
     },
     "metadata": {
      "needs_background": "light"
     },
     "output_type": "display_data"
    }
   ],
   "source": [
    "# looping for first 5 using imshow on the array for pixels\n",
    "for i in range(5):\n",
    "    plt.imshow(x_train[i], cmap='gray')\n",
    "    plt.show()"
   ]
  },
  {
   "cell_type": "markdown",
   "id": "dd283e4e",
   "metadata": {},
   "source": [
    "**3. Build and train a Keras CNN classifier on the MNIST training set.**"
   ]
  },
  {
   "cell_type": "code",
   "execution_count": 31,
   "id": "c55e14f6",
   "metadata": {},
   "outputs": [],
   "source": [
    "# setting image information\n",
    "k.set_image_data_format(\"channels_last\")\n",
    "\n",
    "channels = 1\n",
    "height = 28\n",
    "width = 28\n",
    "\n",
    "x_train = x_train.reshape(x_train.shape[0], height, width, channels)\n",
    "x_test = x_test.reshape(x_test.shape[0], height, width, channels)"
   ]
  },
  {
   "cell_type": "code",
   "execution_count": 32,
   "id": "8341459a",
   "metadata": {},
   "outputs": [
    {
     "data": {
      "text/plain": [
       "(28, 28, 1)"
      ]
     },
     "execution_count": 32,
     "metadata": {},
     "output_type": "execute_result"
    }
   ],
   "source": [
    "x_train[0].shape"
   ]
  },
  {
   "cell_type": "code",
   "execution_count": 33,
   "id": "3e2ae0f3",
   "metadata": {},
   "outputs": [],
   "source": [
    "# rescale pixels\n",
    "x_train = x_train.astype('float32') / 255\n",
    "x_test = x_test.astype('float32') / 255"
   ]
  },
  {
   "cell_type": "code",
   "execution_count": 34,
   "id": "39acd2f7",
   "metadata": {},
   "outputs": [],
   "source": [
    "# one-hot\n",
    "y_train = np_utils.to_categorical(y_train)\n",
    "y_test = np_utils.to_categorical(y_test)"
   ]
  },
  {
   "cell_type": "code",
   "execution_count": 35,
   "id": "3dafee8b",
   "metadata": {},
   "outputs": [
    {
     "data": {
      "text/plain": [
       "(10000, 28, 28, 1)"
      ]
     },
     "execution_count": 35,
     "metadata": {},
     "output_type": "execute_result"
    }
   ],
   "source": [
    "x_test.shape"
   ]
  },
  {
   "cell_type": "code",
   "execution_count": 36,
   "id": "c8ba82d4",
   "metadata": {},
   "outputs": [
    {
     "data": {
      "text/plain": [
       "(10000, 10)"
      ]
     },
     "execution_count": 36,
     "metadata": {},
     "output_type": "execute_result"
    }
   ],
   "source": [
    "y_test.shape"
   ]
  },
  {
   "cell_type": "code",
   "execution_count": 61,
   "id": "1fff3484",
   "metadata": {},
   "outputs": [
    {
     "data": {
      "text/plain": [
       "<keras.callbacks.History at 0x216132c9400>"
      ]
     },
     "execution_count": 61,
     "metadata": {},
     "output_type": "execute_result"
    }
   ],
   "source": [
    "# followed with the book, made some changes regarding data format to make channels last as that the new keras doesn't allow\n",
    "# channels first data on cpus. \n",
    "\n",
    "network = Sequential()\n",
    "network.add(Conv2D(filters=64, kernel_size = (5,5), \n",
    "                   input_shape = (height, width, channels), activation = \"relu\"))\n",
    "network.add(MaxPooling2D(pool_size = (2,2), data_format = \"channels_last\"))\n",
    "network.add(Dropout(0.5))\n",
    "network.add(Flatten())\n",
    "network.add(Dense(128, activation = \"relu\"))\n",
    "network.add(Dropout(0.5))\n",
    "network.add(Dense(y_test.shape[1], activation = \"softmax\"))\n",
    "\n",
    "network.compile(loss=\"categorical_crossentropy\", optimizer = \"rmsprop\", metrics = [\"accuracy\"])\n",
    "\n",
    "network.fit(x_train, y_train, epochs=2, verbose = 0, batch_size = 1000)"
   ]
  },
  {
   "cell_type": "markdown",
   "id": "e1063253",
   "metadata": {},
   "source": [
    "**4. Report accuracy of model**"
   ]
  },
  {
   "cell_type": "code",
   "execution_count": 62,
   "id": "fd79685e",
   "metadata": {
    "scrolled": true
   },
   "outputs": [
    {
     "name": "stdout",
     "output_type": "stream",
     "text": [
      "313/313 [==============================] - 1s 3ms/step - loss: 0.1013 - accuracy: 0.9705\n"
     ]
    }
   ],
   "source": [
    "score = network.evaluate(x_test, y_test)"
   ]
  },
  {
   "cell_type": "markdown",
   "id": "345557f9",
   "metadata": {},
   "source": [
    "**5. Display a visualization**"
   ]
  },
  {
   "cell_type": "code",
   "execution_count": 63,
   "id": "65d81f15",
   "metadata": {
    "scrolled": true
   },
   "outputs": [
    {
     "name": "stdout",
     "output_type": "stream",
     "text": [
      "313/313 [==============================] - 1s 3ms/step\n"
     ]
    }
   ],
   "source": [
    "predictions = network.predict(x_test)\n",
    "\n",
    "# gets the index of the maximum value, which is the prediction/test number itself\n",
    "Y_pred = np.argmax(predictions, 1)\n",
    "Y_test = np.argmax(y_test, 1)"
   ]
  },
  {
   "cell_type": "code",
   "execution_count": 64,
   "id": "956e03a1",
   "metadata": {},
   "outputs": [
    {
     "name": "stdout",
     "output_type": "stream",
     "text": [
      "First results - Test: 7 | Predictions 7\n"
     ]
    }
   ],
   "source": [
    "print('First results - Test:', Y_test[0], '| Predictions', Y_pred[0])"
   ]
  },
  {
   "cell_type": "code",
   "execution_count": 65,
   "id": "20927c7f",
   "metadata": {},
   "outputs": [
    {
     "data": {
      "image/png": "[encoded data removed]",
      "text/plain": [
       "<Figure size 432x288 with 1 Axes>"
      ]
     },
     "metadata": {
      "needs_background": "light"
     },
     "output_type": "display_data"
    }
   ],
   "source": [
    "mat = confusion_matrix(Y_test, Y_pred)\n",
    "\n",
    "# Plot Confusion matrix\n",
    "sns.heatmap(mat.T, square=True, annot=True, cbar=False, cmap=plt.cm.Blues, fmt='.0f')\n",
    "plt.xlabel('Predicted Values')\n",
    "plt.ylabel('True Values');\n",
    "plt.show();"
   ]
  },
  {
   "cell_type": "markdown",
   "id": "f4c5c1ef",
   "metadata": {},
   "source": [
    "**6. Summarize Results**"
   ]
  },
  {
   "cell_type": "markdown",
   "id": "0ffaec10",
   "metadata": {},
   "source": [
    "Following the book's model with some adjustments, I have an accuracy of about 97%. There were some errors regarding the version of keras in the book vs the version of keras that would allow this model to be ran on CPU. With the help of classmates, we figured out that in the current version, channels_last is preferrable, so I set the data to follow these dimensions as well as passed some additional parameters into the maxpooling2d layer. "
   ]
  }
 ],
 "metadata": {
  "kernelspec": {
   "display_name": "Python 3",
   "language": "python",
   "name": "python3"
  },
  "language_info": {
   "codemirror_mode": {
    "name": "ipython",
    "version": 3
   },
   "file_extension": ".py",
   "mimetype": "text/x-python",
   "name": "python",
   "nbconvert_exporter": "python",
   "pygments_lexer": "ipython3",
   "version": "3.8.5"
  }
 },
 "nbformat": 4,
 "nbformat_minor": 5
}
