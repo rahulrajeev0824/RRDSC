{
 "cells": [
  {
   "cell_type": "markdown",
   "id": "3fb33922",
   "metadata": {},
   "source": [
    "# Week 7 Exercises: Dimensionality Reduction and Feature Selection\n",
    "# Rahul Rajeev"
   ]
  },
  {
   "cell_type": "markdown",
   "id": "f9d66275",
   "metadata": {},
   "source": [
    "## Part 1: PCA and Variance Threshold in a Linear Regression"
   ]
  },
  {
   "cell_type": "code",
   "execution_count": 228,
   "id": "8332a54f",
   "metadata": {},
   "outputs": [],
   "source": [
    "# libraries\n",
    "import pandas as pd\n",
    "import numpy as np\n",
    "import matplotlib.pyplot as plt\n",
    "from sklearn.model_selection import train_test_split\n",
    "from sklearn.linear_model import LinearRegression\n",
    "from sklearn.metrics import r2_score, mean_squared_error, mean_absolute_error\n",
    "from sklearn.metrics import classification_report, confusion_matrix, ConfusionMatrixDisplay, roc_curve\n",
    "from sklearn.feature_selection import VarianceThreshold\n",
    "from sklearn.feature_selection import chi2, f_classif\n",
    "from sklearn.preprocessing import MinMaxScaler, StandardScaler\n",
    "from sklearn.decomposition import PCA\n",
    "from sklearn.tree import DecisionTreeClassifier\n",
    "from sklearn.feature_selection import SelectKBest\n",
    "from sklearn import tree"
   ]
  },
  {
   "cell_type": "code",
   "execution_count": 229,
   "id": "9a580093",
   "metadata": {},
   "outputs": [
    {
     "data": {
      "text/html": [
       "<div>\n",
       "<style scoped>\n",
       "    .dataframe tbody tr th:only-of-type {\n",
       "        vertical-align: middle;\n",
       "    }\n",
       "\n",
       "    .dataframe tbody tr th {\n",
       "        vertical-align: top;\n",
       "    }\n",
       "\n",
       "    .dataframe thead th {\n",
       "        text-align: right;\n",
       "    }\n",
       "</style>\n",
       "<table border=\"1\" class=\"dataframe\">\n",
       "  <thead>\n",
       "    <tr style=\"text-align: right;\">\n",
       "      <th></th>\n",
       "      <th>Id</th>\n",
       "      <th>MSSubClass</th>\n",
       "      <th>MSZoning</th>\n",
       "      <th>LotFrontage</th>\n",
       "      <th>LotArea</th>\n",
       "      <th>Street</th>\n",
       "      <th>Alley</th>\n",
       "      <th>LotShape</th>\n",
       "      <th>LandContour</th>\n",
       "      <th>Utilities</th>\n",
       "      <th>...</th>\n",
       "      <th>PoolArea</th>\n",
       "      <th>PoolQC</th>\n",
       "      <th>Fence</th>\n",
       "      <th>MiscFeature</th>\n",
       "      <th>MiscVal</th>\n",
       "      <th>MoSold</th>\n",
       "      <th>YrSold</th>\n",
       "      <th>SaleType</th>\n",
       "      <th>SaleCondition</th>\n",
       "      <th>SalePrice</th>\n",
       "    </tr>\n",
       "  </thead>\n",
       "  <tbody>\n",
       "    <tr>\n",
       "      <th>0</th>\n",
       "      <td>1</td>\n",
       "      <td>60</td>\n",
       "      <td>RL</td>\n",
       "      <td>65.0</td>\n",
       "      <td>8450</td>\n",
       "      <td>Pave</td>\n",
       "      <td>NaN</td>\n",
       "      <td>Reg</td>\n",
       "      <td>Lvl</td>\n",
       "      <td>AllPub</td>\n",
       "      <td>...</td>\n",
       "      <td>0</td>\n",
       "      <td>NaN</td>\n",
       "      <td>NaN</td>\n",
       "      <td>NaN</td>\n",
       "      <td>0</td>\n",
       "      <td>2</td>\n",
       "      <td>2008</td>\n",
       "      <td>WD</td>\n",
       "      <td>Normal</td>\n",
       "      <td>208500</td>\n",
       "    </tr>\n",
       "    <tr>\n",
       "      <th>1</th>\n",
       "      <td>2</td>\n",
       "      <td>20</td>\n",
       "      <td>RL</td>\n",
       "      <td>80.0</td>\n",
       "      <td>9600</td>\n",
       "      <td>Pave</td>\n",
       "      <td>NaN</td>\n",
       "      <td>Reg</td>\n",
       "      <td>Lvl</td>\n",
       "      <td>AllPub</td>\n",
       "      <td>...</td>\n",
       "      <td>0</td>\n",
       "      <td>NaN</td>\n",
       "      <td>NaN</td>\n",
       "      <td>NaN</td>\n",
       "      <td>0</td>\n",
       "      <td>5</td>\n",
       "      <td>2007</td>\n",
       "      <td>WD</td>\n",
       "      <td>Normal</td>\n",
       "      <td>181500</td>\n",
       "    </tr>\n",
       "    <tr>\n",
       "      <th>2</th>\n",
       "      <td>3</td>\n",
       "      <td>60</td>\n",
       "      <td>RL</td>\n",
       "      <td>68.0</td>\n",
       "      <td>11250</td>\n",
       "      <td>Pave</td>\n",
       "      <td>NaN</td>\n",
       "      <td>IR1</td>\n",
       "      <td>Lvl</td>\n",
       "      <td>AllPub</td>\n",
       "      <td>...</td>\n",
       "      <td>0</td>\n",
       "      <td>NaN</td>\n",
       "      <td>NaN</td>\n",
       "      <td>NaN</td>\n",
       "      <td>0</td>\n",
       "      <td>9</td>\n",
       "      <td>2008</td>\n",
       "      <td>WD</td>\n",
       "      <td>Normal</td>\n",
       "      <td>223500</td>\n",
       "    </tr>\n",
       "    <tr>\n",
       "      <th>3</th>\n",
       "      <td>4</td>\n",
       "      <td>70</td>\n",
       "      <td>RL</td>\n",
       "      <td>60.0</td>\n",
       "      <td>9550</td>\n",
       "      <td>Pave</td>\n",
       "      <td>NaN</td>\n",
       "      <td>IR1</td>\n",
       "      <td>Lvl</td>\n",
       "      <td>AllPub</td>\n",
       "      <td>...</td>\n",
       "      <td>0</td>\n",
       "      <td>NaN</td>\n",
       "      <td>NaN</td>\n",
       "      <td>NaN</td>\n",
       "      <td>0</td>\n",
       "      <td>2</td>\n",
       "      <td>2006</td>\n",
       "      <td>WD</td>\n",
       "      <td>Abnorml</td>\n",
       "      <td>140000</td>\n",
       "    </tr>\n",
       "    <tr>\n",
       "      <th>4</th>\n",
       "      <td>5</td>\n",
       "      <td>60</td>\n",
       "      <td>RL</td>\n",
       "      <td>84.0</td>\n",
       "      <td>14260</td>\n",
       "      <td>Pave</td>\n",
       "      <td>NaN</td>\n",
       "      <td>IR1</td>\n",
       "      <td>Lvl</td>\n",
       "      <td>AllPub</td>\n",
       "      <td>...</td>\n",
       "      <td>0</td>\n",
       "      <td>NaN</td>\n",
       "      <td>NaN</td>\n",
       "      <td>NaN</td>\n",
       "      <td>0</td>\n",
       "      <td>12</td>\n",
       "      <td>2008</td>\n",
       "      <td>WD</td>\n",
       "      <td>Normal</td>\n",
       "      <td>250000</td>\n",
       "    </tr>\n",
       "  </tbody>\n",
       "</table>\n",
       "<p>5 rows × 81 columns</p>\n",
       "</div>"
      ],
      "text/plain": [
       "   Id  MSSubClass MSZoning  LotFrontage  LotArea Street Alley LotShape  \\\n",
       "0   1          60       RL         65.0     8450   Pave   NaN      Reg   \n",
       "1   2          20       RL         80.0     9600   Pave   NaN      Reg   \n",
       "2   3          60       RL         68.0    11250   Pave   NaN      IR1   \n",
       "3   4          70       RL         60.0     9550   Pave   NaN      IR1   \n",
       "4   5          60       RL         84.0    14260   Pave   NaN      IR1   \n",
       "\n",
       "  LandContour Utilities  ... PoolArea PoolQC Fence MiscFeature MiscVal MoSold  \\\n",
       "0         Lvl    AllPub  ...        0    NaN   NaN         NaN       0      2   \n",
       "1         Lvl    AllPub  ...        0    NaN   NaN         NaN       0      5   \n",
       "2         Lvl    AllPub  ...        0    NaN   NaN         NaN       0      9   \n",
       "3         Lvl    AllPub  ...        0    NaN   NaN         NaN       0      2   \n",
       "4         Lvl    AllPub  ...        0    NaN   NaN         NaN       0     12   \n",
       "\n",
       "  YrSold  SaleType  SaleCondition  SalePrice  \n",
       "0   2008        WD         Normal     208500  \n",
       "1   2007        WD         Normal     181500  \n",
       "2   2008        WD         Normal     223500  \n",
       "3   2006        WD        Abnorml     140000  \n",
       "4   2008        WD         Normal     250000  \n",
       "\n",
       "[5 rows x 81 columns]"
      ]
     },
     "execution_count": 229,
     "metadata": {},
     "output_type": "execute_result"
    }
   ],
   "source": [
    "# import data frame and check that it loaded properly\n",
    "prices_df = pd.read_csv('housingprices_train.csv')\n",
    "prices_df.head()"
   ]
  },
  {
   "cell_type": "code",
   "execution_count": 230,
   "id": "83cbe2f1",
   "metadata": {},
   "outputs": [
    {
     "data": {
      "text/plain": [
       "Index(['Id', 'MSSubClass', 'MSZoning', 'LotFrontage', 'LotArea', 'Street',\n",
       "       'Alley', 'LotShape', 'LandContour', 'Utilities', 'LotConfig',\n",
       "       'LandSlope', 'Neighborhood', 'Condition1', 'Condition2', 'BldgType',\n",
       "       'HouseStyle', 'OverallQual', 'OverallCond', 'YearBuilt', 'YearRemodAdd',\n",
       "       'RoofStyle', 'RoofMatl', 'Exterior1st', 'Exterior2nd', 'MasVnrType',\n",
       "       'MasVnrArea', 'ExterQual', 'ExterCond', 'Foundation', 'BsmtQual',\n",
       "       'BsmtCond', 'BsmtExposure', 'BsmtFinType1', 'BsmtFinSF1',\n",
       "       'BsmtFinType2', 'BsmtFinSF2', 'BsmtUnfSF', 'TotalBsmtSF', 'Heating',\n",
       "       'HeatingQC', 'CentralAir', 'Electrical', '1stFlrSF', '2ndFlrSF',\n",
       "       'LowQualFinSF', 'GrLivArea', 'BsmtFullBath', 'BsmtHalfBath', 'FullBath',\n",
       "       'HalfBath', 'BedroomAbvGr', 'KitchenAbvGr', 'KitchenQual',\n",
       "       'TotRmsAbvGrd', 'Functional', 'Fireplaces', 'FireplaceQu', 'GarageType',\n",
       "       'GarageYrBlt', 'GarageFinish', 'GarageCars', 'GarageArea', 'GarageQual',\n",
       "       'GarageCond', 'PavedDrive', 'WoodDeckSF', 'OpenPorchSF',\n",
       "       'EnclosedPorch', '3SsnPorch', 'ScreenPorch', 'PoolArea', 'PoolQC',\n",
       "       'Fence', 'MiscFeature', 'MiscVal', 'MoSold', 'YrSold', 'SaleType',\n",
       "       'SaleCondition', 'SalePrice'],\n",
       "      dtype='object')"
      ]
     },
     "execution_count": 230,
     "metadata": {},
     "output_type": "execute_result"
    }
   ],
   "source": [
    "prices_df.columns"
   ]
  },
  {
   "cell_type": "code",
   "execution_count": 231,
   "id": "8405d992",
   "metadata": {},
   "outputs": [
    {
     "data": {
      "text/plain": [
       "['Id', 'Alley', 'FireplaceQu', 'PoolQC', 'Fence', 'MiscFeature']"
      ]
     },
     "execution_count": 231,
     "metadata": {},
     "output_type": "execute_result"
    }
   ],
   "source": [
    "# 2. Drop the \"Id\" column and any features that are missing more than 40% of their values.\n",
    "drop = ['Id']\n",
    "for col in prices_df.columns:\n",
    "    if prices_df[col].isnull().sum() / len(prices_df[col]) > 0.4:\n",
    "        drop.append(col)\n",
    "    else:\n",
    "        continue\n",
    "\n",
    "drop"
   ]
  },
  {
   "cell_type": "code",
   "execution_count": 232,
   "id": "e8381fb5",
   "metadata": {},
   "outputs": [],
   "source": [
    "# dropping the columns\n",
    "prices_df2 = prices_df.drop(drop, axis=1)"
   ]
  },
  {
   "cell_type": "code",
   "execution_count": 233,
   "id": "16e12b29",
   "metadata": {},
   "outputs": [],
   "source": [
    "# 3. replace the NaN values in the numerical columns with the median\n",
    "for col in prices_df2.select_dtypes(exclude = 'object').columns:\n",
    "    #print(col)\n",
    "    if prices_df2[col].isnull().sum() > 0:\n",
    "        prices_df2[col].fillna(prices_df2[col].median(), inplace=True)"
   ]
  },
  {
   "cell_type": "code",
   "execution_count": 234,
   "id": "5561ede5",
   "metadata": {},
   "outputs": [],
   "source": [
    "# 4. replace the NaN values in the categorical columns with the mode\n",
    "for col in prices_df2.select_dtypes(exclude=['int64','float64']).columns:\n",
    "    if prices_df2[col].isnull().sum() > 0:\n",
    "        prices_df2[col].fillna(prices_df2[col].mode()[0], inplace=True)"
   ]
  },
  {
   "cell_type": "code",
   "execution_count": 235,
   "id": "6a5777f5",
   "metadata": {},
   "outputs": [
    {
     "data": {
      "text/plain": [
       "0"
      ]
     },
     "execution_count": 235,
     "metadata": {},
     "output_type": "execute_result"
    }
   ],
   "source": [
    "# double checking for any more missing values\n",
    "max(prices_df2.isnull().sum())"
   ]
  },
  {
   "cell_type": "code",
   "execution_count": 236,
   "id": "d7c1f760",
   "metadata": {},
   "outputs": [],
   "source": [
    "# 5. Convert the categorical columns to dummy variables.\n",
    "prices_df3 = pd.get_dummies(prices_df2, columns = [col for col in prices_df2.select_dtypes(exclude=['int64','float64'])])"
   ]
  },
  {
   "cell_type": "code",
   "execution_count": 237,
   "id": "646c2d51",
   "metadata": {},
   "outputs": [],
   "source": [
    "#6. Split the data into a training and test set, where the SalePrice column is the target.\n",
    "X = prices_df3.drop(['SalePrice'], axis=1)\n",
    "Y = prices_df3['SalePrice']\n",
    "\n",
    "Xtrain, Xtest, Ytrain, Ytest = train_test_split(X, Y, test_size=0.2)"
   ]
  },
  {
   "cell_type": "code",
   "execution_count": 238,
   "id": "07e11714",
   "metadata": {},
   "outputs": [],
   "source": [
    "# 7. Run a linear regression and report the R2-value and RMSE on the test set.\n",
    "linreg = LinearRegression()\n",
    "linmodel = linreg.fit(Xtrain,Ytrain)"
   ]
  },
  {
   "cell_type": "code",
   "execution_count": 239,
   "id": "07e18e60",
   "metadata": {},
   "outputs": [
    {
     "name": "stdout",
     "output_type": "stream",
     "text": [
      "R2: 0.8569712258135866 | RMSE: 27514.55135267843 | MAE: 17523.713224464944\n"
     ]
    }
   ],
   "source": [
    "# R2\n",
    "predictions1 = linmodel.predict(Xtest)\n",
    "print('R2:', r2_score(Ytest, predictions1), '| RMSE:', mean_squared_error(Ytest, predictions1, squared = False), \n",
    "      '| MAE:', mean_absolute_error(Ytest, predictions1))"
   ]
  },
  {
   "cell_type": "markdown",
   "id": "12b10f84",
   "metadata": {},
   "source": [
    "**Thoughts:** The R2 looks quite good, but the RMSE and the MAE could use some work."
   ]
  },
  {
   "cell_type": "code",
   "execution_count": 240,
   "id": "527e8f04",
   "metadata": {},
   "outputs": [],
   "source": [
    "# 8. Fit and transform the training features with a PCA so that 90% of the variance is retained\n",
    "pca = PCA(n_components = 0.90, whiten=True)\n",
    "\n",
    "# standardize\n",
    "sc = StandardScaler()\n",
    "standard_features = sc.fit_transform(Xtrain)\n",
    "standard_test_features = sc.transform(Xtest)\n",
    "\n",
    "# conduct PCA\n",
    "features_pca = pca.fit_transform(standard_features)"
   ]
  },
  {
   "cell_type": "code",
   "execution_count": 241,
   "id": "fbe6d5f0",
   "metadata": {},
   "outputs": [
    {
     "name": "stdout",
     "output_type": "stream",
     "text": [
      "Original: 270 Reduced 135\n"
     ]
    }
   ],
   "source": [
    "# 9. How many features are in the PCA-transformed matrix?\n",
    "print('Original:',Xtrain.shape[1], 'Reduced', features_pca.shape[1])"
   ]
  },
  {
   "cell_type": "code",
   "execution_count": 242,
   "id": "ab3b9b87",
   "metadata": {},
   "outputs": [],
   "source": [
    "# 10. Transform but DO NOT fit the test features with the same PCA.\n",
    "test_features_pca = pca.transform(standard_test_features)"
   ]
  },
  {
   "cell_type": "code",
   "execution_count": 243,
   "id": "fba0a3b9",
   "metadata": {},
   "outputs": [],
   "source": [
    "# 11. Repeat step 7 with your PCA transformed data.\n",
    "linmodel2 = linreg.fit(features_pca,Ytrain)"
   ]
  },
  {
   "cell_type": "code",
   "execution_count": 244,
   "id": "5c161fe3",
   "metadata": {},
   "outputs": [
    {
     "name": "stdout",
     "output_type": "stream",
     "text": [
      "R2: 0.874856059562934 | RMSE: 25736.864743805876 | MAE: 18738.89534295538\n"
     ]
    }
   ],
   "source": [
    "predictions2 = linmodel2.predict(test_features_pca)\n",
    "print('R2:', r2_score(Ytest, predictions2), '| RMSE:', mean_squared_error(Ytest, predictions2, squared = False), \n",
    "      '| MAE:', mean_absolute_error(Ytest, predictions2))"
   ]
  },
  {
   "cell_type": "markdown",
   "id": "698761d8",
   "metadata": {},
   "source": [
    "**Thoughts:** The R2 has gone down slightly, and both RMSE and MAE have increased."
   ]
  },
  {
   "cell_type": "code",
   "execution_count": 245,
   "id": "d722d9ac",
   "metadata": {},
   "outputs": [],
   "source": [
    "# 12. Take your original training features (from step 6) and apply a min-max scaler to them.\n",
    "minmaxsc = MinMaxScaler()\n",
    "\n",
    "# scaling\n",
    "minmaxsc_features = minmaxsc.fit_transform(Xtrain)\n",
    "test_minmaxsc_features = minmaxsc.transform(Xtest)"
   ]
  },
  {
   "cell_type": "code",
   "execution_count": 246,
   "id": "41fe33a8",
   "metadata": {},
   "outputs": [],
   "source": [
    "# 13. Find the min-max scaled features in your training set that have a variance above 0.1\n",
    "low_thresholder = VarianceThreshold(threshold = 0.2)\n",
    "variances_array = low_thresholder.fit(minmaxsc_features).variances_"
   ]
  },
  {
   "cell_type": "code",
   "execution_count": 247,
   "id": "0308b6ca",
   "metadata": {},
   "outputs": [
    {
     "name": "stdout",
     "output_type": "stream",
     "text": [
      "Total features: 271 | Above 0.1: 50\n"
     ]
    }
   ],
   "source": [
    "# creating arrays of features before and after the variance sort\n",
    "above_variance = [i for i,v in enumerate(variances_array) if v > 0.1]\n",
    "features = np.array(prices_df3.columns)\n",
    "features_above = features[above_variance]\n",
    "print('Total features:', len(features), '| Above 0.1:', len(features_above))"
   ]
  },
  {
   "cell_type": "code",
   "execution_count": 248,
   "id": "110b73f4",
   "metadata": {},
   "outputs": [
    {
     "data": {
      "text/plain": [
       "0.24997361137173957"
      ]
     },
     "execution_count": 248,
     "metadata": {},
     "output_type": "execute_result"
    }
   ],
   "source": [
    "# the highest variance is 0.2499\n",
    "high_variance = max(variances_array)\n",
    "high_variance"
   ]
  },
  {
   "cell_type": "code",
   "execution_count": 249,
   "id": "301634e5",
   "metadata": {},
   "outputs": [],
   "source": [
    "# Let's fit_transform the training data, and transform the test data for features with high variance (above 0.2)\n",
    "high_thresholder = VarianceThreshold(threshold = 0.20)\n",
    "features_high_variance = high_thresholder.fit_transform(minmaxsc_features)"
   ]
  },
  {
   "cell_type": "code",
   "execution_count": 250,
   "id": "b0986b42",
   "metadata": {},
   "outputs": [],
   "source": [
    "# 14. Transform but DO NOT fit the test features with the same steps applied in steps 11 and 12.\n",
    "test_features_high_variance = high_thresholder.transform(test_minmaxsc_features)"
   ]
  },
  {
   "cell_type": "code",
   "execution_count": 251,
   "id": "126f4452",
   "metadata": {},
   "outputs": [],
   "source": [
    "# 15. Repeating linear regression with new data\n",
    "linmodel3 = linreg.fit(features_high_variance,Ytrain)"
   ]
  },
  {
   "cell_type": "code",
   "execution_count": 252,
   "id": "4ff2802a",
   "metadata": {},
   "outputs": [
    {
     "name": "stdout",
     "output_type": "stream",
     "text": [
      "R2: 0.5735903976978534 | RMSE: 47507.722976639896 | MAE: 34059.51118647368\n"
     ]
    }
   ],
   "source": [
    "predictions3 = linmodel3.predict(test_features_high_variance)\n",
    "print('R2:', r2_score(Ytest, predictions3), '| RMSE:', mean_squared_error(Ytest, predictions3, squared = False), \n",
    "      '| MAE:', mean_absolute_error(Ytest, predictions3))"
   ]
  },
  {
   "cell_type": "markdown",
   "id": "70cd4bc1",
   "metadata": {},
   "source": [
    "**Thoughts:** Each reduction in features seems to lower the R2 coefficient and increase the errors in the other two."
   ]
  },
  {
   "cell_type": "markdown",
   "id": "65c62e8a",
   "metadata": {},
   "source": [
    "**16. Summary of Findings:**\n",
    "The first linear model that used raw data with the dummy variables seemed to have the highest R2 coefficient. By using PCA, I found a reduction in R2 and an increase in the RMSE. PCA reduces the number of features while retaining the variance in the data. While using MinMaxScaling and variance threshold, using only a couple features above the high variance threshold, I found teh R2 to be even lower and the RMSE to be quite higher. Thresholding is used to remove the numerical features with low variance, which actually were about 88% of the features. Since ideally we want to have a model that can compensate for data with high variance, seeing this low of a correlation and high error means that the model isn't a good fit as of yet."
   ]
  },
  {
   "cell_type": "markdown",
   "id": "86360eca",
   "metadata": {},
   "source": [
    "## Part 2: Categorical Feature Selection"
   ]
  },
  {
   "cell_type": "code",
   "execution_count": 253,
   "id": "e8ea9d09",
   "metadata": {},
   "outputs": [
    {
     "data": {
      "text/html": [
       "<div>\n",
       "<style scoped>\n",
       "    .dataframe tbody tr th:only-of-type {\n",
       "        vertical-align: middle;\n",
       "    }\n",
       "\n",
       "    .dataframe tbody tr th {\n",
       "        vertical-align: top;\n",
       "    }\n",
       "\n",
       "    .dataframe thead th {\n",
       "        text-align: right;\n",
       "    }\n",
       "</style>\n",
       "<table border=\"1\" class=\"dataframe\">\n",
       "  <thead>\n",
       "    <tr style=\"text-align: right;\">\n",
       "      <th></th>\n",
       "      <th>class</th>\n",
       "      <th>cap-shape</th>\n",
       "      <th>cap-surface</th>\n",
       "      <th>cap-color</th>\n",
       "      <th>bruises</th>\n",
       "      <th>odor</th>\n",
       "      <th>gill-attachment</th>\n",
       "      <th>gill-spacing</th>\n",
       "      <th>gill-size</th>\n",
       "      <th>gill-color</th>\n",
       "      <th>...</th>\n",
       "      <th>stalk-surface-below-ring</th>\n",
       "      <th>stalk-color-above-ring</th>\n",
       "      <th>stalk-color-below-ring</th>\n",
       "      <th>veil-type</th>\n",
       "      <th>veil-color</th>\n",
       "      <th>ring-number</th>\n",
       "      <th>ring-type</th>\n",
       "      <th>spore-print-color</th>\n",
       "      <th>population</th>\n",
       "      <th>habitat</th>\n",
       "    </tr>\n",
       "  </thead>\n",
       "  <tbody>\n",
       "    <tr>\n",
       "      <th>0</th>\n",
       "      <td>p</td>\n",
       "      <td>x</td>\n",
       "      <td>s</td>\n",
       "      <td>n</td>\n",
       "      <td>t</td>\n",
       "      <td>p</td>\n",
       "      <td>f</td>\n",
       "      <td>c</td>\n",
       "      <td>n</td>\n",
       "      <td>k</td>\n",
       "      <td>...</td>\n",
       "      <td>s</td>\n",
       "      <td>w</td>\n",
       "      <td>w</td>\n",
       "      <td>p</td>\n",
       "      <td>w</td>\n",
       "      <td>o</td>\n",
       "      <td>p</td>\n",
       "      <td>k</td>\n",
       "      <td>s</td>\n",
       "      <td>u</td>\n",
       "    </tr>\n",
       "    <tr>\n",
       "      <th>1</th>\n",
       "      <td>e</td>\n",
       "      <td>x</td>\n",
       "      <td>s</td>\n",
       "      <td>y</td>\n",
       "      <td>t</td>\n",
       "      <td>a</td>\n",
       "      <td>f</td>\n",
       "      <td>c</td>\n",
       "      <td>b</td>\n",
       "      <td>k</td>\n",
       "      <td>...</td>\n",
       "      <td>s</td>\n",
       "      <td>w</td>\n",
       "      <td>w</td>\n",
       "      <td>p</td>\n",
       "      <td>w</td>\n",
       "      <td>o</td>\n",
       "      <td>p</td>\n",
       "      <td>n</td>\n",
       "      <td>n</td>\n",
       "      <td>g</td>\n",
       "    </tr>\n",
       "    <tr>\n",
       "      <th>2</th>\n",
       "      <td>e</td>\n",
       "      <td>b</td>\n",
       "      <td>s</td>\n",
       "      <td>w</td>\n",
       "      <td>t</td>\n",
       "      <td>l</td>\n",
       "      <td>f</td>\n",
       "      <td>c</td>\n",
       "      <td>b</td>\n",
       "      <td>n</td>\n",
       "      <td>...</td>\n",
       "      <td>s</td>\n",
       "      <td>w</td>\n",
       "      <td>w</td>\n",
       "      <td>p</td>\n",
       "      <td>w</td>\n",
       "      <td>o</td>\n",
       "      <td>p</td>\n",
       "      <td>n</td>\n",
       "      <td>n</td>\n",
       "      <td>m</td>\n",
       "    </tr>\n",
       "    <tr>\n",
       "      <th>3</th>\n",
       "      <td>p</td>\n",
       "      <td>x</td>\n",
       "      <td>y</td>\n",
       "      <td>w</td>\n",
       "      <td>t</td>\n",
       "      <td>p</td>\n",
       "      <td>f</td>\n",
       "      <td>c</td>\n",
       "      <td>n</td>\n",
       "      <td>n</td>\n",
       "      <td>...</td>\n",
       "      <td>s</td>\n",
       "      <td>w</td>\n",
       "      <td>w</td>\n",
       "      <td>p</td>\n",
       "      <td>w</td>\n",
       "      <td>o</td>\n",
       "      <td>p</td>\n",
       "      <td>k</td>\n",
       "      <td>s</td>\n",
       "      <td>u</td>\n",
       "    </tr>\n",
       "    <tr>\n",
       "      <th>4</th>\n",
       "      <td>e</td>\n",
       "      <td>x</td>\n",
       "      <td>s</td>\n",
       "      <td>g</td>\n",
       "      <td>f</td>\n",
       "      <td>n</td>\n",
       "      <td>f</td>\n",
       "      <td>w</td>\n",
       "      <td>b</td>\n",
       "      <td>k</td>\n",
       "      <td>...</td>\n",
       "      <td>s</td>\n",
       "      <td>w</td>\n",
       "      <td>w</td>\n",
       "      <td>p</td>\n",
       "      <td>w</td>\n",
       "      <td>o</td>\n",
       "      <td>e</td>\n",
       "      <td>n</td>\n",
       "      <td>a</td>\n",
       "      <td>g</td>\n",
       "    </tr>\n",
       "  </tbody>\n",
       "</table>\n",
       "<p>5 rows × 23 columns</p>\n",
       "</div>"
      ],
      "text/plain": [
       "  class cap-shape cap-surface cap-color bruises odor gill-attachment  \\\n",
       "0     p         x           s         n       t    p               f   \n",
       "1     e         x           s         y       t    a               f   \n",
       "2     e         b           s         w       t    l               f   \n",
       "3     p         x           y         w       t    p               f   \n",
       "4     e         x           s         g       f    n               f   \n",
       "\n",
       "  gill-spacing gill-size gill-color  ... stalk-surface-below-ring  \\\n",
       "0            c         n          k  ...                        s   \n",
       "1            c         b          k  ...                        s   \n",
       "2            c         b          n  ...                        s   \n",
       "3            c         n          n  ...                        s   \n",
       "4            w         b          k  ...                        s   \n",
       "\n",
       "  stalk-color-above-ring stalk-color-below-ring veil-type veil-color  \\\n",
       "0                      w                      w         p          w   \n",
       "1                      w                      w         p          w   \n",
       "2                      w                      w         p          w   \n",
       "3                      w                      w         p          w   \n",
       "4                      w                      w         p          w   \n",
       "\n",
       "  ring-number ring-type spore-print-color population habitat  \n",
       "0           o         p                 k          s       u  \n",
       "1           o         p                 n          n       g  \n",
       "2           o         p                 n          n       m  \n",
       "3           o         p                 k          s       u  \n",
       "4           o         e                 n          a       g  \n",
       "\n",
       "[5 rows x 23 columns]"
      ]
     },
     "execution_count": 253,
     "metadata": {},
     "output_type": "execute_result"
    }
   ],
   "source": [
    "# 1. Import the data as a data frame and ensure it is loaded correctly.\n",
    "mushrooms = pd.read_csv('mushrooms.csv')\n",
    "mushrooms.head()"
   ]
  },
  {
   "cell_type": "code",
   "execution_count": 254,
   "id": "d3616dbf",
   "metadata": {},
   "outputs": [],
   "source": [
    "# 2. Convert the categorical features (all of them) to dummy variables.\n",
    "mushrooms2 = pd.get_dummies(mushrooms, columns = [col for col in mushrooms.columns[1:]])"
   ]
  },
  {
   "cell_type": "code",
   "execution_count": 255,
   "id": "f6cf17c9",
   "metadata": {},
   "outputs": [],
   "source": [
    "# replacing the p and e values with 1 and 0 for binary numerical values\n",
    "mushrooms2['class'] = mushrooms2['class'].replace('p', 1)\n",
    "mushrooms2['class'] = mushrooms2['class'].replace('e', 0)"
   ]
  },
  {
   "cell_type": "code",
   "execution_count": 256,
   "id": "02f3a558",
   "metadata": {},
   "outputs": [
    {
     "data": {
      "text/html": [
       "<div>\n",
       "<style scoped>\n",
       "    .dataframe tbody tr th:only-of-type {\n",
       "        vertical-align: middle;\n",
       "    }\n",
       "\n",
       "    .dataframe tbody tr th {\n",
       "        vertical-align: top;\n",
       "    }\n",
       "\n",
       "    .dataframe thead th {\n",
       "        text-align: right;\n",
       "    }\n",
       "</style>\n",
       "<table border=\"1\" class=\"dataframe\">\n",
       "  <thead>\n",
       "    <tr style=\"text-align: right;\">\n",
       "      <th></th>\n",
       "      <th>class</th>\n",
       "      <th>cap-shape_b</th>\n",
       "      <th>cap-shape_c</th>\n",
       "      <th>cap-shape_f</th>\n",
       "      <th>cap-shape_k</th>\n",
       "      <th>cap-shape_s</th>\n",
       "      <th>cap-shape_x</th>\n",
       "      <th>cap-surface_f</th>\n",
       "      <th>cap-surface_g</th>\n",
       "      <th>cap-surface_s</th>\n",
       "      <th>...</th>\n",
       "      <th>population_s</th>\n",
       "      <th>population_v</th>\n",
       "      <th>population_y</th>\n",
       "      <th>habitat_d</th>\n",
       "      <th>habitat_g</th>\n",
       "      <th>habitat_l</th>\n",
       "      <th>habitat_m</th>\n",
       "      <th>habitat_p</th>\n",
       "      <th>habitat_u</th>\n",
       "      <th>habitat_w</th>\n",
       "    </tr>\n",
       "  </thead>\n",
       "  <tbody>\n",
       "    <tr>\n",
       "      <th>0</th>\n",
       "      <td>1</td>\n",
       "      <td>0</td>\n",
       "      <td>0</td>\n",
       "      <td>0</td>\n",
       "      <td>0</td>\n",
       "      <td>0</td>\n",
       "      <td>1</td>\n",
       "      <td>0</td>\n",
       "      <td>0</td>\n",
       "      <td>1</td>\n",
       "      <td>...</td>\n",
       "      <td>1</td>\n",
       "      <td>0</td>\n",
       "      <td>0</td>\n",
       "      <td>0</td>\n",
       "      <td>0</td>\n",
       "      <td>0</td>\n",
       "      <td>0</td>\n",
       "      <td>0</td>\n",
       "      <td>1</td>\n",
       "      <td>0</td>\n",
       "    </tr>\n",
       "    <tr>\n",
       "      <th>1</th>\n",
       "      <td>0</td>\n",
       "      <td>0</td>\n",
       "      <td>0</td>\n",
       "      <td>0</td>\n",
       "      <td>0</td>\n",
       "      <td>0</td>\n",
       "      <td>1</td>\n",
       "      <td>0</td>\n",
       "      <td>0</td>\n",
       "      <td>1</td>\n",
       "      <td>...</td>\n",
       "      <td>0</td>\n",
       "      <td>0</td>\n",
       "      <td>0</td>\n",
       "      <td>0</td>\n",
       "      <td>1</td>\n",
       "      <td>0</td>\n",
       "      <td>0</td>\n",
       "      <td>0</td>\n",
       "      <td>0</td>\n",
       "      <td>0</td>\n",
       "    </tr>\n",
       "    <tr>\n",
       "      <th>2</th>\n",
       "      <td>0</td>\n",
       "      <td>1</td>\n",
       "      <td>0</td>\n",
       "      <td>0</td>\n",
       "      <td>0</td>\n",
       "      <td>0</td>\n",
       "      <td>0</td>\n",
       "      <td>0</td>\n",
       "      <td>0</td>\n",
       "      <td>1</td>\n",
       "      <td>...</td>\n",
       "      <td>0</td>\n",
       "      <td>0</td>\n",
       "      <td>0</td>\n",
       "      <td>0</td>\n",
       "      <td>0</td>\n",
       "      <td>0</td>\n",
       "      <td>1</td>\n",
       "      <td>0</td>\n",
       "      <td>0</td>\n",
       "      <td>0</td>\n",
       "    </tr>\n",
       "    <tr>\n",
       "      <th>3</th>\n",
       "      <td>1</td>\n",
       "      <td>0</td>\n",
       "      <td>0</td>\n",
       "      <td>0</td>\n",
       "      <td>0</td>\n",
       "      <td>0</td>\n",
       "      <td>1</td>\n",
       "      <td>0</td>\n",
       "      <td>0</td>\n",
       "      <td>0</td>\n",
       "      <td>...</td>\n",
       "      <td>1</td>\n",
       "      <td>0</td>\n",
       "      <td>0</td>\n",
       "      <td>0</td>\n",
       "      <td>0</td>\n",
       "      <td>0</td>\n",
       "      <td>0</td>\n",
       "      <td>0</td>\n",
       "      <td>1</td>\n",
       "      <td>0</td>\n",
       "    </tr>\n",
       "    <tr>\n",
       "      <th>4</th>\n",
       "      <td>0</td>\n",
       "      <td>0</td>\n",
       "      <td>0</td>\n",
       "      <td>0</td>\n",
       "      <td>0</td>\n",
       "      <td>0</td>\n",
       "      <td>1</td>\n",
       "      <td>0</td>\n",
       "      <td>0</td>\n",
       "      <td>1</td>\n",
       "      <td>...</td>\n",
       "      <td>0</td>\n",
       "      <td>0</td>\n",
       "      <td>0</td>\n",
       "      <td>0</td>\n",
       "      <td>1</td>\n",
       "      <td>0</td>\n",
       "      <td>0</td>\n",
       "      <td>0</td>\n",
       "      <td>0</td>\n",
       "      <td>0</td>\n",
       "    </tr>\n",
       "    <tr>\n",
       "      <th>...</th>\n",
       "      <td>...</td>\n",
       "      <td>...</td>\n",
       "      <td>...</td>\n",
       "      <td>...</td>\n",
       "      <td>...</td>\n",
       "      <td>...</td>\n",
       "      <td>...</td>\n",
       "      <td>...</td>\n",
       "      <td>...</td>\n",
       "      <td>...</td>\n",
       "      <td>...</td>\n",
       "      <td>...</td>\n",
       "      <td>...</td>\n",
       "      <td>...</td>\n",
       "      <td>...</td>\n",
       "      <td>...</td>\n",
       "      <td>...</td>\n",
       "      <td>...</td>\n",
       "      <td>...</td>\n",
       "      <td>...</td>\n",
       "      <td>...</td>\n",
       "    </tr>\n",
       "    <tr>\n",
       "      <th>8119</th>\n",
       "      <td>0</td>\n",
       "      <td>0</td>\n",
       "      <td>0</td>\n",
       "      <td>0</td>\n",
       "      <td>1</td>\n",
       "      <td>0</td>\n",
       "      <td>0</td>\n",
       "      <td>0</td>\n",
       "      <td>0</td>\n",
       "      <td>1</td>\n",
       "      <td>...</td>\n",
       "      <td>0</td>\n",
       "      <td>0</td>\n",
       "      <td>0</td>\n",
       "      <td>0</td>\n",
       "      <td>0</td>\n",
       "      <td>1</td>\n",
       "      <td>0</td>\n",
       "      <td>0</td>\n",
       "      <td>0</td>\n",
       "      <td>0</td>\n",
       "    </tr>\n",
       "    <tr>\n",
       "      <th>8120</th>\n",
       "      <td>0</td>\n",
       "      <td>0</td>\n",
       "      <td>0</td>\n",
       "      <td>0</td>\n",
       "      <td>0</td>\n",
       "      <td>0</td>\n",
       "      <td>1</td>\n",
       "      <td>0</td>\n",
       "      <td>0</td>\n",
       "      <td>1</td>\n",
       "      <td>...</td>\n",
       "      <td>0</td>\n",
       "      <td>1</td>\n",
       "      <td>0</td>\n",
       "      <td>0</td>\n",
       "      <td>0</td>\n",
       "      <td>1</td>\n",
       "      <td>0</td>\n",
       "      <td>0</td>\n",
       "      <td>0</td>\n",
       "      <td>0</td>\n",
       "    </tr>\n",
       "    <tr>\n",
       "      <th>8121</th>\n",
       "      <td>0</td>\n",
       "      <td>0</td>\n",
       "      <td>0</td>\n",
       "      <td>1</td>\n",
       "      <td>0</td>\n",
       "      <td>0</td>\n",
       "      <td>0</td>\n",
       "      <td>0</td>\n",
       "      <td>0</td>\n",
       "      <td>1</td>\n",
       "      <td>...</td>\n",
       "      <td>0</td>\n",
       "      <td>0</td>\n",
       "      <td>0</td>\n",
       "      <td>0</td>\n",
       "      <td>0</td>\n",
       "      <td>1</td>\n",
       "      <td>0</td>\n",
       "      <td>0</td>\n",
       "      <td>0</td>\n",
       "      <td>0</td>\n",
       "    </tr>\n",
       "    <tr>\n",
       "      <th>8122</th>\n",
       "      <td>1</td>\n",
       "      <td>0</td>\n",
       "      <td>0</td>\n",
       "      <td>0</td>\n",
       "      <td>1</td>\n",
       "      <td>0</td>\n",
       "      <td>0</td>\n",
       "      <td>0</td>\n",
       "      <td>0</td>\n",
       "      <td>0</td>\n",
       "      <td>...</td>\n",
       "      <td>0</td>\n",
       "      <td>1</td>\n",
       "      <td>0</td>\n",
       "      <td>0</td>\n",
       "      <td>0</td>\n",
       "      <td>1</td>\n",
       "      <td>0</td>\n",
       "      <td>0</td>\n",
       "      <td>0</td>\n",
       "      <td>0</td>\n",
       "    </tr>\n",
       "    <tr>\n",
       "      <th>8123</th>\n",
       "      <td>0</td>\n",
       "      <td>0</td>\n",
       "      <td>0</td>\n",
       "      <td>0</td>\n",
       "      <td>0</td>\n",
       "      <td>0</td>\n",
       "      <td>1</td>\n",
       "      <td>0</td>\n",
       "      <td>0</td>\n",
       "      <td>1</td>\n",
       "      <td>...</td>\n",
       "      <td>0</td>\n",
       "      <td>0</td>\n",
       "      <td>0</td>\n",
       "      <td>0</td>\n",
       "      <td>0</td>\n",
       "      <td>1</td>\n",
       "      <td>0</td>\n",
       "      <td>0</td>\n",
       "      <td>0</td>\n",
       "      <td>0</td>\n",
       "    </tr>\n",
       "  </tbody>\n",
       "</table>\n",
       "<p>8124 rows × 118 columns</p>\n",
       "</div>"
      ],
      "text/plain": [
       "      class  cap-shape_b  cap-shape_c  cap-shape_f  cap-shape_k  cap-shape_s  \\\n",
       "0         1            0            0            0            0            0   \n",
       "1         0            0            0            0            0            0   \n",
       "2         0            1            0            0            0            0   \n",
       "3         1            0            0            0            0            0   \n",
       "4         0            0            0            0            0            0   \n",
       "...     ...          ...          ...          ...          ...          ...   \n",
       "8119      0            0            0            0            1            0   \n",
       "8120      0            0            0            0            0            0   \n",
       "8121      0            0            0            1            0            0   \n",
       "8122      1            0            0            0            1            0   \n",
       "8123      0            0            0            0            0            0   \n",
       "\n",
       "      cap-shape_x  cap-surface_f  cap-surface_g  cap-surface_s  ...  \\\n",
       "0               1              0              0              1  ...   \n",
       "1               1              0              0              1  ...   \n",
       "2               0              0              0              1  ...   \n",
       "3               1              0              0              0  ...   \n",
       "4               1              0              0              1  ...   \n",
       "...           ...            ...            ...            ...  ...   \n",
       "8119            0              0              0              1  ...   \n",
       "8120            1              0              0              1  ...   \n",
       "8121            0              0              0              1  ...   \n",
       "8122            0              0              0              0  ...   \n",
       "8123            1              0              0              1  ...   \n",
       "\n",
       "      population_s  population_v  population_y  habitat_d  habitat_g  \\\n",
       "0                1             0             0          0          0   \n",
       "1                0             0             0          0          1   \n",
       "2                0             0             0          0          0   \n",
       "3                1             0             0          0          0   \n",
       "4                0             0             0          0          1   \n",
       "...            ...           ...           ...        ...        ...   \n",
       "8119             0             0             0          0          0   \n",
       "8120             0             1             0          0          0   \n",
       "8121             0             0             0          0          0   \n",
       "8122             0             1             0          0          0   \n",
       "8123             0             0             0          0          0   \n",
       "\n",
       "      habitat_l  habitat_m  habitat_p  habitat_u  habitat_w  \n",
       "0             0          0          0          1          0  \n",
       "1             0          0          0          0          0  \n",
       "2             0          1          0          0          0  \n",
       "3             0          0          0          1          0  \n",
       "4             0          0          0          0          0  \n",
       "...         ...        ...        ...        ...        ...  \n",
       "8119          1          0          0          0          0  \n",
       "8120          1          0          0          0          0  \n",
       "8121          1          0          0          0          0  \n",
       "8122          1          0          0          0          0  \n",
       "8123          1          0          0          0          0  \n",
       "\n",
       "[8124 rows x 118 columns]"
      ]
     },
     "execution_count": 256,
     "metadata": {},
     "output_type": "execute_result"
    }
   ],
   "source": [
    "mushrooms2"
   ]
  },
  {
   "cell_type": "code",
   "execution_count": 257,
   "id": "33f0c77c",
   "metadata": {},
   "outputs": [],
   "source": [
    "X=mushrooms2.drop('class',axis=1)\n",
    "Y=mushrooms2['class']"
   ]
  },
  {
   "cell_type": "code",
   "execution_count": 258,
   "id": "40295534",
   "metadata": {},
   "outputs": [],
   "source": [
    "# 3. Split the data into a training and test set.\n",
    "m_xtrain, m_xtest, m_ytrain, m_ytest = train_test_split(X, Y, test_size=0.2)"
   ]
  },
  {
   "cell_type": "code",
   "execution_count": 259,
   "id": "3bba8656",
   "metadata": {},
   "outputs": [],
   "source": [
    "# 4. Fit a decision tree classifier on the training set.\n",
    "dtc = DecisionTreeClassifier(random_state = 1234)\n",
    "dtc_model = dtc.fit(m_xtrain, m_ytrain)"
   ]
  },
  {
   "cell_type": "code",
   "execution_count": 260,
   "id": "183417e1",
   "metadata": {},
   "outputs": [],
   "source": [
    "# 5. Report the accuracy and create a confusion matrix for the model prediction on the test set.\n",
    "dtcpredictions = dtc_model.predict(m_xtest)"
   ]
  },
  {
   "cell_type": "code",
   "execution_count": 261,
   "id": "be9da537",
   "metadata": {},
   "outputs": [
    {
     "name": "stdout",
     "output_type": "stream",
     "text": [
      "              precision    recall  f1-score   support\n",
      "\n",
      "           0       1.00      1.00      1.00       828\n",
      "           1       1.00      1.00      1.00       797\n",
      "\n",
      "    accuracy                           1.00      1625\n",
      "   macro avg       1.00      1.00      1.00      1625\n",
      "weighted avg       1.00      1.00      1.00      1625\n",
      "\n"
     ]
    }
   ],
   "source": [
    "print(classification_report(m_ytest, dtcpredictions))"
   ]
  },
  {
   "cell_type": "code",
   "execution_count": 262,
   "id": "4e957b50",
   "metadata": {},
   "outputs": [
    {
     "data": {
      "text/plain": [
       "array([[828,   0],\n",
       "       [  0, 797]], dtype=int64)"
      ]
     },
     "execution_count": 262,
     "metadata": {},
     "output_type": "execute_result"
    }
   ],
   "source": [
    "conf_matrix = confusion_matrix(m_ytest, dtcpredictions)\n",
    "conf_matrix"
   ]
  },
  {
   "cell_type": "code",
   "execution_count": 263,
   "id": "27430efd",
   "metadata": {},
   "outputs": [],
   "source": [
    "cm_display = ConfusionMatrixDisplay(confusion_matrix = conf_matrix, display_labels = [False, True])"
   ]
  },
  {
   "cell_type": "code",
   "execution_count": 264,
   "id": "eda90c43",
   "metadata": {},
   "outputs": [
    {
     "data": {
      "image/png": "[encoded data removed]",
      "text/plain": [
       "<Figure size 432x288 with 2 Axes>"
      ]
     },
     "metadata": {
      "needs_background": "light"
     },
     "output_type": "display_data"
    }
   ],
   "source": [
    "cm_display.plot()\n",
    "plt.show()"
   ]
  },
  {
   "cell_type": "code",
   "execution_count": 265,
   "id": "ff6223e5",
   "metadata": {},
   "outputs": [
    {
     "name": "stdout",
     "output_type": "stream",
     "text": [
      "|--- feature_27 <= 0.50\n",
      "|   |--- feature_53 <= 0.50\n",
      "|   |   |--- feature_55 <= 0.50\n",
      "|   |   |   |--- feature_101 <= 0.50\n",
      "|   |   |   |   |--- feature_25 <= 0.50\n",
      "|   |   |   |   |   |--- feature_22 <= 0.50\n",
      "|   |   |   |   |   |   |--- class: 1\n",
      "|   |   |   |   |   |--- feature_22 >  0.50\n",
      "|   |   |   |   |   |   |--- class: 0\n",
      "|   |   |   |   |--- feature_25 >  0.50\n",
      "|   |   |   |   |   |--- class: 0\n",
      "|   |   |   |--- feature_101 >  0.50\n",
      "|   |   |   |   |--- class: 0\n",
      "|   |   |--- feature_55 >  0.50\n",
      "|   |   |   |--- class: 0\n",
      "|   |--- feature_53 >  0.50\n",
      "|   |   |--- feature_21 <= 0.50\n",
      "|   |   |   |--- class: 1\n",
      "|   |   |--- feature_21 >  0.50\n",
      "|   |   |   |--- class: 0\n",
      "|--- feature_27 >  0.50\n",
      "|   |--- feature_100 <= 0.50\n",
      "|   |   |--- feature_63 <= 0.50\n",
      "|   |   |   |--- feature_7 <= 0.50\n",
      "|   |   |   |   |--- feature_1 <= 0.50\n",
      "|   |   |   |   |   |--- feature_36 <= 0.50\n",
      "|   |   |   |   |   |   |--- class: 0\n",
      "|   |   |   |   |   |--- feature_36 >  0.50\n",
      "|   |   |   |   |   |   |--- feature_20 <= 0.50\n",
      "|   |   |   |   |   |   |   |--- class: 1\n",
      "|   |   |   |   |   |   |--- feature_20 >  0.50\n",
      "|   |   |   |   |   |   |   |--- class: 0\n",
      "|   |   |   |   |--- feature_1 >  0.50\n",
      "|   |   |   |   |   |--- class: 1\n",
      "|   |   |   |--- feature_7 >  0.50\n",
      "|   |   |   |   |--- class: 1\n",
      "|   |   |--- feature_63 >  0.50\n",
      "|   |   |   |--- feature_109 <= 0.50\n",
      "|   |   |   |   |--- class: 1\n",
      "|   |   |   |--- feature_109 >  0.50\n",
      "|   |   |   |   |--- class: 0\n",
      "|   |--- feature_100 >  0.50\n",
      "|   |   |--- class: 1\n",
      "\n"
     ]
    }
   ],
   "source": [
    "# 6. Create a visualization of the decision tree.\n",
    "text_representation = tree.export_text(dtc)\n",
    "print(text_representation)"
   ]
  },
  {
   "cell_type": "code",
   "execution_count": 266,
   "id": "c0548cfb",
   "metadata": {},
   "outputs": [],
   "source": [
    "# 7. Use a χ2-statistic selector to pick the five best features for this data \n",
    "selector = SelectKBest(chi2, k=5)\n",
    "selector.fit(m_xtrain, m_ytrain)\n",
    "# Get columns to keep and create new dataframe with those only\n",
    "cols_idxs = selector.get_support(indices=True)\n",
    "top_features = mushrooms2.iloc[:,cols_idxs]"
   ]
  },
  {
   "cell_type": "code",
   "execution_count": 267,
   "id": "f05f7ec9",
   "metadata": {},
   "outputs": [
    {
     "data": {
      "text/plain": [
       "Index(['odor_c', 'odor_m', 'gill-size_n', 'stalk-surface-above-ring_f',\n",
       "       'stalk-surface-below-ring_f'],\n",
       "      dtype='object')"
      ]
     },
     "execution_count": 267,
     "metadata": {},
     "output_type": "execute_result"
    }
   ],
   "source": [
    "# 8. Which five features were selected in step 7? Hint: Use the get_support function.\n",
    "top_features.columns"
   ]
  },
  {
   "cell_type": "code",
   "execution_count": 268,
   "id": "34cf02b3",
   "metadata": {},
   "outputs": [],
   "source": [
    "# 9. Repeat steps 4 and 5 with the five best features selected in step 7.\n",
    "X2 = top_features\n",
    "Y2 = mushrooms2['class']"
   ]
  },
  {
   "cell_type": "code",
   "execution_count": 269,
   "id": "0ea9c716",
   "metadata": {},
   "outputs": [],
   "source": [
    "# splitting data\n",
    "m_xtrain2, m_xtest2, m_ytrain2, m_ytest2 = train_test_split(X2, Y2, test_size=0.2)"
   ]
  },
  {
   "cell_type": "code",
   "execution_count": 270,
   "id": "9a987fb6",
   "metadata": {},
   "outputs": [],
   "source": [
    "# dtc\n",
    "dtc2 = DecisionTreeClassifier(random_state = 1234)\n",
    "dtc_model2 = dtc2.fit(m_xtrain2, m_ytrain2)"
   ]
  },
  {
   "cell_type": "code",
   "execution_count": 271,
   "id": "4f0643b9",
   "metadata": {},
   "outputs": [
    {
     "name": "stdout",
     "output_type": "stream",
     "text": [
      "              precision    recall  f1-score   support\n",
      "\n",
      "           0       0.71      0.95      0.81       842\n",
      "           1       0.91      0.59      0.72       783\n",
      "\n",
      "    accuracy                           0.77      1625\n",
      "   macro avg       0.81      0.77      0.76      1625\n",
      "weighted avg       0.81      0.77      0.77      1625\n",
      "\n"
     ]
    }
   ],
   "source": [
    "# reporting results\n",
    "dtcpredictions2 = dtc_model2.predict(m_xtest2)\n",
    "print(classification_report(m_ytest2, dtcpredictions2))"
   ]
  },
  {
   "cell_type": "code",
   "execution_count": 272,
   "id": "6d09f761",
   "metadata": {},
   "outputs": [
    {
     "name": "stdout",
     "output_type": "stream",
     "text": [
      "Accuracy: 0.7741538461538462\n"
     ]
    }
   ],
   "source": [
    "# score\n",
    "print('Accuracy:',dtc_model2.score(m_xtest2, m_ytest2))"
   ]
  },
  {
   "cell_type": "code",
   "execution_count": 273,
   "id": "cbdb6847",
   "metadata": {},
   "outputs": [
    {
     "data": {
      "text/plain": [
       "array([[796,  46],\n",
       "       [321, 462]], dtype=int64)"
      ]
     },
     "execution_count": 273,
     "metadata": {},
     "output_type": "execute_result"
    }
   ],
   "source": [
    "# confusion matrix\n",
    "conf_matrix2 = confusion_matrix(m_ytest2, dtcpredictions2)\n",
    "conf_matrix2"
   ]
  },
  {
   "cell_type": "code",
   "execution_count": 274,
   "id": "85ca7e4a",
   "metadata": {},
   "outputs": [],
   "source": [
    "cm_display2 = ConfusionMatrixDisplay(confusion_matrix = conf_matrix2, display_labels = [False, True])"
   ]
  },
  {
   "cell_type": "code",
   "execution_count": 275,
   "id": "3f5af562",
   "metadata": {},
   "outputs": [
    {
     "data": {
      "image/png": "[encoded data removed]",
      "text/plain": [
       "<Figure size 432x288 with 2 Axes>"
      ]
     },
     "metadata": {
      "needs_background": "light"
     },
     "output_type": "display_data"
    }
   ],
   "source": [
    "cm_display2.plot()\n",
    "plt.show()"
   ]
  },
  {
   "cell_type": "markdown",
   "id": "24f6ea14",
   "metadata": {},
   "source": [
    "**10. Summarize your findings:** I found myself very surprised with the 100% accuracy of the model using all 118 dummy variable columns. I doubted myself heavily, running through multiple iterations of the model and setting variables to no avail. I did some research regarding this phenomenon and found that it could be because the model is overfitting the data due to the excess of parameters. When I used SelectKBest to use the 5 features with the best chi-squared values, I found the accuracy to be much more realistic, at around 78%. I think the lesson here is that feature selection is important because if not used, it could lead to overfitting and accuracies that appear succesful but are not. As opposed to part 1, where the feature selection seemed to bring the R2 score down and the errors up. Although it was using different feature selection for predicting values rather than classifying them. "
   ]
  }
 ],
 "metadata": {
  "kernelspec": {
   "display_name": "Python 3",
   "language": "python",
   "name": "python3"
  },
  "language_info": {
   "codemirror_mode": {
    "name": "ipython",
    "version": 3
   },
   "file_extension": ".py",
   "mimetype": "text/x-python",
   "name": "python",
   "nbconvert_exporter": "python",
   "pygments_lexer": "ipython3",
   "version": "3.8.5"
  }
 },
 "nbformat": 4,
 "nbformat_minor": 5
}
