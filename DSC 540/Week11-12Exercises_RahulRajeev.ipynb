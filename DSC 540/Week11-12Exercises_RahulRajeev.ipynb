{
 "cells": [
  {
   "cell_type": "markdown",
   "id": "b1feb62c",
   "metadata": {},
   "source": [
    "# Week 11&12 Exercises\n",
    "# Rahul Rajeev"
   ]
  },
  {
   "cell_type": "code",
   "execution_count": 1,
   "id": "2e72114a",
   "metadata": {},
   "outputs": [],
   "source": [
    "# libraries\n",
    "import pandas as pd\n",
    "import numpy as np\n",
    "import sqlite3"
   ]
  },
  {
   "cell_type": "code",
   "execution_count": 6,
   "id": "315833be",
   "metadata": {},
   "outputs": [
    {
     "data": {
      "text/plain": [
       "<sqlite3.Cursor at 0x1af07741650>"
      ]
     },
     "execution_count": 6,
     "metadata": {},
     "output_type": "execute_result"
    }
   ],
   "source": [
    "# 1. connect to petsDB and check whether the connection is successful\n",
    "conn = sqlite3.connect('petsdb.db')\n",
    "conn.execute('SELECT * FROM persons LIMIT 1')"
   ]
  },
  {
   "cell_type": "code",
   "execution_count": 7,
   "id": "f8415f74",
   "metadata": {},
   "outputs": [
    {
     "name": "stdout",
     "output_type": "stream",
     "text": [
      "2 people with age 5\n",
      "1 people with age 6\n",
      "1 people with age 7\n",
      "3 people with age 8\n",
      "1 people with age 9\n",
      "2 people with age 11\n",
      "3 people with age 12\n",
      "1 people with age 13\n",
      "4 people with age 14\n",
      "2 people with age 16\n",
      "2 people with age 17\n",
      "3 people with age 18\n",
      "1 people with age 19\n",
      "3 people with age 22\n",
      "2 people with age 23\n",
      "3 people with age 24\n",
      "2 people with age 25\n",
      "1 people with age 27\n",
      "1 people with age 30\n",
      "3 people with age 31\n",
      "1 people with age 32\n",
      "1 people with age 33\n",
      "2 people with age 34\n",
      "3 people with age 35\n",
      "3 people with age 36\n",
      "1 people with age 37\n",
      "2 people with age 39\n",
      "1 people with age 40\n",
      "1 people with age 42\n",
      "2 people with age 44\n",
      "2 people with age 48\n",
      "1 people with age 49\n",
      "1 people with age 50\n",
      "2 people with age 51\n",
      "2 people with age 52\n",
      "2 people with age 53\n",
      "2 people with age 54\n",
      "1 people with age 58\n",
      "1 people with age 59\n",
      "1 people with age 60\n",
      "1 people with age 61\n",
      "2 people with age 62\n",
      "1 people with age 63\n",
      "2 people with age 65\n",
      "2 people with age 66\n",
      "1 people with age 67\n",
      "3 people with age 68\n",
      "1 people with age 69\n",
      "1 people with age 70\n",
      "4 people with age 71\n",
      "1 people with age 72\n",
      "5 people with age 73\n",
      "3 people with age 74\n"
     ]
    }
   ],
   "source": [
    "# 2. find the different age groups in the persons database\n",
    "c = conn.cursor()\n",
    "# query that counts all entries, and selects age from the persons table, \n",
    "# grouped by age\n",
    "for ppl, age in c.execute(\"SELECT count(*), age FROM persons GROUP BY age\"):\n",
    "    print(\"{} people with age {}\".format(ppl,age))"
   ]
  },
  {
   "cell_type": "code",
   "execution_count": 11,
   "id": "1eadbd43",
   "metadata": {},
   "outputs": [
    {
     "name": "stdout",
     "output_type": "stream",
     "text": [
      "Highest number is 5 people with age 73\n"
     ]
    }
   ],
   "source": [
    "# 3. Find the age group that has the maximum number of people.\n",
    "\n",
    "# same command, with descending count\n",
    "for ppl, age in c.execute(\"SELECT count(*), age FROM persons GROUP BY age ORDER BY count(*) DESC LIMIT 1\"):\n",
    "    print(\"Highest number is {} people with age {}\".format(ppl,age))"
   ]
  },
  {
   "cell_type": "code",
   "execution_count": 16,
   "id": "e8bae50a",
   "metadata": {},
   "outputs": [
    {
     "name": "stdout",
     "output_type": "stream",
     "text": [
      "(60,)\n"
     ]
    }
   ],
   "source": [
    "# 4. Find the people who do not have a last name.\n",
    "\n",
    "# counting the entries in persons where last_name is null\n",
    "for row in c.execute(\"SELECT count(*) FROM persons WHERE last_name IS null\"):\n",
    "    print(row)"
   ]
  },
  {
   "cell_type": "code",
   "execution_count": 20,
   "id": "338f13b0",
   "metadata": {},
   "outputs": [
    {
     "name": "stdout",
     "output_type": "stream",
     "text": [
      "(43,)\n"
     ]
    }
   ],
   "source": [
    "# 5. Find out how many people have more than one pet.\n",
    "\n",
    "# selecting the number of entries in the table where we count the number of owner_ids, implying repeated ownership, from the \n",
    "# pets table ordered by owner_id having counts of more than one entry\n",
    "for row in c.execute(\"SELECT count(*) FROM (SELECT count(owner_id) FROM pets GROUP BY owner_id HAVING count(owner_id) >1)\"):\n",
    "    print(row)"
   ]
  },
  {
   "cell_type": "code",
   "execution_count": 21,
   "id": "7d933859",
   "metadata": {},
   "outputs": [
    {
     "name": "stdout",
     "output_type": "stream",
     "text": [
      "(36,)\n"
     ]
    }
   ],
   "source": [
    "# 6. Find out how many pets have received treatment.\n",
    "\n",
    "# selecting the count of entries from pets where the treatment_done variable is one\n",
    "for row in c.execute(\"SELECT count(*) FROM pets WHERE treatment_done=1\"):\n",
    "    print(row)"
   ]
  },
  {
   "cell_type": "code",
   "execution_count": 24,
   "id": "51c2e8f5",
   "metadata": {},
   "outputs": [
    {
     "name": "stdout",
     "output_type": "stream",
     "text": [
      "(16,)\n"
     ]
    }
   ],
   "source": [
    "# 7. Find out how many pets have received treatment and the type of pet is known.\n",
    "\n",
    "# selecting the count of entries from pets where treatment_done is 1, and the entry doesn't have a null pet_type\n",
    "\n",
    "for row in c.execute(\"SELECT count(*) FROM pets WHERE treatment_done=1 AND pet_type IS NOT null\"):\n",
    "    print(row)"
   ]
  },
  {
   "cell_type": "code",
   "execution_count": 26,
   "id": "809527d5",
   "metadata": {},
   "outputs": [
    {
     "name": "stdout",
     "output_type": "stream",
     "text": [
      "(49,)\n"
     ]
    }
   ],
   "source": [
    "# 8. Find out how many pets are from the city called east port.\n",
    "\n",
    "# since pets doesn't have the city entry, we have to join tables on the owner_id, and select the number of entries where \n",
    "# the id matches and where the city column from persons is east port\n",
    "\n",
    "for row in c.execute(\"SELECT count(*) FROM pets JOIN persons ON pets.owner_id = persons.id WHERE persons.city='east port'\"):\n",
    "    print(row)"
   ]
  },
  {
   "cell_type": "code",
   "execution_count": 30,
   "id": "87d55857",
   "metadata": {},
   "outputs": [
    {
     "name": "stdout",
     "output_type": "stream",
     "text": [
      "(11,)\n"
     ]
    }
   ],
   "source": [
    "# 9. Find out how many pets are from the city called east port and who received a treatment.\n",
    "\n",
    "# same as previous query, but we add an additional condition where the pets' treatment_done column is equal to 1\n",
    "# we have to specify the table from where each column is from, hence pets.treatment_done\n",
    "query = \"SELECT count(*) FROM pets JOIN persons ON pets.owner_id = persons.id WHERE persons.city='east port' AND pets.treatment_done=1\"\n",
    "\n",
    "for row in c.execute(query):\n",
    "    print(row)"
   ]
  }
 ],
 "metadata": {
  "kernelspec": {
   "display_name": "Python 3",
   "language": "python",
   "name": "python3"
  },
  "language_info": {
   "codemirror_mode": {
    "name": "ipython",
    "version": 3
   },
   "file_extension": ".py",
   "mimetype": "text/x-python",
   "name": "python",
   "nbconvert_exporter": "python",
   "pygments_lexer": "ipython3",
   "version": "3.8.5"
  }
 },
 "nbformat": 4,
 "nbformat_minor": 5
}
