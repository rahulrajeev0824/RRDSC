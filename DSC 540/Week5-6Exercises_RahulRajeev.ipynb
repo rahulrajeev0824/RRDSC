{
 "cells": [
  {
   "cell_type": "markdown",
   "id": "af24ec38",
   "metadata": {},
   "source": [
    "# Weeks 5-6 Exercises\n",
    "# Rahul Rajeev"
   ]
  },
  {
   "cell_type": "markdown",
   "id": "2ef09768",
   "metadata": {},
   "source": [
    "**1. Data Wrangling with Python: Activity 7, page 207**\n",
    "\n",
    "Link: https://en.wikipedia.org/wiki/List_of_countries_by_GDP_(nominal)"
   ]
  },
  {
   "cell_type": "code",
   "execution_count": 2,
   "id": "714b634f",
   "metadata": {},
   "outputs": [],
   "source": [
    "# libraries\n",
    "from bs4 import BeautifulSoup\n",
    "import pandas as pd\n",
    "import numpy as np\n",
    "import requests\n",
    "import matplotlib.pyplot as plt"
   ]
  },
  {
   "cell_type": "markdown",
   "id": "ee92b924",
   "metadata": {},
   "source": [
    "**1. Use inspect element to analyze the structure**\n",
    "\n",
    "I found that the structure needed is under the table class, which is split into thead and tbody, thead representing the header\n",
    "and tbody representing each row."
   ]
  },
  {
   "cell_type": "code",
   "execution_count": 3,
   "id": "5fd0f18e",
   "metadata": {},
   "outputs": [],
   "source": [
    "#2. read the website using bs4\n",
    "# request url\n",
    "website_url = requests.get('https://en.wikipedia.org/wiki/List_of_countries_by_GDP_(nominal)').text\n",
    "# parse using Beautiful soup\n",
    "soup = BeautifulSoup(website_url,'html.parser')"
   ]
  },
  {
   "cell_type": "code",
   "execution_count": 4,
   "id": "570fbc8c",
   "metadata": {},
   "outputs": [
    {
     "name": "stdout",
     "output_type": "stream",
     "text": [
      "Total number of tables are 7 \n"
     ]
    }
   ],
   "source": [
    "# 3. find the table structure you will use (how many table structures are there?)\n",
    "\n",
    "# find all table structures\n",
    "all_tables = soup.find_all(\"table\")\n",
    "\n",
    "# counting the number of tables\n",
    "print(\"Total number of tables are {} \".format(len(all_tables)))"
   ]
  },
  {
   "cell_type": "code",
   "execution_count": 5,
   "id": "63b53abb",
   "metadata": {},
   "outputs": [
    {
     "data": {
      "text/plain": [
       "bs4.element.Tag"
      ]
     },
     "execution_count": 5,
     "metadata": {},
     "output_type": "execute_result"
    }
   ],
   "source": [
    "# 4. Find the right table using bs4\n",
    "# searching for a specific table with classes of wikitable and sortable, there should only be one\n",
    "My_table = soup.find('table', {\"class\": \"wikitable\", \"class\": \"sortable\"})\n",
    "\n",
    "# checking type for validation\n",
    "type(My_table)"
   ]
  },
  {
   "cell_type": "code",
   "execution_count": 431,
   "id": "f1e2b6d3",
   "metadata": {},
   "outputs": [
    {
     "data": {
      "text/plain": [
       "[<th colspan=\"2\"><a href=\"/wiki/International_Monetary_Fund\" title=\"International Monetary Fund\">IMF</a><sup class=\"reference\" id=\"cite_ref-GDP_IMF_2-2\"><a href=\"#cite_note-GDP_IMF-2\">[1]</a></sup><sup class=\"reference\" id=\"cite_ref-15\"><a href=\"#cite_note-15\">[13]</a></sup>\n",
       " </th>,\n",
       " <th colspan=\"2\"><a href=\"/wiki/World_Bank\" title=\"World Bank\">World Bank</a><sup class=\"reference\" id=\"cite_ref-16\"><a href=\"#cite_note-16\">[14]</a></sup>\n",
       " </th>,\n",
       " <th colspan=\"2\"><a href=\"/wiki/United_Nations\" title=\"United Nations\">United Nations</a><sup class=\"reference\" id=\"cite_ref-UN_17-0\"><a href=\"#cite_note-UN-17\">[15]</a></sup>\n",
       " </th>]"
      ]
     },
     "execution_count": 431,
     "metadata": {},
     "output_type": "execute_result"
    }
   ],
   "source": [
    "# 5. Separate the source names and their corresponding data\n",
    "\n",
    "# sources\n",
    "\n",
    "# this returns the first tr result, without descendents\n",
    "sources = My_table.tbody.find_all('tr', recursive = False)[0]\n",
    "\n",
    "# creating a list of sources, but only th works instead of td? confused\n",
    "sources_list = [th for th in sources.find_all('th')]\n",
    "\n",
    "# the first two are headers of the actual table, so we will leave those out\n",
    "sources_list[2:5]"
   ]
  },
  {
   "cell_type": "code",
   "execution_count": 432,
   "id": "8869a308",
   "metadata": {},
   "outputs": [
    {
     "data": {
      "text/plain": [
       "['World',\n",
       " '—',\n",
       " '101,560,901',\n",
       " '2022',\n",
       " '96,513,077',\n",
       " '2021',\n",
       " '85,328,323',\n",
       " '2020']"
      ]
     },
     "execution_count": 432,
     "metadata": {},
     "output_type": "execute_result"
    }
   ],
   "source": [
    "# data\n",
    "data_rows = My_table.find_all('tr')\n",
    "\n",
    "rows = []\n",
    "\n",
    "# iterating through the rows of data\n",
    "for row in data_rows:\n",
    "    # picking out the td elements as data cells\n",
    "    value = row.find_all('td')\n",
    "    # stripping elements\n",
    "    real_val = [ele.text.strip() for ele in value]\n",
    "    # if the value is empty, continue\n",
    "    if len(real_val) == 0:\n",
    "        continue\n",
    "    # append the results\n",
    "    rows.append(real_val)\n",
    "\n",
    "# preview\n",
    "rows[0]"
   ]
  },
  {
   "cell_type": "code",
   "execution_count": 433,
   "id": "a4986fcf",
   "metadata": {},
   "outputs": [
    {
     "data": {
      "text/plain": [
       "['International Monetary Fund', 'World Bank', 'United Nations']"
      ]
     },
     "execution_count": 433,
     "metadata": {},
     "output_type": "execute_result"
    }
   ],
   "source": [
    "# 6. Get the source names from the list you have created\n",
    "\n",
    "titles = []\n",
    "\n",
    "# a element, finding all in the sources list\n",
    "for a in sources.find_all('a'):\n",
    "    # getting the title element from that a element\n",
    "    title = a.get('title')\n",
    "    # as long as the title isn't empty, append to list\n",
    "    if title != None:\n",
    "        titles.append(title)\n",
    "\n",
    "# setting the titles list to be the last three, as the first and last elements are other headers pulled from the table\n",
    "titles[1:4]"
   ]
  },
  {
   "cell_type": "code",
   "execution_count": 434,
   "id": "9044f472",
   "metadata": {},
   "outputs": [
    {
     "data": {
      "text/plain": [
       "['Country/Territory',\n",
       " 'UN Region',\n",
       " 'Estimate',\n",
       " 'Year',\n",
       " 'Estimate',\n",
       " 'Year',\n",
       " 'Estimate',\n",
       " 'Year']"
      ]
     },
     "execution_count": 434,
     "metadata": {},
     "output_type": "execute_result"
    }
   ],
   "source": [
    "# 7. Separate the header and data from the data that \n",
    "# you separated before for the first source only, and then create a DataFrame using that\n",
    "\n",
    "# headers\n",
    "headers = [header.text.strip() for header in My_table.find_all('th')]\n",
    "\n",
    "# headers that are pulled from the source section\n",
    "not_needed = ['IMF[1][13]', 'World Bank[14]','United Nations[15]']\n",
    "\n",
    "# only including headers under the source section\n",
    "fixed = [header for header in headers if header not in not_needed]\n",
    "fixed"
   ]
  },
  {
   "cell_type": "code",
   "execution_count": 435,
   "id": "ca0022aa",
   "metadata": {},
   "outputs": [],
   "source": [
    "# separate data and headers for up to the first source\n",
    "\n",
    "# picking only the first four columns of both the headers and the data rows\n",
    "source1headers = fixed[0:4]\n",
    "source1rows = [row[0:4] for row in rows]"
   ]
  },
  {
   "cell_type": "code",
   "execution_count": 436,
   "id": "8a426d2a",
   "metadata": {},
   "outputs": [
    {
     "data": {
      "text/html": [
       "<div>\n",
       "<style scoped>\n",
       "    .dataframe tbody tr th:only-of-type {\n",
       "        vertical-align: middle;\n",
       "    }\n",
       "\n",
       "    .dataframe tbody tr th {\n",
       "        vertical-align: top;\n",
       "    }\n",
       "\n",
       "    .dataframe thead th {\n",
       "        text-align: right;\n",
       "    }\n",
       "</style>\n",
       "<table border=\"1\" class=\"dataframe\">\n",
       "  <thead>\n",
       "    <tr style=\"text-align: right;\">\n",
       "      <th></th>\n",
       "      <th>Country/Territory</th>\n",
       "      <th>UN Region</th>\n",
       "      <th>Estimate</th>\n",
       "      <th>Year</th>\n",
       "    </tr>\n",
       "  </thead>\n",
       "  <tbody>\n",
       "    <tr>\n",
       "      <th>0</th>\n",
       "      <td>World</td>\n",
       "      <td>—</td>\n",
       "      <td>101,560,901</td>\n",
       "      <td>2022</td>\n",
       "    </tr>\n",
       "    <tr>\n",
       "      <th>1</th>\n",
       "      <td>United States</td>\n",
       "      <td>Americas</td>\n",
       "      <td>25,035,164</td>\n",
       "      <td>2022</td>\n",
       "    </tr>\n",
       "    <tr>\n",
       "      <th>2</th>\n",
       "      <td>China</td>\n",
       "      <td>Asia</td>\n",
       "      <td>18,321,197</td>\n",
       "      <td>[n 1]2022</td>\n",
       "    </tr>\n",
       "    <tr>\n",
       "      <th>3</th>\n",
       "      <td>Japan</td>\n",
       "      <td>Asia</td>\n",
       "      <td>4,300,621</td>\n",
       "      <td>2022</td>\n",
       "    </tr>\n",
       "    <tr>\n",
       "      <th>4</th>\n",
       "      <td>Germany</td>\n",
       "      <td>Europe</td>\n",
       "      <td>4,031,149</td>\n",
       "      <td>2022</td>\n",
       "    </tr>\n",
       "    <tr>\n",
       "      <th>...</th>\n",
       "      <td>...</td>\n",
       "      <td>...</td>\n",
       "      <td>...</td>\n",
       "      <td>...</td>\n",
       "    </tr>\n",
       "    <tr>\n",
       "      <th>212</th>\n",
       "      <td>Palau</td>\n",
       "      <td>Oceania</td>\n",
       "      <td>226</td>\n",
       "      <td>2022</td>\n",
       "    </tr>\n",
       "    <tr>\n",
       "      <th>213</th>\n",
       "      <td>Kiribati</td>\n",
       "      <td>Oceania</td>\n",
       "      <td>207</td>\n",
       "      <td>2022</td>\n",
       "    </tr>\n",
       "    <tr>\n",
       "      <th>214</th>\n",
       "      <td>Nauru</td>\n",
       "      <td>Oceania</td>\n",
       "      <td>134</td>\n",
       "      <td>2022</td>\n",
       "    </tr>\n",
       "    <tr>\n",
       "      <th>215</th>\n",
       "      <td>Montserrat</td>\n",
       "      <td>Americas</td>\n",
       "      <td>—</td>\n",
       "      <td>—</td>\n",
       "    </tr>\n",
       "    <tr>\n",
       "      <th>216</th>\n",
       "      <td>Tuvalu</td>\n",
       "      <td>Oceania</td>\n",
       "      <td>64</td>\n",
       "      <td>2022</td>\n",
       "    </tr>\n",
       "  </tbody>\n",
       "</table>\n",
       "<p>217 rows × 4 columns</p>\n",
       "</div>"
      ],
      "text/plain": [
       "    Country/Territory UN Region     Estimate       Year\n",
       "0               World         —  101,560,901       2022\n",
       "1       United States  Americas   25,035,164       2022\n",
       "2               China      Asia   18,321,197  [n 1]2022\n",
       "3               Japan      Asia    4,300,621       2022\n",
       "4             Germany    Europe    4,031,149       2022\n",
       "..                ...       ...          ...        ...\n",
       "212             Palau   Oceania          226       2022\n",
       "213          Kiribati   Oceania          207       2022\n",
       "214             Nauru   Oceania          134       2022\n",
       "215        Montserrat  Americas            —          —\n",
       "216            Tuvalu   Oceania           64       2022\n",
       "\n",
       "[217 rows x 4 columns]"
      ]
     },
     "execution_count": 436,
     "metadata": {},
     "output_type": "execute_result"
    }
   ],
   "source": [
    "# showing first iteration of dataframe, but can be cleaned a bit more.\n",
    "pd.DataFrame(source1rows, columns = source1headers)"
   ]
  },
  {
   "cell_type": "markdown",
   "id": "5c8313ca",
   "metadata": {},
   "source": [
    "**Thoughts:** The following section is to repeat the process, but I chose to improve my methods and create a generalized function for the entire process, with some additional helper functions to clean up the data a bit more.\n",
    "\n",
    "1. I noticed that the datasets actually had some issues where if the measurement was blank for both, it only stored one dash character as the value in the row, so I created a helper function that tracked this properly.\n",
    "\n",
    "2. Another issue I found was that wikipedia throws in some hyperlinks once in a while attached to the  years to give the reader  more information, but it does get distracting in the dataframe. A second helper function was created to treat this issue.\n",
    "\n",
    "For this reason, I will also redo dataframe 1 to accomodate for this errors. "
   ]
  },
  {
   "cell_type": "code",
   "execution_count": 451,
   "id": "bbe98914",
   "metadata": {},
   "outputs": [],
   "source": [
    "# although it didn't really matter to fix the issues in the other two sources, I made sure that these functions worked\n",
    "# universally \n",
    "\n",
    "# helper function 1 to solve issue 1\n",
    "def emptyrowfix(row):\n",
    "    for i in range(len(row)):\n",
    "        if row[i] == '—' and i % 2 == 0:\n",
    "            j = i+1\n",
    "            row.insert(j, '—')\n",
    "\n",
    "# helper function 2 to solve issue 2\n",
    "def removehyperlink(row):\n",
    "    for i in range(len(row)):\n",
    "        j = row[i].rfind(']')\n",
    "        k = j + 1\n",
    "        row[i] = row[i][k:]"
   ]
  },
  {
   "cell_type": "code",
   "execution_count": 452,
   "id": "ff8ee600",
   "metadata": {},
   "outputs": [],
   "source": [
    "# 8. Repeat the last task for the other two data sources\n",
    "def wikitodataframe(link, sources):\n",
    "    # request\n",
    "    website_url = requests.get(link).text\n",
    "    # soup\n",
    "    soup = BeautifulSoup(website_url,'html.parser')\n",
    "    # finding table\n",
    "    My_table = soup.find('table', {\"class\": \"wikitable\", \"class\": \"sortable\"})\n",
    "    \n",
    "    # setting headers\n",
    "    headers = [header.text.strip() for header in My_table.find_all('th')]\n",
    "    \n",
    "    # not_needed = ['IMF[1][13]', 'World Bank[14]','United Nations[15]']\n",
    "    # this line will be replaced by unique lists of sources for each html file\n",
    "    \n",
    "    # getting the right headers\n",
    "    fixed = [header for header in headers if header not in sources]\n",
    "    fixed\n",
    "    \n",
    "    # setting data\n",
    "    data_rows = My_table.find_all('tr')\n",
    "    rows = []\n",
    "    for row in data_rows:\n",
    "        value = row.find_all('td')\n",
    "        real_val = [ele.text.strip() for ele in value]\n",
    "        if len(real_val) == 0:\n",
    "            continue\n",
    "        rows.append(real_val)\n",
    "    \n",
    "    # fixing weird dashed data points in data sets and hyperlinks\n",
    "    for row in rows:\n",
    "        emptyrowfix(row)\n",
    "        removehyperlink(row)\n",
    "\n",
    "    # setting the dataset for the first source\n",
    "    source1headers = fixed[0:4]\n",
    "    source1rows = [row[0:4] for row in rows]\n",
    "    \n",
    "    # create dataframe\n",
    "    df = pd.DataFrame(source1rows, columns = source1headers)\n",
    "    \n",
    "    return df"
   ]
  },
  {
   "cell_type": "code",
   "execution_count": 453,
   "id": "79f44e96",
   "metadata": {},
   "outputs": [],
   "source": [
    "# unique links and source headers to be replaced\n",
    "link1 = 'https://en.wikipedia.org/wiki/List_of_countries_by_GDP_(nominal)'\n",
    "sources1 = ['IMF[1][13]', 'World Bank[14]','United Nations[15]']\n",
    "link2 = 'https://en.wikipedia.org/wiki/List_of_countries_by_GDP_(PPP)'\n",
    "sources2 = ['IMF[1][5]', 'World Bank[6]', 'CIA[7][8][9]']\n",
    "link3 = 'https://en.wikipedia.org/wiki/List_of_countries_by_GDP_(nominal)_per_capita'\n",
    "sources3 = ['IMF[4][5]', 'World Bank[6]','United Nations[7]']"
   ]
  },
  {
   "cell_type": "code",
   "execution_count": 454,
   "id": "c5186107",
   "metadata": {},
   "outputs": [
    {
     "name": "stdout",
     "output_type": "stream",
     "text": [
      "GDP (USD million) by country\n"
     ]
    },
    {
     "data": {
      "text/html": [
       "<div>\n",
       "<style scoped>\n",
       "    .dataframe tbody tr th:only-of-type {\n",
       "        vertical-align: middle;\n",
       "    }\n",
       "\n",
       "    .dataframe tbody tr th {\n",
       "        vertical-align: top;\n",
       "    }\n",
       "\n",
       "    .dataframe thead th {\n",
       "        text-align: right;\n",
       "    }\n",
       "</style>\n",
       "<table border=\"1\" class=\"dataframe\">\n",
       "  <thead>\n",
       "    <tr style=\"text-align: right;\">\n",
       "      <th></th>\n",
       "      <th>Country/Territory</th>\n",
       "      <th>UN Region</th>\n",
       "      <th>Estimate</th>\n",
       "      <th>Year</th>\n",
       "    </tr>\n",
       "  </thead>\n",
       "  <tbody>\n",
       "    <tr>\n",
       "      <th>0</th>\n",
       "      <td>World</td>\n",
       "      <td>—</td>\n",
       "      <td>101,560,901</td>\n",
       "      <td>2022</td>\n",
       "    </tr>\n",
       "    <tr>\n",
       "      <th>1</th>\n",
       "      <td>United States</td>\n",
       "      <td>Americas</td>\n",
       "      <td>25,035,164</td>\n",
       "      <td>2022</td>\n",
       "    </tr>\n",
       "    <tr>\n",
       "      <th>2</th>\n",
       "      <td>China</td>\n",
       "      <td>Asia</td>\n",
       "      <td>18,321,197</td>\n",
       "      <td>2022</td>\n",
       "    </tr>\n",
       "    <tr>\n",
       "      <th>3</th>\n",
       "      <td>Japan</td>\n",
       "      <td>Asia</td>\n",
       "      <td>4,300,621</td>\n",
       "      <td>2022</td>\n",
       "    </tr>\n",
       "    <tr>\n",
       "      <th>4</th>\n",
       "      <td>Germany</td>\n",
       "      <td>Europe</td>\n",
       "      <td>4,031,149</td>\n",
       "      <td>2022</td>\n",
       "    </tr>\n",
       "    <tr>\n",
       "      <th>...</th>\n",
       "      <td>...</td>\n",
       "      <td>...</td>\n",
       "      <td>...</td>\n",
       "      <td>...</td>\n",
       "    </tr>\n",
       "    <tr>\n",
       "      <th>212</th>\n",
       "      <td>Palau</td>\n",
       "      <td>Oceania</td>\n",
       "      <td>226</td>\n",
       "      <td>2022</td>\n",
       "    </tr>\n",
       "    <tr>\n",
       "      <th>213</th>\n",
       "      <td>Kiribati</td>\n",
       "      <td>Oceania</td>\n",
       "      <td>207</td>\n",
       "      <td>2022</td>\n",
       "    </tr>\n",
       "    <tr>\n",
       "      <th>214</th>\n",
       "      <td>Nauru</td>\n",
       "      <td>Oceania</td>\n",
       "      <td>134</td>\n",
       "      <td>2022</td>\n",
       "    </tr>\n",
       "    <tr>\n",
       "      <th>215</th>\n",
       "      <td>Montserrat</td>\n",
       "      <td>Americas</td>\n",
       "      <td>—</td>\n",
       "      <td>—</td>\n",
       "    </tr>\n",
       "    <tr>\n",
       "      <th>216</th>\n",
       "      <td>Tuvalu</td>\n",
       "      <td>Oceania</td>\n",
       "      <td>64</td>\n",
       "      <td>2022</td>\n",
       "    </tr>\n",
       "  </tbody>\n",
       "</table>\n",
       "<p>217 rows × 4 columns</p>\n",
       "</div>"
      ],
      "text/plain": [
       "    Country/Territory UN Region     Estimate  Year\n",
       "0               World         —  101,560,901  2022\n",
       "1       United States  Americas   25,035,164  2022\n",
       "2               China      Asia   18,321,197  2022\n",
       "3               Japan      Asia    4,300,621  2022\n",
       "4             Germany    Europe    4,031,149  2022\n",
       "..                ...       ...          ...   ...\n",
       "212             Palau   Oceania          226  2022\n",
       "213          Kiribati   Oceania          207  2022\n",
       "214             Nauru   Oceania          134  2022\n",
       "215        Montserrat  Americas            —     —\n",
       "216            Tuvalu   Oceania           64  2022\n",
       "\n",
       "[217 rows x 4 columns]"
      ]
     },
     "execution_count": 454,
     "metadata": {},
     "output_type": "execute_result"
    }
   ],
   "source": [
    "print('GDP (USD million) by country')\n",
    "wikitodataframe(link1, sources1)"
   ]
  },
  {
   "cell_type": "code",
   "execution_count": 455,
   "id": "b9dc8a71",
   "metadata": {},
   "outputs": [
    {
     "name": "stdout",
     "output_type": "stream",
     "text": [
      "GDP (PPP, US$ million) by country or territory\n"
     ]
    },
    {
     "data": {
      "text/html": [
       "<div>\n",
       "<style scoped>\n",
       "    .dataframe tbody tr th:only-of-type {\n",
       "        vertical-align: middle;\n",
       "    }\n",
       "\n",
       "    .dataframe tbody tr th {\n",
       "        vertical-align: top;\n",
       "    }\n",
       "\n",
       "    .dataframe thead th {\n",
       "        text-align: right;\n",
       "    }\n",
       "</style>\n",
       "<table border=\"1\" class=\"dataframe\">\n",
       "  <thead>\n",
       "    <tr style=\"text-align: right;\">\n",
       "      <th></th>\n",
       "      <th>Country (or territory)</th>\n",
       "      <th>Region</th>\n",
       "      <th>Estimate</th>\n",
       "      <th>Year</th>\n",
       "    </tr>\n",
       "  </thead>\n",
       "  <tbody>\n",
       "    <tr>\n",
       "      <th>0</th>\n",
       "      <td>World</td>\n",
       "      <td>—</td>\n",
       "      <td>161,449,514</td>\n",
       "      <td>2022</td>\n",
       "    </tr>\n",
       "    <tr>\n",
       "      <th>1</th>\n",
       "      <td>China</td>\n",
       "      <td>Asia</td>\n",
       "      <td>30,074,380</td>\n",
       "      <td>2022</td>\n",
       "    </tr>\n",
       "    <tr>\n",
       "      <th>2</th>\n",
       "      <td>United States</td>\n",
       "      <td>Americas</td>\n",
       "      <td>25,035,164</td>\n",
       "      <td>2022</td>\n",
       "    </tr>\n",
       "    <tr>\n",
       "      <th>3</th>\n",
       "      <td>India</td>\n",
       "      <td>Asia</td>\n",
       "      <td>11,665,486</td>\n",
       "      <td>2022</td>\n",
       "    </tr>\n",
       "    <tr>\n",
       "      <th>4</th>\n",
       "      <td>Japan</td>\n",
       "      <td>Asia</td>\n",
       "      <td>6,109,961</td>\n",
       "      <td>2022</td>\n",
       "    </tr>\n",
       "    <tr>\n",
       "      <th>...</th>\n",
       "      <td>...</td>\n",
       "      <td>...</td>\n",
       "      <td>...</td>\n",
       "      <td>...</td>\n",
       "    </tr>\n",
       "    <tr>\n",
       "      <th>224</th>\n",
       "      <td>Tuvalu</td>\n",
       "      <td>Oceania</td>\n",
       "      <td>63</td>\n",
       "      <td>2022</td>\n",
       "    </tr>\n",
       "    <tr>\n",
       "      <th>225</th>\n",
       "      <td>Wallis and Futuna</td>\n",
       "      <td>Oceania</td>\n",
       "      <td>—</td>\n",
       "      <td>—</td>\n",
       "    </tr>\n",
       "    <tr>\n",
       "      <th>226</th>\n",
       "      <td>Saint Helena, Ascension and Tristan da Cunha</td>\n",
       "      <td>Africa</td>\n",
       "      <td>—</td>\n",
       "      <td>—</td>\n",
       "    </tr>\n",
       "    <tr>\n",
       "      <th>227</th>\n",
       "      <td>Niue</td>\n",
       "      <td>Oceania</td>\n",
       "      <td>—</td>\n",
       "      <td>—</td>\n",
       "    </tr>\n",
       "    <tr>\n",
       "      <th>228</th>\n",
       "      <td>Tokelau</td>\n",
       "      <td>Oceania</td>\n",
       "      <td>—</td>\n",
       "      <td>—</td>\n",
       "    </tr>\n",
       "  </tbody>\n",
       "</table>\n",
       "<p>229 rows × 4 columns</p>\n",
       "</div>"
      ],
      "text/plain": [
       "                           Country (or territory)    Region     Estimate  Year\n",
       "0                                           World         —  161,449,514  2022\n",
       "1                                           China      Asia   30,074,380  2022\n",
       "2                                   United States  Americas   25,035,164  2022\n",
       "3                                           India      Asia   11,665,486  2022\n",
       "4                                           Japan      Asia    6,109,961  2022\n",
       "..                                            ...       ...          ...   ...\n",
       "224                                        Tuvalu   Oceania           63  2022\n",
       "225                             Wallis and Futuna   Oceania            —     —\n",
       "226  Saint Helena, Ascension and Tristan da Cunha    Africa            —     —\n",
       "227                                          Niue   Oceania            —     —\n",
       "228                                       Tokelau   Oceania            —     —\n",
       "\n",
       "[229 rows x 4 columns]"
      ]
     },
     "execution_count": 455,
     "metadata": {},
     "output_type": "execute_result"
    }
   ],
   "source": [
    "print('GDP (PPP, US$ million) by country or territory')\n",
    "wikitodataframe(link2, sources2)"
   ]
  },
  {
   "cell_type": "code",
   "execution_count": 456,
   "id": "a19f0389",
   "metadata": {},
   "outputs": [
    {
     "name": "stdout",
     "output_type": "stream",
     "text": [
      "GDP (in USD) per capita by country (including  territories, and countries not included in the IMF report )\n"
     ]
    },
    {
     "data": {
      "text/html": [
       "<div>\n",
       "<style scoped>\n",
       "    .dataframe tbody tr th:only-of-type {\n",
       "        vertical-align: middle;\n",
       "    }\n",
       "\n",
       "    .dataframe tbody tr th {\n",
       "        vertical-align: top;\n",
       "    }\n",
       "\n",
       "    .dataframe thead th {\n",
       "        text-align: right;\n",
       "    }\n",
       "</style>\n",
       "<table border=\"1\" class=\"dataframe\">\n",
       "  <thead>\n",
       "    <tr style=\"text-align: right;\">\n",
       "      <th></th>\n",
       "      <th>Country/Territory</th>\n",
       "      <th>UN Region</th>\n",
       "      <th>Estimate</th>\n",
       "      <th>Year</th>\n",
       "    </tr>\n",
       "  </thead>\n",
       "  <tbody>\n",
       "    <tr>\n",
       "      <th>0</th>\n",
       "      <td>Monaco</td>\n",
       "      <td>Europe</td>\n",
       "      <td>—</td>\n",
       "      <td>—</td>\n",
       "    </tr>\n",
       "    <tr>\n",
       "      <th>1</th>\n",
       "      <td>Liechtenstein</td>\n",
       "      <td>Europe</td>\n",
       "      <td>—</td>\n",
       "      <td>—</td>\n",
       "    </tr>\n",
       "    <tr>\n",
       "      <th>2</th>\n",
       "      <td>Luxembourg</td>\n",
       "      <td>Europe</td>\n",
       "      <td>127,673</td>\n",
       "      <td>2022</td>\n",
       "    </tr>\n",
       "    <tr>\n",
       "      <th>3</th>\n",
       "      <td>Bermuda</td>\n",
       "      <td>Americas</td>\n",
       "      <td>—</td>\n",
       "      <td>—</td>\n",
       "    </tr>\n",
       "    <tr>\n",
       "      <th>4</th>\n",
       "      <td>Ireland</td>\n",
       "      <td>Europe</td>\n",
       "      <td>102,217</td>\n",
       "      <td>2022</td>\n",
       "    </tr>\n",
       "    <tr>\n",
       "      <th>...</th>\n",
       "      <td>...</td>\n",
       "      <td>...</td>\n",
       "      <td>...</td>\n",
       "      <td>...</td>\n",
       "    </tr>\n",
       "    <tr>\n",
       "      <th>217</th>\n",
       "      <td>Central African Republic</td>\n",
       "      <td>Africa</td>\n",
       "      <td>496</td>\n",
       "      <td>2022</td>\n",
       "    </tr>\n",
       "    <tr>\n",
       "      <th>218</th>\n",
       "      <td>Sierra Leone</td>\n",
       "      <td>Africa</td>\n",
       "      <td>494</td>\n",
       "      <td>2022</td>\n",
       "    </tr>\n",
       "    <tr>\n",
       "      <th>219</th>\n",
       "      <td>Afghanistan</td>\n",
       "      <td>Asia</td>\n",
       "      <td>611</td>\n",
       "      <td>2020</td>\n",
       "    </tr>\n",
       "    <tr>\n",
       "      <th>220</th>\n",
       "      <td>South Sudan</td>\n",
       "      <td>Africa</td>\n",
       "      <td>328</td>\n",
       "      <td>2022</td>\n",
       "    </tr>\n",
       "    <tr>\n",
       "      <th>221</th>\n",
       "      <td>Burundi</td>\n",
       "      <td>Africa</td>\n",
       "      <td>293</td>\n",
       "      <td>2022</td>\n",
       "    </tr>\n",
       "  </tbody>\n",
       "</table>\n",
       "<p>222 rows × 4 columns</p>\n",
       "</div>"
      ],
      "text/plain": [
       "            Country/Territory UN Region Estimate  Year\n",
       "0                      Monaco    Europe        —     —\n",
       "1               Liechtenstein    Europe        —     —\n",
       "2                  Luxembourg    Europe  127,673  2022\n",
       "3                     Bermuda  Americas        —     —\n",
       "4                     Ireland    Europe  102,217  2022\n",
       "..                        ...       ...      ...   ...\n",
       "217  Central African Republic    Africa      496  2022\n",
       "218              Sierra Leone    Africa      494  2022\n",
       "219               Afghanistan      Asia      611  2020\n",
       "220               South Sudan    Africa      328  2022\n",
       "221                   Burundi    Africa      293  2022\n",
       "\n",
       "[222 rows x 4 columns]"
      ]
     },
     "execution_count": 456,
     "metadata": {},
     "output_type": "execute_result"
    }
   ],
   "source": [
    "print('GDP (in USD) per capita by country (including  territories, and countries not included in the IMF report )')\n",
    "wikitodataframe(link3, sources3)"
   ]
  },
  {
   "cell_type": "code",
   "execution_count": 443,
   "id": "24f4e782",
   "metadata": {},
   "outputs": [
    {
     "data": {
      "text/html": [
       "<div>\n",
       "<style scoped>\n",
       "    .dataframe tbody tr th:only-of-type {\n",
       "        vertical-align: middle;\n",
       "    }\n",
       "\n",
       "    .dataframe tbody tr th {\n",
       "        vertical-align: top;\n",
       "    }\n",
       "\n",
       "    .dataframe thead th {\n",
       "        text-align: right;\n",
       "    }\n",
       "</style>\n",
       "<table border=\"1\" class=\"dataframe\">\n",
       "  <thead>\n",
       "    <tr style=\"text-align: right;\">\n",
       "      <th></th>\n",
       "      <th>Country/Territory</th>\n",
       "      <th>UN Region</th>\n",
       "      <th>Estimate</th>\n",
       "      <th>Year</th>\n",
       "    </tr>\n",
       "  </thead>\n",
       "  <tbody>\n",
       "    <tr>\n",
       "      <th>144</th>\n",
       "      <td>Moldova</td>\n",
       "      <td>Europe</td>\n",
       "      <td>14,048</td>\n",
       "      <td>2022</td>\n",
       "    </tr>\n",
       "  </tbody>\n",
       "</table>\n",
       "</div>"
      ],
      "text/plain": [
       "    Country/Territory UN Region Estimate  Year\n",
       "144           Moldova    Europe   14,048  2022"
      ]
     },
     "execution_count": 443,
     "metadata": {},
     "output_type": "execute_result"
    }
   ],
   "source": [
    "# making sure that the hyperlinks were completely replaced by checking an edge case where the hyperlink number was double\n",
    "# digits, not visible on the dataframe currently\n",
    "df1 = wikitodataframe(link1, sources1)\n",
    "df1.loc[df1['Country/Territory'] == 'Moldova']"
   ]
  },
  {
   "cell_type": "markdown",
   "id": "321bfca6",
   "metadata": {},
   "source": [
    "**Final Thoughts:** In order to perform data analysis on this data set, I will have to convert the columns into integers because the values are currently stored as strings due to the fact of the hyperlinks forcibly converting the values to string."
   ]
  },
  {
   "cell_type": "markdown",
   "id": "87b09254",
   "metadata": {},
   "source": [
    "**2. Data Wrangling with Python: Activity 8, page 233**"
   ]
  },
  {
   "cell_type": "code",
   "execution_count": 459,
   "id": "5c08eaa1",
   "metadata": {},
   "outputs": [
    {
     "data": {
      "text/html": [
       "<div>\n",
       "<style scoped>\n",
       "    .dataframe tbody tr th:only-of-type {\n",
       "        vertical-align: middle;\n",
       "    }\n",
       "\n",
       "    .dataframe tbody tr th {\n",
       "        vertical-align: top;\n",
       "    }\n",
       "\n",
       "    .dataframe thead th {\n",
       "        text-align: right;\n",
       "    }\n",
       "</style>\n",
       "<table border=\"1\" class=\"dataframe\">\n",
       "  <thead>\n",
       "    <tr style=\"text-align: right;\">\n",
       "      <th></th>\n",
       "      <th>id</th>\n",
       "      <th>first_name</th>\n",
       "      <th>last_name</th>\n",
       "      <th>email</th>\n",
       "      <th>gender</th>\n",
       "      <th>ip_address</th>\n",
       "      <th>visit</th>\n",
       "    </tr>\n",
       "  </thead>\n",
       "  <tbody>\n",
       "    <tr>\n",
       "      <th>0</th>\n",
       "      <td>1</td>\n",
       "      <td>Sonny</td>\n",
       "      <td>Dahl</td>\n",
       "      <td>sdahl0@mysql.com</td>\n",
       "      <td>Male</td>\n",
       "      <td>135.36.96.183</td>\n",
       "      <td>1225.0</td>\n",
       "    </tr>\n",
       "    <tr>\n",
       "      <th>1</th>\n",
       "      <td>2</td>\n",
       "      <td>NaN</td>\n",
       "      <td>NaN</td>\n",
       "      <td>dhoovart1@hud.gov</td>\n",
       "      <td>NaN</td>\n",
       "      <td>237.165.194.143</td>\n",
       "      <td>919.0</td>\n",
       "    </tr>\n",
       "    <tr>\n",
       "      <th>2</th>\n",
       "      <td>3</td>\n",
       "      <td>Gar</td>\n",
       "      <td>Armal</td>\n",
       "      <td>garmal2@technorati.com</td>\n",
       "      <td>NaN</td>\n",
       "      <td>166.43.137.224</td>\n",
       "      <td>271.0</td>\n",
       "    </tr>\n",
       "    <tr>\n",
       "      <th>3</th>\n",
       "      <td>4</td>\n",
       "      <td>Chiarra</td>\n",
       "      <td>Nulty</td>\n",
       "      <td>cnulty3@newyorker.com</td>\n",
       "      <td>NaN</td>\n",
       "      <td>139.98.137.108</td>\n",
       "      <td>1002.0</td>\n",
       "    </tr>\n",
       "    <tr>\n",
       "      <th>4</th>\n",
       "      <td>5</td>\n",
       "      <td>NaN</td>\n",
       "      <td>NaN</td>\n",
       "      <td>sleaver4@elegantthemes.com</td>\n",
       "      <td>NaN</td>\n",
       "      <td>46.117.117.27</td>\n",
       "      <td>2434.0</td>\n",
       "    </tr>\n",
       "    <tr>\n",
       "      <th>...</th>\n",
       "      <td>...</td>\n",
       "      <td>...</td>\n",
       "      <td>...</td>\n",
       "      <td>...</td>\n",
       "      <td>...</td>\n",
       "      <td>...</td>\n",
       "      <td>...</td>\n",
       "    </tr>\n",
       "    <tr>\n",
       "      <th>995</th>\n",
       "      <td>996</td>\n",
       "      <td>Averil</td>\n",
       "      <td>Pickover</td>\n",
       "      <td>apickoverrn@vk.com</td>\n",
       "      <td>Male</td>\n",
       "      <td>10.45.16.167</td>\n",
       "      <td>1305.0</td>\n",
       "    </tr>\n",
       "    <tr>\n",
       "      <th>996</th>\n",
       "      <td>997</td>\n",
       "      <td>Walton</td>\n",
       "      <td>Hallewell</td>\n",
       "      <td>whallewellro@nasa.gov</td>\n",
       "      <td>NaN</td>\n",
       "      <td>231.224.238.232</td>\n",
       "      <td>2531.0</td>\n",
       "    </tr>\n",
       "    <tr>\n",
       "      <th>997</th>\n",
       "      <td>998</td>\n",
       "      <td>NaN</td>\n",
       "      <td>NaN</td>\n",
       "      <td>ggallamorerp@meetup.com</td>\n",
       "      <td>Female</td>\n",
       "      <td>118.65.94.40</td>\n",
       "      <td>NaN</td>\n",
       "    </tr>\n",
       "    <tr>\n",
       "      <th>998</th>\n",
       "      <td>999</td>\n",
       "      <td>Sapphira</td>\n",
       "      <td>Terron</td>\n",
       "      <td>sterronrq@wordpress.org</td>\n",
       "      <td>NaN</td>\n",
       "      <td>24.77.234.208</td>\n",
       "      <td>250.0</td>\n",
       "    </tr>\n",
       "    <tr>\n",
       "      <th>999</th>\n",
       "      <td>1000</td>\n",
       "      <td>NaN</td>\n",
       "      <td>NaN</td>\n",
       "      <td>jandreuzzirr@paginegialle.it</td>\n",
       "      <td>Male</td>\n",
       "      <td>211.136.66.144</td>\n",
       "      <td>2389.0</td>\n",
       "    </tr>\n",
       "  </tbody>\n",
       "</table>\n",
       "<p>1000 rows × 7 columns</p>\n",
       "</div>"
      ],
      "text/plain": [
       "       id first_name  last_name                         email  gender  \\\n",
       "0       1      Sonny       Dahl              sdahl0@mysql.com    Male   \n",
       "1       2        NaN        NaN             dhoovart1@hud.gov     NaN   \n",
       "2       3        Gar      Armal        garmal2@technorati.com     NaN   \n",
       "3       4    Chiarra      Nulty         cnulty3@newyorker.com     NaN   \n",
       "4       5        NaN        NaN    sleaver4@elegantthemes.com     NaN   \n",
       "..    ...        ...        ...                           ...     ...   \n",
       "995   996     Averil   Pickover            apickoverrn@vk.com    Male   \n",
       "996   997     Walton  Hallewell         whallewellro@nasa.gov     NaN   \n",
       "997   998        NaN        NaN       ggallamorerp@meetup.com  Female   \n",
       "998   999   Sapphira     Terron       sterronrq@wordpress.org     NaN   \n",
       "999  1000        NaN        NaN  jandreuzzirr@paginegialle.it    Male   \n",
       "\n",
       "          ip_address   visit  \n",
       "0      135.36.96.183  1225.0  \n",
       "1    237.165.194.143   919.0  \n",
       "2     166.43.137.224   271.0  \n",
       "3     139.98.137.108  1002.0  \n",
       "4      46.117.117.27  2434.0  \n",
       "..               ...     ...  \n",
       "995     10.45.16.167  1305.0  \n",
       "996  231.224.238.232  2531.0  \n",
       "997     118.65.94.40     NaN  \n",
       "998    24.77.234.208   250.0  \n",
       "999   211.136.66.144  2389.0  \n",
       "\n",
       "[1000 rows x 7 columns]"
      ]
     },
     "execution_count": 459,
     "metadata": {},
     "output_type": "execute_result"
    }
   ],
   "source": [
    "#1. Read the visit_data.csv\n",
    "df = pd.read_csv('visit_data.csv')\n",
    "df"
   ]
  },
  {
   "cell_type": "code",
   "execution_count": 468,
   "id": "09417244",
   "metadata": {},
   "outputs": [
    {
     "name": "stdout",
     "output_type": "stream",
     "text": [
      "False    680\n",
      "True     320\n",
      "Name: first_name, dtype: int64\n",
      "False    701\n",
      "True     299\n",
      "Name: last_name, dtype: int64\n",
      "False    1000\n",
      "Name: email, dtype: int64\n",
      "False    1000\n",
      "Name: ip_address, dtype: int64\n",
      "False    836\n",
      "True     164\n",
      "Name: visit, dtype: int64\n"
     ]
    }
   ],
   "source": [
    "#2. Check for duplicates\n",
    "print(df['first_name'].duplicated().value_counts())\n",
    "print(df['last_name'].duplicated().value_counts())\n",
    "print(df['email'].duplicated().value_counts())\n",
    "print(df['ip_address'].duplicated().value_counts())\n",
    "print(df['visit'].duplicated().value_counts())"
   ]
  },
  {
   "cell_type": "markdown",
   "id": "e9632bc0",
   "metadata": {},
   "source": [
    "It makes sense that there are duplicate first names and last names, but emails and ip_addresses are not duplicated. Visits also having the duplicates is also fine because people can visit an equal number of times."
   ]
  },
  {
   "cell_type": "code",
   "execution_count": 469,
   "id": "a4d78f48",
   "metadata": {},
   "outputs": [
    {
     "name": "stdout",
     "output_type": "stream",
     "text": [
      "False    1000\n",
      "Name: email, dtype: int64\n",
      "False    1000\n",
      "Name: ip_address, dtype: int64\n",
      "False    974\n",
      "True      26\n",
      "Name: visit, dtype: int64\n"
     ]
    }
   ],
   "source": [
    "#3. check any essential columns for NaN\n",
    "\n",
    "# the three essential columns are email, ip, and visits\n",
    "# having the names be None is fine because people aren't required to share their name\n",
    "\n",
    "print(df['email'].isnull().value_counts())\n",
    "print(df['ip_address'].isnull().value_counts())\n",
    "print(df['visit'].isnull().value_counts())"
   ]
  },
  {
   "cell_type": "markdown",
   "id": "a7cb828e",
   "metadata": {},
   "source": [
    "It appears that visit has some Nan values, so let's get rid of those."
   ]
  },
  {
   "cell_type": "code",
   "execution_count": 472,
   "id": "249bfa05",
   "metadata": {},
   "outputs": [],
   "source": [
    "#4. Get rid of the NaN\n",
    "new_df = df.dropna(subset=['visit'])"
   ]
  },
  {
   "cell_type": "code",
   "execution_count": 473,
   "id": "e82290f3",
   "metadata": {},
   "outputs": [
    {
     "name": "stdout",
     "output_type": "stream",
     "text": [
      "Before: (1000, 7) After: (974, 7)\n"
     ]
    }
   ],
   "source": [
    "#5. Report the size difference\n",
    "print('Before:', df.shape, 'After:', new_df.shape)"
   ]
  },
  {
   "cell_type": "code",
   "execution_count": 475,
   "id": "ded8fae1",
   "metadata": {},
   "outputs": [
    {
     "data": {
      "text/plain": [
       "{'whiskers': [<matplotlib.lines.Line2D at 0x1cb13a0f6a0>,\n",
       "  <matplotlib.lines.Line2D at 0x1cb13a0fa00>],\n",
       " 'caps': [<matplotlib.lines.Line2D at 0x1cb13a0fd60>,\n",
       "  <matplotlib.lines.Line2D at 0x1cb13a25100>],\n",
       " 'boxes': [<matplotlib.lines.Line2D at 0x1cb13a0f340>],\n",
       " 'medians': [<matplotlib.lines.Line2D at 0x1cb13a25460>],\n",
       " 'fliers': [<matplotlib.lines.Line2D at 0x1cb13a257c0>],\n",
       " 'means': []}"
      ]
     },
     "execution_count": 475,
     "metadata": {},
     "output_type": "execute_result"
    },
    {
     "data": {
      "image/png": "[encoded data removed]",
      "text/plain": [
       "<Figure size 432x288 with 1 Axes>"
      ]
     },
     "metadata": {
      "needs_background": "light"
     },
     "output_type": "display_data"
    }
   ],
   "source": [
    "#6. Create a boxplot to check for outliers\n",
    "plt.boxplot(new_df['visit'])"
   ]
  },
  {
   "cell_type": "code",
   "execution_count": 476,
   "id": "69664932",
   "metadata": {},
   "outputs": [
    {
     "data": {
      "text/plain": [
       "count     974.000000\n",
       "mean     1497.976386\n",
       "std       838.959460\n",
       "min         1.000000\n",
       "25%       794.500000\n",
       "50%      1477.000000\n",
       "75%      2224.250000\n",
       "max      2998.000000\n",
       "Name: visit, dtype: float64"
      ]
     },
     "execution_count": 476,
     "metadata": {},
     "output_type": "execute_result"
    }
   ],
   "source": [
    "# outliers are 1.5IQR above the 3rd Quartile and 1.5IQR below the 1st quartile\n",
    "new_df['visit'].describe()"
   ]
  },
  {
   "cell_type": "code",
   "execution_count": 484,
   "id": "18deffd3",
   "metadata": {},
   "outputs": [
    {
     "name": "stdout",
     "output_type": "stream",
     "text": [
      "4368.875 -1350.125\n"
     ]
    }
   ],
   "source": [
    "# the describe function shows that the first quartile is 794.5 and the third quartile is 2224.25. \n",
    "q1 = 794.5\n",
    "q3 = 2224.25\n",
    "iqr = q3-q1\n",
    "upper = q3 + 1.5 * iqr\n",
    "lower = q1 - 1.5 * iqr\n",
    "print(upper, lower)"
   ]
  },
  {
   "cell_type": "code",
   "execution_count": 483,
   "id": "7ea234a0",
   "metadata": {},
   "outputs": [
    {
     "data": {
      "text/plain": [
       "(974, 7)"
      ]
     },
     "execution_count": 483,
     "metadata": {},
     "output_type": "execute_result"
    }
   ],
   "source": [
    "#7. Get rid of any outliers\n",
    "final_df = new_df[(new_df['visit'] <= upper) & (new_df['visit'] >= lower)]\n",
    "final_df.shape"
   ]
  },
  {
   "cell_type": "markdown",
   "id": "b6584e06",
   "metadata": {},
   "source": [
    "It looks like the data is within the correct range of values and doesn't have outliers by default."
   ]
  },
  {
   "cell_type": "markdown",
   "id": "8a0bd9d5",
   "metadata": {},
   "source": [
    "**3. Insert data into a SQL Lite database – create a table with the following data below that you will create yourself**"
   ]
  },
  {
   "cell_type": "code",
   "execution_count": 485,
   "id": "0d089504",
   "metadata": {},
   "outputs": [],
   "source": [
    "# import library\n",
    "import sqlite3"
   ]
  },
  {
   "cell_type": "code",
   "execution_count": 500,
   "id": "93d14c89",
   "metadata": {},
   "outputs": [],
   "source": [
    "# initializing database, setting cursor, and creating 10 unique rows\n",
    "with sqlite3.connect(\"trial_table2.db\") as conn:\n",
    "    cursor = conn.cursor()\n",
    "    cursor.execute(\"CREATE TABLE IF NOT EXISTS user2 (phone_number integer, first_name text, last_name text, address text, city text, state text, zip integer)\")\n",
    "    cursor.execute(\"INSERT INTO user2 VALUES ('1234444444', 'Bob', 'Codd', '10 Cool Drive', 'Fantasy City', 'AL', '12345')\")\n",
    "    cursor.execute(\"INSERT INTO user2 VALUES ('987654321', 'Rob', 'Dodd', '11 Bad Circle', 'Imagine City', 'GA', '87654')\")\n",
    "    cursor.execute(\"INSERT INTO user2 VALUES ('5555555555', 'Dod', 'Tob', '55 LOL Road', 'Google', 'NY', '55555')\")\n",
    "    cursor.execute(\"INSERT INTO user2 VALUES ('6969696969', 'Wob', 'Sob', '69 Funny Pass', 'Hehe', 'CA', '23465')\")\n",
    "    cursor.execute(\"INSERT INTO user2 VALUES ('1010010001', 'Yob', 'Pob', '1010 Binary Drive', 'Why', 'AZ', '10010')\")\n",
    "    cursor.execute(\"INSERT INTO user2 VALUES ('4561237890', 'Lob', 'Gob', '9 Whoops Way', 'Where', 'TX', '99999')\")\n",
    "    cursor.execute(\"INSERT INTO user2 VALUES ('8008008008', 'Bobo', 'Obob', '808 Oceanview Street', 'Boboland', 'NY', '55556')\")\n",
    "    cursor.execute(\"INSERT INTO user2 VALUES ('4088044080', 'Hob', 'Boh', '88 Homeless Pass', 'Hoboland', 'NY', '55557')\")\n",
    "    cursor.execute(\"INSERT INTO user2 VALUES ('7777777777', 'Lucky', 'Ducky', '777 Luck Street', 'Vegas', 'NV', '88901')\")\n",
    "    cursor.execute(\"INSERT INTO user2 VALUES ('6000000000', 'Prob', 'Lem', '99 Problems Road', 'Issues', 'HI', '60000')\")\n",
    "    cursor.execute(\"INSERT INTO user2 VALUES ('5103039042', 'Rabul', 'Rajeel', '42 Heritage Way', 'Mounlain Houle', 'CA', '95392')\")\n",
    "    conn.commit()"
   ]
  },
  {
   "cell_type": "code",
   "execution_count": 501,
   "id": "80a67cdc",
   "metadata": {},
   "outputs": [
    {
     "name": "stdout",
     "output_type": "stream",
     "text": [
      "(1234444444, 'Bob', 'Codd', '10 Cool Drive', 'Fantasy City', 'AL', 12345)\n",
      "(987654321, 'Rob', 'Dodd', '11 Bad Circle', 'Imagine City', 'GA', 87654)\n",
      "(5555555555, 'Dod', 'Tob', '55 LOL Road', 'Google', 'NY', 55555)\n",
      "(6969696969, 'Wob', 'Sob', '69 Funny Pass', 'Hehe', 'CA', 23465)\n",
      "(1010010001, 'Yob', 'Pob', '1010 Binary Drive', 'Why', 'AZ', 10010)\n",
      "(4561237890, 'Lob', 'Gob', '9 Whoops Way', 'Where', 'TX', 99999)\n",
      "(8008008008, 'Bobo', 'Obob', '808 Oceanview Street', 'Boboland', 'NY', 55556)\n",
      "(4088044080, 'Hob', 'Boh', '88 Homeless Pass', 'Hoboland', 'NY', 55557)\n",
      "(7777777777, 'Lucky', 'Ducky', '777 Luck Street', 'Vegas', 'NV', 88901)\n",
      "(6000000000, 'Prob', 'Lem', '99 Problems Road', 'Issues', 'HI', 60000)\n",
      "(5103039042, 'Rabul', 'Rajeel', '42 Heritage Way', 'Mounlain Houle', 'CA', 95392)\n"
     ]
    }
   ],
   "source": [
    "# querying for proof\n",
    "with sqlite3.connect(\"trial_table2.db\") as conn:\n",
    "    cursor = conn.cursor()\n",
    "    rows = cursor.execute('SELECT * from user2')\n",
    "    for row in rows:\n",
    "        print(row)"
   ]
  },
  {
   "cell_type": "code",
   "execution_count": null,
   "id": "2f92f7ab",
   "metadata": {},
   "outputs": [],
   "source": []
  }
 ],
 "metadata": {
  "kernelspec": {
   "display_name": "Python 3",
   "language": "python",
   "name": "python3"
  },
  "language_info": {
   "codemirror_mode": {
    "name": "ipython",
    "version": 3
   },
   "file_extension": ".py",
   "mimetype": "text/x-python",
   "name": "python",
   "nbconvert_exporter": "python",
   "pygments_lexer": "ipython3",
   "version": "3.8.5"
  }
 },
 "nbformat": 4,
 "nbformat_minor": 5
}
